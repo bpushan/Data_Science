{
 "cells": [
  {
   "cell_type": "markdown",
   "metadata": {},
   "source": [
    "# Data Engineering: Staging_to_Curated\n"
   ]
  },
  {
   "cell_type": "markdown",
   "metadata": {},
   "source": [
    "#### Moving the data from the Staging to the Curated Zone\n",
    "Curated zone is the final point where data is loaded and it feeds the data to the Dashboard or AL/ML models.\n",
    "So, all feature engineering and relevant data manipulations would be done here before loading the data to the Curated zone."
   ]
  },
  {
   "cell_type": "code",
   "execution_count": null,
   "metadata": {
    "application/vnd.databricks.v1+cell": {
     "cellMetadata": {
      "byteLimit": 2048000,
      "rowLimit": 10000
     },
     "inputWidgets": {},
     "nuid": "4c88152c-057d-4c91-a558-90c40692789a",
     "showTitle": false,
     "title": ""
    },
    "vscode": {
     "languageId": "python"
    }
   },
   "outputs": [],
   "source": [
    "from pyspark.sql.functions import *\n",
    "from pyspark.sql.window import Window\n",
    "from pyspark.sql.types import DoubleType, ArrayType"
   ]
  },
  {
   "cell_type": "markdown",
   "metadata": {},
   "source": [
    "##### We have run the Notebook many times to get the final outputs, it is wise to drop the curated database before rerunning to avoid errors. "
   ]
  },
  {
   "cell_type": "code",
   "execution_count": null,
   "metadata": {
    "application/vnd.databricks.v1+cell": {
     "cellMetadata": {
      "byteLimit": 2048000,
      "implicitDf": true,
      "rowLimit": 10000
     },
     "inputWidgets": {},
     "nuid": "538000ff-2715-401e-babf-076fde151056",
     "showTitle": false,
     "title": ""
    },
    "vscode": {
     "languageId": "python"
    }
   },
   "outputs": [
    {
     "data": {
      "text/html": [
       "<style scoped>\n",
       "  .table-result-container {\n",
       "    max-height: 300px;\n",
       "    overflow: auto;\n",
       "  }\n",
       "  table, th, td {\n",
       "    border: 1px solid black;\n",
       "    border-collapse: collapse;\n",
       "  }\n",
       "  th, td {\n",
       "    padding: 5px;\n",
       "  }\n",
       "  th {\n",
       "    text-align: left;\n",
       "  }\n",
       "</style><div class='table-result-container'><table class='table-result'><thead style='background-color: white'><tr></tr></thead><tbody></tbody></table></div>"
      ]
     },
     "metadata": {
      "application/vnd.databricks.v1+output": {
       "addedWidgets": {},
       "aggData": [],
       "aggError": "",
       "aggOverflow": false,
       "aggSchema": [],
       "aggSeriesLimitReached": false,
       "aggType": "",
       "arguments": {},
       "columnCustomDisplayInfos": {},
       "data": [],
       "datasetInfos": [],
       "dbfsResultPath": null,
       "isJsonSchema": true,
       "metadata": {},
       "overflow": false,
       "plotOptions": {
        "customPlotOptions": {},
        "displayType": "table",
        "pivotAggregation": null,
        "pivotColumns": null,
        "xColumns": null,
        "yColumns": null
       },
       "removedWidgets": [],
       "schema": [],
       "type": "table"
      }
     },
     "output_type": "display_data"
    }
   ],
   "source": [
    "%sql \n",
    "-- This cell will remove everything from the staging database \n",
    "DROP DATABASE IF EXISTS curated CASCADE;"
   ]
  },
  {
   "cell_type": "code",
   "execution_count": null,
   "metadata": {
    "application/vnd.databricks.v1+cell": {
     "cellMetadata": {
      "byteLimit": 2048000,
      "rowLimit": 10000
     },
     "inputWidgets": {},
     "nuid": "7bb098a5-d0e3-47fc-ba19-4952738d1dc3",
     "showTitle": false,
     "title": ""
    },
    "vscode": {
     "languageId": "python"
    }
   },
   "outputs": [],
   "source": [
    "spark.conf.set(\"spark.sql.legacy.timeParserPolicy\",\"LEGACY\")"
   ]
  },
  {
   "cell_type": "markdown",
   "metadata": {},
   "source": [
    "#### Checking the tables created in the Staging Zone, to be used here."
   ]
  },
  {
   "cell_type": "code",
   "execution_count": null,
   "metadata": {
    "application/vnd.databricks.v1+cell": {
     "cellMetadata": {
      "byteLimit": 2048000,
      "implicitDf": true,
      "rowLimit": 10000
     },
     "inputWidgets": {},
     "nuid": "1a43f55f-9199-4c9e-b7cc-171915c27326",
     "showTitle": false,
     "title": ""
    },
    "vscode": {
     "languageId": "python"
    }
   },
   "outputs": [
    {
     "data": {
      "text/html": [
       "<style scoped>\n",
       "  .table-result-container {\n",
       "    max-height: 300px;\n",
       "    overflow: auto;\n",
       "  }\n",
       "  table, th, td {\n",
       "    border: 1px solid black;\n",
       "    border-collapse: collapse;\n",
       "  }\n",
       "  th, td {\n",
       "    padding: 5px;\n",
       "  }\n",
       "  th {\n",
       "    text-align: left;\n",
       "  }\n",
       "</style><div class='table-result-container'><table class='table-result'><thead style='background-color: white'><tr><th>database</th><th>tableName</th><th>isTemporary</th></tr></thead><tbody><tr><td>staging</td><td>customers</td><td>false</td></tr><tr><td>staging</td><td>orders</td><td>false</td></tr></tbody></table></div>"
      ]
     },
     "metadata": {
      "application/vnd.databricks.v1+output": {
       "addedWidgets": {},
       "aggData": [],
       "aggError": "",
       "aggOverflow": false,
       "aggSchema": [],
       "aggSeriesLimitReached": false,
       "aggType": "",
       "arguments": {},
       "columnCustomDisplayInfos": {},
       "data": [
        [
         "staging",
         "customers",
         false
        ],
        [
         "staging",
         "orders",
         false
        ]
       ],
       "datasetInfos": [],
       "dbfsResultPath": null,
       "isJsonSchema": true,
       "metadata": {},
       "overflow": false,
       "plotOptions": {
        "customPlotOptions": {},
        "displayType": "table",
        "pivotAggregation": null,
        "pivotColumns": null,
        "xColumns": null,
        "yColumns": null
       },
       "removedWidgets": [],
       "schema": [
        {
         "metadata": "{}",
         "name": "database",
         "type": "\"string\""
        },
        {
         "metadata": "{}",
         "name": "tableName",
         "type": "\"string\""
        },
        {
         "metadata": "{}",
         "name": "isTemporary",
         "type": "\"boolean\""
        }
       ],
       "type": "table"
      }
     },
     "output_type": "display_data"
    }
   ],
   "source": [
    "%sql\n",
    "USE staging;\n",
    "SHOW TABLES;"
   ]
  },
  {
   "cell_type": "markdown",
   "metadata": {},
   "source": [
    "#### Checking the table layout as on Staging zone."
   ]
  },
  {
   "cell_type": "code",
   "execution_count": null,
   "metadata": {
    "application/vnd.databricks.v1+cell": {
     "cellMetadata": {
      "byteLimit": 2048000,
      "implicitDf": true,
      "rowLimit": 10000
     },
     "inputWidgets": {},
     "nuid": "c11d48a4-1c4c-4292-80c0-2af8ba03b218",
     "showTitle": false,
     "title": ""
    },
    "vscode": {
     "languageId": "python"
    }
   },
   "outputs": [
    {
     "data": {
      "text/html": [
       "<style scoped>\n",
       "  .table-result-container {\n",
       "    max-height: 300px;\n",
       "    overflow: auto;\n",
       "  }\n",
       "  table, th, td {\n",
       "    border: 1px solid black;\n",
       "    border-collapse: collapse;\n",
       "  }\n",
       "  th, td {\n",
       "    padding: 5px;\n",
       "  }\n",
       "  th {\n",
       "    text-align: left;\n",
       "  }\n",
       "</style><div class='table-result-container'><table class='table-result'><thead style='background-color: white'><tr><th>col_name</th><th>data_type</th><th>comment</th></tr></thead><tbody><tr><td>Index</td><td>int</td><td>null</td></tr><tr><td>Order_Id</td><td>int</td><td>null</td></tr><tr><td>Order_Date</td><td>date</td><td>null</td></tr><tr><td>Item_Id</td><td>string</td><td>null</td></tr><tr><td>Qty_Ordered</td><td>int</td><td>null</td></tr><tr><td>Price</td><td>string</td><td>null</td></tr><tr><td>Value</td><td>string</td><td>null</td></tr><tr><td>Discount_Amount</td><td>string</td><td>null</td></tr><tr><td>Total</td><td>string</td><td>null</td></tr><tr><td>Category</td><td>string</td><td>null</td></tr><tr><td>Payment_Method</td><td>string</td><td>null</td></tr><tr><td>Cust_Id</td><td>int</td><td>null</td></tr><tr><td>Final_Status</td><td>string</td><td>null</td></tr><tr><td>Year_Month</td><td>string</td><td>null</td></tr><tr><td># Partition Information</td><td></td><td></td></tr><tr><td># col_name</td><td>data_type</td><td>comment</td></tr><tr><td>Year_Month</td><td>string</td><td>null</td></tr><tr><td></td><td></td><td></td></tr><tr><td># Detailed Table Information</td><td></td><td></td></tr><tr><td>Catalog</td><td>spark_catalog</td><td></td></tr><tr><td>Database</td><td>staging</td><td></td></tr><tr><td>Table</td><td>orders</td><td></td></tr><tr><td>Owner</td><td>root</td><td></td></tr><tr><td>Created Time</td><td>Thu Aug 15 18:13:34 UTC 2024</td><td></td></tr><tr><td>Last Access</td><td>UNKNOWN</td><td></td></tr><tr><td>Created By</td><td>Spark 3.3.2</td><td></td></tr><tr><td>Type</td><td>MANAGED</td><td></td></tr><tr><td>Provider</td><td>parquet</td><td></td></tr><tr><td>Location</td><td>dbfs:/user/hive/warehouse/staging.db/orders</td><td></td></tr><tr><td>Serde Library</td><td>org.apache.hadoop.hive.serde2.lazy.LazySimpleSerDe</td><td></td></tr><tr><td>InputFormat</td><td>org.apache.hadoop.mapred.SequenceFileInputFormat</td><td></td></tr><tr><td>OutputFormat</td><td>org.apache.hadoop.hive.ql.io.HiveSequenceFileOutputFormat</td><td></td></tr><tr><td>Partition Provider</td><td>Catalog</td><td></td></tr></tbody></table></div>"
      ]
     },
     "metadata": {
      "application/vnd.databricks.v1+output": {
       "addedWidgets": {},
       "aggData": [],
       "aggError": "",
       "aggOverflow": false,
       "aggSchema": [],
       "aggSeriesLimitReached": false,
       "aggType": "",
       "arguments": {},
       "columnCustomDisplayInfos": {},
       "data": [
        [
         "Index",
         "int",
         null
        ],
        [
         "Order_Id",
         "int",
         null
        ],
        [
         "Order_Date",
         "date",
         null
        ],
        [
         "Item_Id",
         "string",
         null
        ],
        [
         "Qty_Ordered",
         "int",
         null
        ],
        [
         "Price",
         "string",
         null
        ],
        [
         "Value",
         "string",
         null
        ],
        [
         "Discount_Amount",
         "string",
         null
        ],
        [
         "Total",
         "string",
         null
        ],
        [
         "Category",
         "string",
         null
        ],
        [
         "Payment_Method",
         "string",
         null
        ],
        [
         "Cust_Id",
         "int",
         null
        ],
        [
         "Final_Status",
         "string",
         null
        ],
        [
         "Year_Month",
         "string",
         null
        ],
        [
         "# Partition Information",
         "",
         ""
        ],
        [
         "# col_name",
         "data_type",
         "comment"
        ],
        [
         "Year_Month",
         "string",
         null
        ],
        [
         "",
         "",
         ""
        ],
        [
         "# Detailed Table Information",
         "",
         ""
        ],
        [
         "Catalog",
         "spark_catalog",
         ""
        ],
        [
         "Database",
         "staging",
         ""
        ],
        [
         "Table",
         "orders",
         ""
        ],
        [
         "Owner",
         "root",
         ""
        ],
        [
         "Created Time",
         "Thu Aug 15 18:13:34 UTC 2024",
         ""
        ],
        [
         "Last Access",
         "UNKNOWN",
         ""
        ],
        [
         "Created By",
         "Spark 3.3.2",
         ""
        ],
        [
         "Type",
         "MANAGED",
         ""
        ],
        [
         "Provider",
         "parquet",
         ""
        ],
        [
         "Location",
         "dbfs:/user/hive/warehouse/staging.db/orders",
         ""
        ],
        [
         "Serde Library",
         "org.apache.hadoop.hive.serde2.lazy.LazySimpleSerDe",
         ""
        ],
        [
         "InputFormat",
         "org.apache.hadoop.mapred.SequenceFileInputFormat",
         ""
        ],
        [
         "OutputFormat",
         "org.apache.hadoop.hive.ql.io.HiveSequenceFileOutputFormat",
         ""
        ],
        [
         "Partition Provider",
         "Catalog",
         ""
        ]
       ],
       "datasetInfos": [],
       "dbfsResultPath": null,
       "isJsonSchema": true,
       "metadata": {},
       "overflow": false,
       "plotOptions": {
        "customPlotOptions": {},
        "displayType": "table",
        "pivotAggregation": null,
        "pivotColumns": null,
        "xColumns": null,
        "yColumns": null
       },
       "removedWidgets": [],
       "schema": [
        {
         "metadata": "{\"comment\":\"name of the column\"}",
         "name": "col_name",
         "type": "\"string\""
        },
        {
         "metadata": "{\"comment\":\"data type of the column\"}",
         "name": "data_type",
         "type": "\"string\""
        },
        {
         "metadata": "{\"comment\":\"comment of the column\"}",
         "name": "comment",
         "type": "\"string\""
        }
       ],
       "type": "table"
      }
     },
     "output_type": "display_data"
    }
   ],
   "source": [
    "%sql\n",
    "describe formatted staging.orders;"
   ]
  },
  {
   "cell_type": "markdown",
   "metadata": {},
   "source": [
    "#### Checking if the Orders table have any versions, we will use the latest version."
   ]
  },
  {
   "cell_type": "code",
   "execution_count": null,
   "metadata": {
    "application/vnd.databricks.v1+cell": {
     "cellMetadata": {
      "byteLimit": 2048000,
      "rowLimit": 10000
     },
     "inputWidgets": {},
     "nuid": "d6608c76-fb3f-4046-b6e3-a06bf056aec1",
     "showTitle": false,
     "title": ""
    },
    "vscode": {
     "languageId": "python"
    }
   },
   "outputs": [
    {
     "data": {
      "text/html": [
       "<style scoped>\n",
       "  .table-result-container {\n",
       "    max-height: 300px;\n",
       "    overflow: auto;\n",
       "  }\n",
       "  table, th, td {\n",
       "    border: 1px solid black;\n",
       "    border-collapse: collapse;\n",
       "  }\n",
       "  th, td {\n",
       "    padding: 5px;\n",
       "  }\n",
       "  th {\n",
       "    text-align: left;\n",
       "  }\n",
       "</style><div class='table-result-container'><table class='table-result'><thead style='background-color: white'><tr><th>path</th><th>name</th><th>size</th><th>modificationTime</th></tr></thead><tbody><tr><td>dbfs:/user/hive/warehouse/staging.db/orders/Year_Month=2020-10/</td><td>Year_Month=2020-10/</td><td>0</td><td>0</td></tr><tr><td>dbfs:/user/hive/warehouse/staging.db/orders/Year_Month=2020-11/</td><td>Year_Month=2020-11/</td><td>0</td><td>0</td></tr><tr><td>dbfs:/user/hive/warehouse/staging.db/orders/Year_Month=2020-12/</td><td>Year_Month=2020-12/</td><td>0</td><td>0</td></tr><tr><td>dbfs:/user/hive/warehouse/staging.db/orders/Year_Month=2021-01/</td><td>Year_Month=2021-01/</td><td>0</td><td>0</td></tr><tr><td>dbfs:/user/hive/warehouse/staging.db/orders/Year_Month=2021-02/</td><td>Year_Month=2021-02/</td><td>0</td><td>0</td></tr><tr><td>dbfs:/user/hive/warehouse/staging.db/orders/Year_Month=2021-03/</td><td>Year_Month=2021-03/</td><td>0</td><td>0</td></tr><tr><td>dbfs:/user/hive/warehouse/staging.db/orders/Year_Month=2021-04/</td><td>Year_Month=2021-04/</td><td>0</td><td>0</td></tr><tr><td>dbfs:/user/hive/warehouse/staging.db/orders/Year_Month=2021-05/</td><td>Year_Month=2021-05/</td><td>0</td><td>0</td></tr><tr><td>dbfs:/user/hive/warehouse/staging.db/orders/Year_Month=2021-06/</td><td>Year_Month=2021-06/</td><td>0</td><td>0</td></tr><tr><td>dbfs:/user/hive/warehouse/staging.db/orders/Year_Month=2021-07/</td><td>Year_Month=2021-07/</td><td>0</td><td>0</td></tr><tr><td>dbfs:/user/hive/warehouse/staging.db/orders/Year_Month=2021-08/</td><td>Year_Month=2021-08/</td><td>0</td><td>0</td></tr><tr><td>dbfs:/user/hive/warehouse/staging.db/orders/Year_Month=2021-09/</td><td>Year_Month=2021-09/</td><td>0</td><td>0</td></tr><tr><td>dbfs:/user/hive/warehouse/staging.db/orders/_SUCCESS</td><td>_SUCCESS</td><td>0</td><td>1723745667000</td></tr></tbody></table></div>"
      ]
     },
     "metadata": {
      "application/vnd.databricks.v1+output": {
       "addedWidgets": {},
       "aggData": [],
       "aggError": "",
       "aggOverflow": false,
       "aggSchema": [],
       "aggSeriesLimitReached": false,
       "aggType": "",
       "arguments": {},
       "columnCustomDisplayInfos": {},
       "data": [
        [
         "dbfs:/user/hive/warehouse/staging.db/orders/Year_Month=2020-10/",
         "Year_Month=2020-10/",
         0,
         0
        ],
        [
         "dbfs:/user/hive/warehouse/staging.db/orders/Year_Month=2020-11/",
         "Year_Month=2020-11/",
         0,
         0
        ],
        [
         "dbfs:/user/hive/warehouse/staging.db/orders/Year_Month=2020-12/",
         "Year_Month=2020-12/",
         0,
         0
        ],
        [
         "dbfs:/user/hive/warehouse/staging.db/orders/Year_Month=2021-01/",
         "Year_Month=2021-01/",
         0,
         0
        ],
        [
         "dbfs:/user/hive/warehouse/staging.db/orders/Year_Month=2021-02/",
         "Year_Month=2021-02/",
         0,
         0
        ],
        [
         "dbfs:/user/hive/warehouse/staging.db/orders/Year_Month=2021-03/",
         "Year_Month=2021-03/",
         0,
         0
        ],
        [
         "dbfs:/user/hive/warehouse/staging.db/orders/Year_Month=2021-04/",
         "Year_Month=2021-04/",
         0,
         0
        ],
        [
         "dbfs:/user/hive/warehouse/staging.db/orders/Year_Month=2021-05/",
         "Year_Month=2021-05/",
         0,
         0
        ],
        [
         "dbfs:/user/hive/warehouse/staging.db/orders/Year_Month=2021-06/",
         "Year_Month=2021-06/",
         0,
         0
        ],
        [
         "dbfs:/user/hive/warehouse/staging.db/orders/Year_Month=2021-07/",
         "Year_Month=2021-07/",
         0,
         0
        ],
        [
         "dbfs:/user/hive/warehouse/staging.db/orders/Year_Month=2021-08/",
         "Year_Month=2021-08/",
         0,
         0
        ],
        [
         "dbfs:/user/hive/warehouse/staging.db/orders/Year_Month=2021-09/",
         "Year_Month=2021-09/",
         0,
         0
        ],
        [
         "dbfs:/user/hive/warehouse/staging.db/orders/_SUCCESS",
         "_SUCCESS",
         0,
         1723745667000
        ]
       ],
       "datasetInfos": [],
       "dbfsResultPath": null,
       "isJsonSchema": true,
       "metadata": {
        "isDbfsCommandResult": false
       },
       "overflow": false,
       "plotOptions": {
        "customPlotOptions": {},
        "displayType": "table",
        "pivotAggregation": null,
        "pivotColumns": null,
        "xColumns": null,
        "yColumns": null
       },
       "removedWidgets": [],
       "schema": [
        {
         "metadata": "{}",
         "name": "path",
         "type": "\"string\""
        },
        {
         "metadata": "{}",
         "name": "name",
         "type": "\"string\""
        },
        {
         "metadata": "{}",
         "name": "size",
         "type": "\"long\""
        },
        {
         "metadata": "{}",
         "name": "modificationTime",
         "type": "\"long\""
        }
       ],
       "type": "table"
      }
     },
     "output_type": "display_data"
    }
   ],
   "source": [
    "%fs ls dbfs:/user/hive/warehouse/staging.db/orders"
   ]
  },
  {
   "cell_type": "markdown",
   "metadata": {
    "application/vnd.databricks.v1+cell": {
     "cellMetadata": {
      "byteLimit": 2048000,
      "rowLimit": 10000
     },
     "inputWidgets": {},
     "nuid": "aa552245-383e-48ae-8a56-f3c1d82600de",
     "showTitle": false,
     "title": ""
    }
   },
   "source": [
    "### Curated Zone\n",
    "Creating the database, curated here."
   ]
  },
  {
   "cell_type": "code",
   "execution_count": null,
   "metadata": {
    "application/vnd.databricks.v1+cell": {
     "cellMetadata": {
      "byteLimit": 2048000,
      "implicitDf": true,
      "rowLimit": 10000
     },
     "inputWidgets": {},
     "nuid": "cefbc96a-1e92-4f87-b89c-23035bc38b28",
     "showTitle": false,
     "title": ""
    },
    "vscode": {
     "languageId": "python"
    }
   },
   "outputs": [
    {
     "data": {
      "text/html": [
       "<style scoped>\n",
       "  .table-result-container {\n",
       "    max-height: 300px;\n",
       "    overflow: auto;\n",
       "  }\n",
       "  table, th, td {\n",
       "    border: 1px solid black;\n",
       "    border-collapse: collapse;\n",
       "  }\n",
       "  th, td {\n",
       "    padding: 5px;\n",
       "  }\n",
       "  th {\n",
       "    text-align: left;\n",
       "  }\n",
       "</style><div class='table-result-container'><table class='table-result'><thead style='background-color: white'><tr></tr></thead><tbody></tbody></table></div>"
      ]
     },
     "metadata": {
      "application/vnd.databricks.v1+output": {
       "addedWidgets": {},
       "aggData": [],
       "aggError": "",
       "aggOverflow": false,
       "aggSchema": [],
       "aggSeriesLimitReached": false,
       "aggType": "",
       "arguments": {},
       "columnCustomDisplayInfos": {},
       "data": [],
       "datasetInfos": [],
       "dbfsResultPath": null,
       "isJsonSchema": true,
       "metadata": {},
       "overflow": false,
       "plotOptions": {
        "customPlotOptions": {},
        "displayType": "table",
        "pivotAggregation": null,
        "pivotColumns": null,
        "xColumns": null,
        "yColumns": null
       },
       "removedWidgets": [],
       "schema": [],
       "type": "table"
      }
     },
     "output_type": "display_data"
    }
   ],
   "source": [
    "%sql \n",
    "DROP DATABASE IF EXISTS curated CASCADE;\n",
    "\n",
    "CREATE DATABASE curated; "
   ]
  },
  {
   "cell_type": "markdown",
   "metadata": {
    "application/vnd.databricks.v1+cell": {
     "cellMetadata": {
      "byteLimit": 2048000,
      "rowLimit": 10000
     },
     "inputWidgets": {},
     "nuid": "c04ef91f-6998-42cf-93aa-4a8bd9b423f5",
     "showTitle": false,
     "title": ""
    }
   },
   "source": [
    "#### Read staging tables"
   ]
  },
  {
   "cell_type": "code",
   "execution_count": null,
   "metadata": {
    "application/vnd.databricks.v1+cell": {
     "cellMetadata": {
      "byteLimit": 2048000,
      "rowLimit": 10000
     },
     "inputWidgets": {},
     "nuid": "97f6a22c-ba92-41f5-be16-d7dd775c6473",
     "showTitle": false,
     "title": ""
    },
    "vscode": {
     "languageId": "python"
    }
   },
   "outputs": [
    {
     "name": "stdout",
     "output_type": "stream",
     "text": [
      "Out[56]: DataFrame[City: string, County: string, Customer_Since: date, E_Mail: string, Gender: string, Place_Name: string, Region: string, State: string, ZIP: int, Age: int, Cust_Id: int, Full_Name: string]"
     ]
    }
   ],
   "source": [
    "orders_df = spark.read.table(\"staging.orders\")\n",
    "orders_df.cache()\n",
    "## cache the DF to hold the data in memory\n",
    "\n",
    "cust_df = spark.read.table(\"staging.customers\")\n",
    "cust_df.cache()\n",
    "## cache the DF to hold the data in memory"
   ]
  },
  {
   "cell_type": "markdown",
   "metadata": {
    "application/vnd.databricks.v1+cell": {
     "cellMetadata": {
      "byteLimit": 2048000,
      "rowLimit": 10000
     },
     "inputWidgets": {},
     "nuid": "b341c505-2e79-4ab4-b725-12b45c8606c7",
     "showTitle": false,
     "title": ""
    }
   },
   "source": [
    "## Defining pipelines"
   ]
  },
  {
   "cell_type": "markdown",
   "metadata": {
    "application/vnd.databricks.v1+cell": {
     "cellMetadata": {
      "byteLimit": 2048000,
      "rowLimit": 10000
     },
     "inputWidgets": {},
     "nuid": "f05df6c9-cc5c-40c6-9e8e-dbfaea6e0c1e",
     "showTitle": false,
     "title": ""
    }
   },
   "source": [
    "### 1. Management wants to drill down the order volume and revenue generated by year, month, categories"
   ]
  },
  {
   "cell_type": "code",
   "execution_count": null,
   "metadata": {
    "application/vnd.databricks.v1+cell": {
     "cellMetadata": {
      "byteLimit": 2048000,
      "rowLimit": 10000
     },
     "inputWidgets": {},
     "nuid": "71e30db5-67f0-4b91-81bd-9f4fcfa428a0",
     "showTitle": false,
     "title": ""
    },
    "vscode": {
     "languageId": "python"
    }
   },
   "outputs": [],
   "source": [
    "order_volume_and_revenue = (orders_df\n",
    "                            .groupBy( \"Year_Month\", \"Category\")\n",
    "                            .agg( sum(\"Qty_Ordered\").alias(\"Total_Orders\"), \n",
    "                                  sum(\"Total\").alias(\"Total_Revenue\")))"
   ]
  },
  {
   "cell_type": "markdown",
   "metadata": {},
   "source": [
    "##### GroupBy function will help to get the data segregated bby year, month and Category while the aggregate function will get the Total Orders (volume) and Total Revenue"
   ]
  },
  {
   "cell_type": "code",
   "execution_count": null,
   "metadata": {
    "application/vnd.databricks.v1+cell": {
     "cellMetadata": {
      "byteLimit": 2048000,
      "rowLimit": 10000
     },
     "inputWidgets": {},
     "nuid": "62866a79-8617-4b01-9861-11e635f031fa",
     "showTitle": false,
     "title": ""
    },
    "vscode": {
     "languageId": "python"
    }
   },
   "outputs": [
    {
     "name": "stdout",
     "output_type": "stream",
     "text": [
      "+----------+------------------+------------+--------------------+\n",
      "|Year_Month|          Category|Total_Orders|       Total_Revenue|\n",
      "+----------+------------------+------------+--------------------+\n",
      "|   2021-04|            Others|       70443|1.2136769999999998E7|\n",
      "|   2020-12|        Superstore|        7015|  295431.22933999944|\n",
      "|   2020-12|             Books|         291|   2888.979180000001|\n",
      "|   2021-04|School & Education|         935|   23724.20000000002|\n",
      "|   2021-04|   Health & Sports|        4303|  142003.09000000008|\n",
      "+----------+------------------+------------+--------------------+\n",
      "only showing top 5 rows\n",
      "\n"
     ]
    }
   ],
   "source": [
    "order_volume_and_revenue.show(5)"
   ]
  },
  {
   "cell_type": "markdown",
   "metadata": {},
   "source": [
    "##### Storing the created data into a table on the Curated zone/ curated database."
   ]
  },
  {
   "cell_type": "code",
   "execution_count": null,
   "metadata": {
    "application/vnd.databricks.v1+cell": {
     "cellMetadata": {
      "byteLimit": 2048000,
      "rowLimit": 10000
     },
     "inputWidgets": {},
     "nuid": "5a550188-cee3-417f-8790-af304a323c4b",
     "showTitle": false,
     "title": ""
    },
    "vscode": {
     "languageId": "python"
    }
   },
   "outputs": [],
   "source": [
    "order_volume_and_revenue.write.saveAsTable(\"curated.ordervolandrevenue\")"
   ]
  },
  {
   "cell_type": "markdown",
   "metadata": {
    "application/vnd.databricks.v1+cell": {
     "cellMetadata": {
      "byteLimit": 2048000,
      "rowLimit": 10000
     },
     "inputWidgets": {},
     "nuid": "a66d258d-266e-424a-a243-a5f2f14370c4",
     "showTitle": false,
     "title": ""
    }
   },
   "source": [
    "### 2. Revenue growth by categories from previous month to this month."
   ]
  },
  {
   "cell_type": "code",
   "execution_count": null,
   "metadata": {
    "application/vnd.databricks.v1+cell": {
     "cellMetadata": {
      "byteLimit": 2048000,
      "rowLimit": 10000
     },
     "inputWidgets": {},
     "nuid": "d0d89fff-b38c-471e-a92a-c4101a063cab",
     "showTitle": false,
     "title": ""
    },
    "vscode": {
     "languageId": "python"
    }
   },
   "outputs": [
    {
     "name": "stdout",
     "output_type": "stream",
     "text": [
      "+-----------------+----------+--------------------+\n",
      "|         Category|Year-Month|       Total_Revenue|\n",
      "+-----------------+----------+--------------------+\n",
      "|       Appliances|   2020-12|   9381459.439649912|\n",
      "|  Health & Sports|   2021-04|  142003.09000000008|\n",
      "|          Soghaat|   2020-12|   50151.83834000017|\n",
      "|       Superstore|   2021-04|   299981.4589999996|\n",
      "|Mobiles & Tablets|   2020-12|3.2280553189050723E7|\n",
      "+-----------------+----------+--------------------+\n",
      "only showing top 5 rows\n",
      "\n"
     ]
    }
   ],
   "source": [
    "# Convert Order_Date to Year-Month format and group by Category and Month\n",
    "revenue_by_category_df = (orders_df.withColumn(\"Year-Month\", date_format(col(\"Order_Date\"), \"yyyy-MM\"))\n",
    "                          .groupBy(\"Category\", \"Year-Month\")\n",
    "                          .agg(sum(\"Total\").alias(\"Total_Revenue\")))\n",
    "revenue_by_category_df.show(5)"
   ]
  },
  {
   "cell_type": "code",
   "execution_count": null,
   "metadata": {
    "application/vnd.databricks.v1+cell": {
     "cellMetadata": {
      "byteLimit": 2048000,
      "rowLimit": 10000
     },
     "inputWidgets": {},
     "nuid": "acf1ef40-6cd8-4381-b0d7-4099bec57de4",
     "showTitle": false,
     "title": ""
    },
    "vscode": {
     "languageId": "python"
    }
   },
   "outputs": [],
   "source": [
    "# Define a window specification partitioned by Category and ordered by Year-Month\n",
    "window_spec = Window.partitionBy(\"Category\").orderBy(\"Year-Month\")\n",
    "\n",
    "# Calculate the previous month's revenue using the lag function\n",
    "revenue_by_category_df = revenue_by_category_df.withColumn(\"Previous_Revenue\", lag(\"Total_Revenue\").over(window_spec))\n",
    "\n",
    "# Calculate the revenue growth as a percentage\n",
    "revenue_by_category_df = revenue_by_category_df.withColumn(\"Revenue_Growth\", \n",
    "                                   expr(\"((Total_Revenue - Previous_Revenue) / Previous_Revenue) * 100\"))"
   ]
  },
  {
   "cell_type": "markdown",
   "metadata": {},
   "source": [
    "##### Here, we are creating a window with category and year-month to suit the purpose. \n",
    "##### The Lag function helps to get get the revenue for the category from the window created."
   ]
  },
  {
   "cell_type": "code",
   "execution_count": null,
   "metadata": {
    "application/vnd.databricks.v1+cell": {
     "cellMetadata": {
      "byteLimit": 2048000,
      "rowLimit": 10000
     },
     "inputWidgets": {},
     "nuid": "c7c86ba0-4c47-4dd5-97a5-8f79bbaeb90c",
     "showTitle": false,
     "title": ""
    },
    "vscode": {
     "languageId": "python"
    }
   },
   "outputs": [
    {
     "name": "stdout",
     "output_type": "stream",
     "text": [
      "+----------+----------+-----------------+-----------------+-------------------+\n",
      "|  Category|Year-Month|    Total_Revenue| Previous_Revenue|     Revenue_Growth|\n",
      "+----------+----------+-----------------+-----------------+-------------------+\n",
      "|Appliances|   2020-10|420055.8982799999|             null|               null|\n",
      "|Appliances|   2020-11|451277.5483700002|420055.8982799999|  7.432736980445551|\n",
      "|Appliances|   2020-12|9381459.439649912|451277.5483700002| 1978.8668688560815|\n",
      "|Appliances|   2021-01|1113173.024400007|9381459.439649912| -88.13432993490032|\n",
      "|Appliances|   2021-02|731731.0170000022|1113173.024400007|-34.266192140759024|\n",
      "+----------+----------+-----------------+-----------------+-------------------+\n",
      "only showing top 5 rows\n",
      "\n"
     ]
    }
   ],
   "source": [
    "revenue_by_category_df.show(5)"
   ]
  },
  {
   "cell_type": "markdown",
   "metadata": {},
   "source": [
    "##### Storing the created data into a table on the Curated zone/ curated database."
   ]
  },
  {
   "cell_type": "code",
   "execution_count": null,
   "metadata": {
    "application/vnd.databricks.v1+cell": {
     "cellMetadata": {
      "byteLimit": 2048000,
      "rowLimit": 10000
     },
     "inputWidgets": {},
     "nuid": "eebf989f-4e4e-4ebe-90ab-bfa7134245fb",
     "showTitle": false,
     "title": ""
    },
    "vscode": {
     "languageId": "python"
    }
   },
   "outputs": [],
   "source": [
    "revenue_by_category_df.write.saveAsTable(\"curated.revenuebycategory\")"
   ]
  },
  {
   "cell_type": "markdown",
   "metadata": {
    "application/vnd.databricks.v1+cell": {
     "cellMetadata": {
      "byteLimit": 2048000,
      "rowLimit": 10000
     },
     "inputWidgets": {},
     "nuid": "d4190d95-0f25-48ae-8174-e353d25f415c",
     "showTitle": false,
     "title": ""
    }
   },
   "source": [
    "### 3. Top 5 categories having a maximum number of orders and maximum number of cancellations in the month."
   ]
  },
  {
   "cell_type": "code",
   "execution_count": null,
   "metadata": {
    "application/vnd.databricks.v1+cell": {
     "cellMetadata": {
      "byteLimit": 2048000,
      "rowLimit": 10000
     },
     "inputWidgets": {},
     "nuid": "5c4a7ed1-ef41-4851-989d-908953fd5cc8",
     "showTitle": false,
     "title": ""
    },
    "vscode": {
     "languageId": "python"
    }
   },
   "outputs": [
    {
     "name": "stdout",
     "output_type": "stream",
     "text": [
      "+----------+------------------+-----------+-------------------+\n",
      "|Year_Month|          Category|Total_Order|Total_Cancellations|\n",
      "+----------+------------------+-----------+-------------------+\n",
      "|   2021-04|            Others|      17365|              11924|\n",
      "|   2020-12|        Superstore|       2106|                741|\n",
      "|   2020-12|             Books|        112|                 23|\n",
      "|   2021-04|School & Education|        152|                 76|\n",
      "|   2021-04|   Health & Sports|       1007|                139|\n",
      "+----------+------------------+-----------+-------------------+\n",
      "only showing top 5 rows\n",
      "\n"
     ]
    }
   ],
   "source": [
    "category_by_orders_df = (orders_df.groupBy(\"Year_Month\", \"Category\")\n",
    "                        .agg(\n",
    "                            count(\"Order_Id\").alias(\"Total_Order\"),\n",
    "                            count(when(col(\"Final_Status\") == \"cancelled\", True)).alias(\"Total_Cancellations\")\n",
    "                            ))\n",
    "                        \n",
    "category_by_orders_df.show(5)"
   ]
  },
  {
   "cell_type": "markdown",
   "metadata": {},
   "source": [
    "##### Storing the created data into a table on the Curated zone/ curated database."
   ]
  },
  {
   "cell_type": "code",
   "execution_count": null,
   "metadata": {
    "application/vnd.databricks.v1+cell": {
     "cellMetadata": {
      "byteLimit": 2048000,
      "rowLimit": 10000
     },
     "inputWidgets": {},
     "nuid": "c93aca51-ea9b-447f-816e-6b406c195495",
     "showTitle": false,
     "title": ""
    },
    "vscode": {
     "languageId": "python"
    }
   },
   "outputs": [],
   "source": [
    "category_by_orders_df.write.saveAsTable(\"curated.categorybyorders\")"
   ]
  },
  {
   "cell_type": "markdown",
   "metadata": {
    "application/vnd.databricks.v1+cell": {
     "cellMetadata": {
      "byteLimit": 2048000,
      "rowLimit": 10000
     },
     "inputWidgets": {},
     "nuid": "762de5cd-d5f8-4029-9f8a-25d61cff049b",
     "showTitle": false,
     "title": ""
    }
   },
   "source": [
    "### 4. Segment customers by age: 0-20 as young, 20-35 adults, 35-55 middle-ages and >55 Old. Find the total spend (in percentage of total spend of categories) by customers by different age segments by different categories until this month i.e. including all previous and current month."
   ]
  },
  {
   "cell_type": "markdown",
   "metadata": {},
   "source": [
    "To get the spend, we have considered the orders that have not been cancelled, since any order that has been canceled would mean that the product was not delivered and no revenue was generated against it."
   ]
  },
  {
   "cell_type": "code",
   "execution_count": null,
   "metadata": {
    "application/vnd.databricks.v1+cell": {
     "cellMetadata": {
      "byteLimit": 2048000,
      "rowLimit": 10000
     },
     "inputWidgets": {},
     "nuid": "21533d5c-adb5-4d82-a52c-e51236469f6c",
     "showTitle": false,
     "title": ""
    },
    "vscode": {
     "languageId": "python"
    }
   },
   "outputs": [
    {
     "name": "stdout",
     "output_type": "stream",
     "text": [
      "+-----+---------+----------+-------+-----------+-----+-----+---------------+---------+-------------+--------------+-------+------------+----------+\n",
      "|Index| Order_Id|Order_Date|Item_Id|Qty_Ordered|Price|Value|Discount_Amount|    Total|     Category|Payment_Method|Cust_Id|Final_Status|Year_Month|\n",
      "+-----+---------+----------+-------+-----------+-----+-----+---------------+---------+-------------+--------------+-------+------------+----------+\n",
      "|   12|100403034|2020-12-24| 656937|          2|254.8|254.8|       39.80628|214.99372|   Appliances|       Easypay|  42485|   cancelled|   2020-12|\n",
      "|   13|100403034|2020-12-24| 656938|          2|315.5|315.5|       49.28917|266.21083|   Appliances|       Easypay|  42485|   cancelled|   2020-12|\n",
      "|   14|100403034|2020-12-24| 656939|          2| 69.8| 69.8|       10.90455| 58.89545|Home & Living|       Easypay|  42485|   cancelled|   2020-12|\n",
      "|   15|100403077|2020-12-24| 657023|          2|254.8|254.8|       39.80628|214.99372|   Appliances|       Easypay|  42485|   cancelled|   2020-12|\n",
      "|   16|100403077|2020-12-24| 657024|          2|315.5|315.5|       49.28917|266.21083|   Appliances|       Easypay|  42485|   cancelled|   2020-12|\n",
      "+-----+---------+----------+-------+-----------+-----+-----+---------------+---------+-------------+--------------+-------+------------+----------+\n",
      "only showing top 5 rows\n",
      "\n",
      "+---------+-------------+-------+---+---------+\n",
      "| Order_Id|     Category|Cust_Id|Age|    Total|\n",
      "+---------+-------------+-------+---+---------+\n",
      "|100403034|   Appliances|  42485| 28|214.99372|\n",
      "|100403034|   Appliances|  42485| 28|266.21083|\n",
      "|100403034|Home & Living|  42485| 28| 58.89545|\n",
      "|100403077|   Appliances|  42485| 28|214.99372|\n",
      "|100403077|   Appliances|  42485| 28|266.21083|\n",
      "+---------+-------------+-------+---+---------+\n",
      "only showing top 5 rows\n",
      "\n"
     ]
    }
   ],
   "source": [
    "select_df = orders_df.filter(col(\"Final_Status\") != \"Cancelled\")\n",
    "select_df.show(5)\n",
    "\n",
    "# Join cust_df and orders_df on Customer_ID, selecting specific columns\n",
    "select_df = (select_df.join(cust_df, on=\"Cust_Id\")\n",
    "               .select(\"Order_Id\", \"Category\", \"Cust_Id\", \"Age\", \"Total\"))\n",
    "select_df.show(5)"
   ]
  },
  {
   "cell_type": "markdown",
   "metadata": {},
   "source": [
    "##### Creating the Age segmentations as per specifications."
   ]
  },
  {
   "cell_type": "code",
   "execution_count": null,
   "metadata": {
    "application/vnd.databricks.v1+cell": {
     "cellMetadata": {
      "byteLimit": 2048000,
      "rowLimit": 10000
     },
     "inputWidgets": {},
     "nuid": "0ca0c987-ad16-4f55-9a2f-e202fcbf7b23",
     "showTitle": false,
     "title": ""
    },
    "vscode": {
     "languageId": "python"
    }
   },
   "outputs": [
    {
     "name": "stdout",
     "output_type": "stream",
     "text": [
      "+---------+-------------+-------+---+---------+-----------+\n",
      "| Order_Id|     Category|Cust_Id|Age|    Total|Age_Segment|\n",
      "+---------+-------------+-------+---+---------+-----------+\n",
      "|100403034|   Appliances|  42485| 28|214.99372|      Adult|\n",
      "|100403034|   Appliances|  42485| 28|266.21083|      Adult|\n",
      "|100403034|Home & Living|  42485| 28| 58.89545|      Adult|\n",
      "|100403077|   Appliances|  42485| 28|214.99372|      Adult|\n",
      "|100403077|   Appliances|  42485| 28|266.21083|      Adult|\n",
      "+---------+-------------+-------+---+---------+-----------+\n",
      "only showing top 5 rows\n",
      "\n"
     ]
    }
   ],
   "source": [
    "select_df = select_df.withColumn(\"Age_Segment\",\n",
    "                                 when(col(\"Age\") <= 20, \"Young\")\n",
    "                                .when((col(\"Age\") > 20) & (col(\"Age\") <= 35), \"Adult\")\n",
    "                                .when((col(\"Age\") > 35) & (col(\"Age\") <= 55), \"Middle-aged\")\n",
    "                                .otherwise(\"Old\")\n",
    "                                )\n",
    "select_df.show(5)"
   ]
  },
  {
   "cell_type": "code",
   "execution_count": null,
   "metadata": {
    "application/vnd.databricks.v1+cell": {
     "cellMetadata": {
      "byteLimit": 2048000,
      "rowLimit": 10000
     },
     "inputWidgets": {},
     "nuid": "a94d49b3-f060-4161-be4d-e11141bdd987",
     "showTitle": false,
     "title": ""
    },
    "vscode": {
     "languageId": "python"
    }
   },
   "outputs": [
    {
     "name": "stdout",
     "output_type": "stream",
     "text": [
      "+-----------+-----------------+-------------------+\n",
      "|Age_Segment|         Category|        Total_Spend|\n",
      "+-----------+-----------------+-------------------+\n",
      "|      Young|        Computing| 392317.27405999997|\n",
      "|        Old|  Women's Fashion| 2210364.8580900077|\n",
      "|Middle-aged|  Women's Fashion|  2237083.183640005|\n",
      "|Middle-aged|        Computing| 3695487.4124700027|\n",
      "|      Adult|          Soghaat|       124999.26629|\n",
      "|        Old|Beauty & Grooming|  926114.0865599976|\n",
      "|      Adult|  Women's Fashion| 1713315.6540400009|\n",
      "|Middle-aged|            Books| 10716.025000000003|\n",
      "|        Old|Mobiles & Tablets|4.397622542092007E7|\n",
      "|      Young|  Health & Sports| 32901.623329999995|\n",
      "+-----------+-----------------+-------------------+\n",
      "only showing top 10 rows\n",
      "\n"
     ]
    }
   ],
   "source": [
    "spend_by_age_df = (select_df.groupBy(\"Age_Segment\", \"Category\")\n",
    "                  .agg(sum(\"Total\").alias(\"Total_Spend\")))\n",
    "spend_by_age_df.show(10)"
   ]
  },
  {
   "cell_type": "code",
   "execution_count": null,
   "metadata": {
    "application/vnd.databricks.v1+cell": {
     "cellMetadata": {
      "byteLimit": 2048000,
      "rowLimit": 10000
     },
     "inputWidgets": {},
     "nuid": "e9b341ba-9011-4fe2-9bc3-ec0d9694c940",
     "showTitle": false,
     "title": ""
    },
    "vscode": {
     "languageId": "python"
    }
   },
   "outputs": [
    {
     "name": "stdout",
     "output_type": "stream",
     "text": [
      "+-----------+------------------+----------------+\n",
      "|Age_Segment|          Category|Spend_Percentage|\n",
      "+-----------+------------------+----------------+\n",
      "|        Old|School & Education|          26.682|\n",
      "|Middle-aged|School & Education|          27.041|\n",
      "|      Young|School & Education|           5.164|\n",
      "|      Adult|School & Education|          41.114|\n",
      "|        Old|     Entertainment|          33.327|\n",
      "|      Adult|     Entertainment|          26.494|\n",
      "|      Young|     Entertainment|           4.242|\n",
      "|Middle-aged|     Entertainment|          35.937|\n",
      "|      Adult|       Kids & Baby|          25.911|\n",
      "|Middle-aged|       Kids & Baby|           31.44|\n",
      "|        Old|       Kids & Baby|          35.417|\n",
      "|      Young|       Kids & Baby|           7.232|\n",
      "|        Old|         Computing|          30.236|\n",
      "|      Adult|         Computing|          26.102|\n",
      "|Middle-aged|         Computing|          39.472|\n",
      "|      Young|         Computing|            4.19|\n",
      "|      Young| Mobiles & Tablets|           4.911|\n",
      "|      Adult| Mobiles & Tablets|          25.002|\n",
      "|Middle-aged| Mobiles & Tablets|          36.288|\n",
      "|        Old| Mobiles & Tablets|          33.799|\n",
      "+-----------+------------------+----------------+\n",
      "only showing top 20 rows\n",
      "\n"
     ]
    }
   ],
   "source": [
    "# Calculate Spend as a Percentage of Total Spend per Category\n",
    "category_total_df = spend_by_age_df.groupBy(\"Category\").agg(sum(\"Total_Spend\").alias(\"Category_Total_Spend\"))\n",
    "\n",
    "# Join the DataFrames to calculate the percentage spend\n",
    "spend_by_age_df = spend_by_age_df.join(category_total_df, on=\"Category\")\n",
    "spend_by_age_df = spend_by_age_df.withColumn(\"Spend_Percentage\", \n",
    "                                             round((col(\"Total_Spend\") / col(\"Category_Total_Spend\")) * 100,3))\n",
    "\n",
    "# Display the Final Dataframe\n",
    "spend_by_age_df.select(\"Age_Segment\", \"Category\", \"Spend_Percentage\").show()"
   ]
  },
  {
   "cell_type": "markdown",
   "metadata": {},
   "source": [
    "##### Storing the created data into a table on the Curated zone/ curated database."
   ]
  },
  {
   "cell_type": "code",
   "execution_count": null,
   "metadata": {
    "application/vnd.databricks.v1+cell": {
     "cellMetadata": {
      "byteLimit": 2048000,
      "rowLimit": 10000
     },
     "inputWidgets": {},
     "nuid": "cc42c0f0-ced2-4cb2-b9ca-3826142f9cc4",
     "showTitle": false,
     "title": ""
    },
    "vscode": {
     "languageId": "python"
    }
   },
   "outputs": [],
   "source": [
    "spend_by_age_df.write.saveAsTable(\"curated.spendbyage\")"
   ]
  },
  {
   "cell_type": "markdown",
   "metadata": {
    "application/vnd.databricks.v1+cell": {
     "cellMetadata": {
      "byteLimit": 2048000,
      "rowLimit": 10000
     },
     "inputWidgets": {},
     "nuid": "100567e8-263b-4971-93e7-6e230e0f8d26",
     "showTitle": false,
     "title": ""
    }
   },
   "source": [
    "### 5. Calculate the RFM values for each customer (by customer id).\n",
    "For Recency calculation, used \"01/10/2021\" as last date. \n",
    "So, the recency for any customer should be how many weeks before he or she has made the last purchase from the date of 01/10/2021."
   ]
  },
  {
   "cell_type": "code",
   "execution_count": null,
   "metadata": {
    "application/vnd.databricks.v1+cell": {
     "cellMetadata": {
      "byteLimit": 2048000,
      "rowLimit": 10000
     },
     "inputWidgets": {},
     "nuid": "77c0516c-8bad-46b0-b358-35a1cbd62d3a",
     "showTitle": false,
     "title": ""
    },
    "vscode": {
     "languageId": "python"
    }
   },
   "outputs": [],
   "source": [
    "cutoff_date = to_date(lit(\"2021-10-01\"), \"yyyy-MM-dd\")\n",
    "\n",
    "# Calculate Recency\n",
    "\n",
    "# Find the most recent order date per customer\n",
    "recency_df = (orders_df.groupBy(\"Cust_Id\")\n",
    "              .agg(max(\"Order_Date\").alias(\"Most_Recent_Purchase\")))\n",
    "\n",
    "# Calculate recency as the number of weeks since the most recent purchase\n",
    "recency_df = recency_df.withColumn(\"Recency\",\n",
    "                                   round(datediff(cutoff_date, col(\"Most_Recent_Purchase\"))/7,0))"
   ]
  },
  {
   "cell_type": "code",
   "execution_count": null,
   "metadata": {
    "application/vnd.databricks.v1+cell": {
     "cellMetadata": {
      "byteLimit": 2048000,
      "rowLimit": 10000
     },
     "inputWidgets": {},
     "nuid": "22e9c603-1360-431a-ab39-18259021a168",
     "showTitle": false,
     "title": ""
    },
    "vscode": {
     "languageId": "python"
    }
   },
   "outputs": [],
   "source": [
    "# Calculate Frequency\n",
    "\n",
    "frequency_df = (orders_df.groupBy(\"Cust_Id\")\n",
    "                .agg(countDistinct(\"Order_Id\").alias(\"Frequency\")))\n"
   ]
  },
  {
   "cell_type": "code",
   "execution_count": null,
   "metadata": {
    "application/vnd.databricks.v1+cell": {
     "cellMetadata": {
      "byteLimit": 2048000,
      "rowLimit": 10000
     },
     "inputWidgets": {},
     "nuid": "bccc2a98-f948-4b8b-8c76-7f03852b3fbb",
     "showTitle": false,
     "title": ""
    },
    "vscode": {
     "languageId": "python"
    }
   },
   "outputs": [],
   "source": [
    "# Calculate Monetary\n",
    "\n",
    "# Filter out cancelled orders\n",
    "non_cancelled_orders_df = orders_df.filter(col(\"Final_Status\") != \"cancelled\")\n",
    "\n",
    "monetary_df = (non_cancelled_orders_df.groupBy(\"Cust_Id\")\n",
    "               .agg(round(sum(\"Total\"),2).alias(\"Monetary\")))   \n",
    "   "
   ]
  },
  {
   "cell_type": "markdown",
   "metadata": {},
   "source": [
    "#### Joining the 3 Dataframes to create the Recency-Frequency-Monetary (RFM)"
   ]
  },
  {
   "cell_type": "code",
   "execution_count": null,
   "metadata": {
    "application/vnd.databricks.v1+cell": {
     "cellMetadata": {
      "byteLimit": 2048000,
      "rowLimit": 10000
     },
     "inputWidgets": {},
     "nuid": "00ef7140-2b8b-4a3d-a64d-091064256eae",
     "showTitle": false,
     "title": ""
    },
    "vscode": {
     "languageId": "python"
    }
   },
   "outputs": [
    {
     "name": "stdout",
     "output_type": "stream",
     "text": [
      "+-------+--------------------+-------+---------+--------+\n",
      "|Cust_Id|Most_Recent_Purchase|Recency|Frequency|Monetary|\n",
      "+-------+--------------------+-------+---------+--------+\n",
      "|   8592|          2021-06-10|   16.0|        5|  1125.0|\n",
      "|  42468|          2021-02-09|   33.0|       18|  3938.5|\n",
      "|   7982|          2021-09-12|    3.0|        6| 1148.48|\n",
      "|  18911|          2021-09-19|    2.0|       20| 8523.22|\n",
      "|  63574|          2021-05-21|   19.0|        4| 1220.63|\n",
      "+-------+--------------------+-------+---------+--------+\n",
      "only showing top 5 rows\n",
      "\n"
     ]
    }
   ],
   "source": [
    "# Combine RFM metrics into a single DataFrame\n",
    "RFM_df = (recency_df.join(frequency_df, on=\"Cust_Id\")\n",
    "          .join(monetary_df, on=\"Cust_Id\"))    \n",
    "\n",
    "RFM_df.show(5)  "
   ]
  },
  {
   "cell_type": "code",
   "execution_count": null,
   "metadata": {
    "application/vnd.databricks.v1+cell": {
     "cellMetadata": {
      "byteLimit": 2048000,
      "rowLimit": 10000
     },
     "inputWidgets": {},
     "nuid": "6af5e38a-06de-4bb2-93e1-fe56a5b94673",
     "showTitle": false,
     "title": ""
    },
    "vscode": {
     "languageId": "python"
    }
   },
   "outputs": [
    {
     "data": {
      "image/png": "[encoded data removed]"
     },
     "metadata": {
      "application/vnd.databricks.v1+output": {
       "addedWidgets": {},
       "arguments": {},
       "data": "data:image/png;base64,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\n",
       "datasetInfos": [],
       "metadata": {},
       "removedWidgets": [],
       "type": "image"
      }
     },
     "output_type": "display_data"
    }
   ],
   "source": [
    "import pandas as pd\n",
    "import matplotlib.pyplot as plt\n",
    "import seaborn as sns\n",
    "\n",
    "# Convert Spark DataFrame to Pandas DataFrame\n",
    "rfm_pd_df = RFM_df.toPandas()\n",
    "\n",
    "# Plot distribution of Recency, Frequency, and Monetary\n",
    "fig, axes = plt.subplots(1, 3, figsize=(18, 5))\n",
    "\n",
    "# Distribution of Recency\n",
    "sns.histplot(rfm_pd_df[\"Recency\"], bins=20, kde=True, ax=axes[0])\n",
    "axes[0].set_title('Distribution of Recency (Weeks)')\n",
    "\n",
    "# Distribution of Frequency\n",
    "sns.histplot(rfm_pd_df[\"Frequency\"], bins=20, kde=True, ax=axes[1])\n",
    "axes[1].set_title('Distribution of Frequency')\n",
    "\n",
    "# Distribution of Monetary\n",
    "sns.histplot(rfm_pd_df[\"Monetary\"], bins=20, kde=True, ax=axes[2])\n",
    "axes[2].set_title('Distribution of Monetary')\n",
    "\n",
    "plt.tight_layout()\n",
    "plt.show()\n"
   ]
  },
  {
   "cell_type": "markdown",
   "metadata": {},
   "source": [
    "#### Wanted to bin the RFM into Low, Mid and High. So, visualization to see the split was important."
   ]
  },
  {
   "cell_type": "code",
   "execution_count": null,
   "metadata": {
    "application/vnd.databricks.v1+cell": {
     "cellMetadata": {
      "byteLimit": 2048000,
      "rowLimit": 10000
     },
     "inputWidgets": {},
     "nuid": "590d284a-def4-4c13-a595-94e2037c0b91",
     "showTitle": false,
     "title": ""
    },
    "vscode": {
     "languageId": "python"
    }
   },
   "outputs": [],
   "source": [
    "RFM_df = RFM_df.withColumn(\"Recency_Segment\",\n",
    "                             when(col(\"Recency\") <= 15, \"High\")\n",
    "                            .when((col(\"Recency\") > 15) & (col(\"Recency\") <= 30), \"Mid\")\n",
    "                            .when(col(\"Recency\") > 30, \"Low\"))\n",
    "\n",
    "RFM_df = RFM_df.withColumn(\"Freq_Segment\",\n",
    "                             when(col(\"Frequency\") <= 10, \"Low\")\n",
    "                            .when((col(\"Frequency\") > 10) & (col(\"Frequency\") <= 50), \"Mid\")\n",
    "                            .when(col(\"Frequency\") > 50, \"High\"))\n",
    "\n",
    "RFM_df = RFM_df.withColumn(\"Money_Segment\",\n",
    "                            when(col(\"Monetary\") <= 5000, \"Low\")\n",
    "                            .when((col(\"Monetary\") > 5000) & (col(\"Monetary\") <= 50), \"Mid\")\n",
    "                            .when(col(\"Monetary\") > 50, \"High\"))"
   ]
  },
  {
   "cell_type": "code",
   "execution_count": null,
   "metadata": {
    "application/vnd.databricks.v1+cell": {
     "cellMetadata": {
      "byteLimit": 2048000,
      "rowLimit": 10000
     },
     "inputWidgets": {},
     "nuid": "04c91010-1f4d-4d18-855e-97d3f25cd97a",
     "showTitle": false,
     "title": ""
    },
    "vscode": {
     "languageId": "python"
    }
   },
   "outputs": [
    {
     "name": "stdout",
     "output_type": "stream",
     "text": [
      "+-------+--------------------+-------+---------+--------+---------------+------------+-------------+\n",
      "|Cust_Id|Most_Recent_Purchase|Recency|Frequency|Monetary|Recency_Segment|Freq_Segment|Money_Segment|\n",
      "+-------+--------------------+-------+---------+--------+---------------+------------+-------------+\n",
      "|   8592|          2021-06-10|   16.0|        5|  1125.0|            Mid|         Low|          Low|\n",
      "|  42468|          2021-02-09|   33.0|       18|  3938.5|            Low|         Mid|          Low|\n",
      "|   7982|          2021-09-12|    3.0|        6| 1148.48|           High|         Low|          Low|\n",
      "|  18911|          2021-09-19|    2.0|       20| 8523.22|           High|         Mid|         High|\n",
      "|  63574|          2021-05-21|   19.0|        4| 1220.63|            Mid|         Low|          Low|\n",
      "+-------+--------------------+-------+---------+--------+---------------+------------+-------------+\n",
      "only showing top 5 rows\n",
      "\n"
     ]
    }
   ],
   "source": [
    "RFM_df.show(5)"
   ]
  },
  {
   "cell_type": "markdown",
   "metadata": {},
   "source": [
    "##### Storing the created data into a table on the Curated zone/ curated database."
   ]
  },
  {
   "cell_type": "code",
   "execution_count": null,
   "metadata": {
    "application/vnd.databricks.v1+cell": {
     "cellMetadata": {
      "byteLimit": 2048000,
      "rowLimit": 10000
     },
     "inputWidgets": {},
     "nuid": "9b83c4cd-e450-4eca-aa59-da0de3ca2a4e",
     "showTitle": false,
     "title": ""
    },
    "vscode": {
     "languageId": "python"
    }
   },
   "outputs": [],
   "source": [
    "RFM_df.write.saveAsTable(\"curated.RFM\")"
   ]
  },
  {
   "cell_type": "markdown",
   "metadata": {
    "application/vnd.databricks.v1+cell": {
     "cellMetadata": {
      "byteLimit": 2048000,
      "rowLimit": 10000
     },
     "inputWidgets": {},
     "nuid": "b92bf56f-e243-4ca2-9979-f4c7b36a089f",
     "showTitle": false,
     "title": ""
    }
   },
   "source": [
    "### 6. Forecast revenue for each category based on simple exponential smoothing."
   ]
  },
  {
   "cell_type": "markdown",
   "metadata": {
    "application/vnd.databricks.v1+cell": {
     "cellMetadata": {
      "byteLimit": 2048000,
      "rowLimit": 10000
     },
     "inputWidgets": {},
     "nuid": "f598aeb3-e722-4111-a9c8-57d3a8f4fc79",
     "showTitle": false,
     "title": ""
    }
   },
   "source": [
    "##### Simple Exponential Smoothing formula: Forecast(𝑡+1) = 𝛼 × Actual(𝑡) + (1 − 𝛼) × Forecast(𝑡)\n",
    "Since we are deriving revenue, only considering the non-cancelled orders."
   ]
  },
  {
   "cell_type": "code",
   "execution_count": null,
   "metadata": {
    "application/vnd.databricks.v1+cell": {
     "cellMetadata": {
      "byteLimit": 2048000,
      "rowLimit": 10000
     },
     "inputWidgets": {},
     "nuid": "cbd94eea-b624-4d07-9cdc-fc2869c0ba14",
     "showTitle": false,
     "title": ""
    },
    "vscode": {
     "languageId": "python"
    }
   },
   "outputs": [],
   "source": [
    "# Define alpha for exponential smoothing\n",
    "alpha = 0.6\n",
    "\n",
    "# SES forecast function\n",
    "def ses_forecast(revenue_list, alpha):\n",
    "    forecasts = [revenue_list[0]]  # Initialize with the first actual value\n",
    "    for i in range(1, len(revenue_list)):\n",
    "        forecast = alpha * revenue_list[i-1] + (1 - alpha) * forecasts[i-1]\n",
    "        forecasts.append(forecast)\n",
    "    return forecasts\n",
    "\n",
    "# UDF to apply SES forecast\n",
    "ses_udf = udf(lambda revenues: ses_forecast(revenues, alpha), ArrayType(DoubleType()))"
   ]
  },
  {
   "cell_type": "code",
   "execution_count": null,
   "metadata": {
    "application/vnd.databricks.v1+cell": {
     "cellMetadata": {
      "byteLimit": 2048000,
      "rowLimit": 10000
     },
     "inputWidgets": {},
     "nuid": "b409d8d6-80f3-40dc-8f82-a10b9036997c",
     "showTitle": false,
     "title": ""
    },
    "vscode": {
     "languageId": "python"
    }
   },
   "outputs": [],
   "source": [
    "# Filter out cancelled orders\n",
    "non_cancelled_orders_df = (orders_df.filter(col(\"Final_Status\") != \"Cancelled\")\n",
    "                           .select(\"Category\", \"Year_Month\", \"Total\"))\n",
    "\n",
    "revenue_df = (non_cancelled_orders_df.groupBy(\"Category\", \"Year_Month\")\n",
    "              .agg(round(sum(\"Total\"),2).alias(\"Revenue\"))\n",
    "              .orderBy(\"Category\", \"Year_Month\"))"
   ]
  },
  {
   "cell_type": "markdown",
   "metadata": {},
   "source": [
    "##### Creating a window with the revenuw of past 5 months to forecast using SES"
   ]
  },
  {
   "cell_type": "code",
   "execution_count": null,
   "metadata": {
    "application/vnd.databricks.v1+cell": {
     "cellMetadata": {
      "byteLimit": 2048000,
      "rowLimit": 10000
     },
     "inputWidgets": {},
     "nuid": "42bbad82-ccc3-4253-ab55-4a5b01165232",
     "showTitle": false,
     "title": ""
    },
    "vscode": {
     "languageId": "python"
    }
   },
   "outputs": [],
   "source": [
    "# Window specification to collect revenue data of past 5 months within each category \n",
    "window_spec = Window.partitionBy(\"Category\").orderBy(\"Year_Month\").rowsBetween(-4, 0)\n",
    "\n",
    "# Collect revenue list and apply SES forecast\n",
    "revenue_df = revenue_df.withColumn(\"Revenue_List\", collect_list(\"Revenue\").over(window_spec))\n",
    "revenue_df = revenue_df.withColumn(\"Forecast_List\", ses_udf(\"Revenue_List\"))\n",
    "\n",
    "# Assuming you want to forecast the next month, add a column for forecasted revenue\n",
    "revenue_df = revenue_df.withColumn(\"Forecast_Revenue\", col(\"Forecast_List\")[4])"
   ]
  },
  {
   "cell_type": "code",
   "execution_count": null,
   "metadata": {
    "application/vnd.databricks.v1+cell": {
     "cellMetadata": {
      "byteLimit": 2048000,
      "rowLimit": 10000
     },
     "inputWidgets": {},
     "nuid": "e0bace64-f692-4745-bd54-bfac9c6d1bd1",
     "showTitle": false,
     "title": ""
    },
    "vscode": {
     "languageId": "python"
    }
   },
   "outputs": [
    {
     "name": "stdout",
     "output_type": "stream",
     "text": [
      "+----------+----------+----------+--------------------+--------------------+----------------+\n",
      "|  Category|Year_Month|   Revenue|        Revenue_List|       Forecast_List|Forecast_Revenue|\n",
      "+----------+----------+----------+--------------------+--------------------+----------------+\n",
      "|Appliances|   2020-10|  420055.9|          [420055.9]|          [420055.9]|            null|\n",
      "|Appliances|   2020-11| 451277.55|[420055.9, 451277...|[420055.9, 420055.9]|            null|\n",
      "|Appliances|   2020-12|9381459.44|[420055.9, 451277...|[420055.9, 420055...|            null|\n",
      "|Appliances|   2021-01|1113173.02|[420055.9, 451277...|[420055.9, 420055...|            null|\n",
      "|Appliances|   2021-02| 731731.02|[420055.9, 451277...|[420055.9, 420055...|       2989660.3|\n",
      "+----------+----------+----------+--------------------+--------------------+----------------+\n",
      "only showing top 5 rows\n",
      "\n"
     ]
    }
   ],
   "source": [
    "# Display the results\n",
    "revenue_df.show(5)"
   ]
  },
  {
   "cell_type": "markdown",
   "metadata": {
    "application/vnd.databricks.v1+cell": {
     "cellMetadata": {
      "byteLimit": 2048000,
      "rowLimit": 10000
     },
     "inputWidgets": {},
     "nuid": "98c922bf-ad62-4676-b7ff-ba67075bac98",
     "showTitle": false,
     "title": ""
    }
   },
   "source": [
    "##### Calculate the Forecast error"
   ]
  },
  {
   "cell_type": "code",
   "execution_count": null,
   "metadata": {
    "application/vnd.databricks.v1+cell": {
     "cellMetadata": {
      "byteLimit": 2048000,
      "rowLimit": 10000
     },
     "inputWidgets": {},
     "nuid": "a4c39f3b-685b-47b1-b469-e80c96402072",
     "showTitle": false,
     "title": ""
    },
    "vscode": {
     "languageId": "python"
    }
   },
   "outputs": [],
   "source": [
    "# Calculate the difference and percentage error\n",
    "revenue_df = revenue_df.withColumn(\"Error\", col(\"Revenue\") - col(\"Forecast_Revenue\"))\n",
    "revenue_df = revenue_df.withColumn(\"Percentage_Error\", abs(col(\"Error\")) / col(\"Revenue\") * 100)"
   ]
  },
  {
   "cell_type": "code",
   "execution_count": null,
   "metadata": {
    "application/vnd.databricks.v1+cell": {
     "cellMetadata": {
      "byteLimit": 2048000,
      "rowLimit": 10000
     },
     "inputWidgets": {},
     "nuid": "a4749541-7546-4d9f-b2b2-34251c8ee662",
     "showTitle": false,
     "title": ""
    },
    "vscode": {
     "languageId": "python"
    }
   },
   "outputs": [
    {
     "name": "stdout",
     "output_type": "stream",
     "text": [
      "+----------+----------+----------+------------------+-------------------+------------------+\n",
      "|  Category|Year_Month|   Revenue|  Forecast_Revenue|              Error|  Percentage_Error|\n",
      "+----------+----------+----------+------------------+-------------------+------------------+\n",
      "|Appliances|   2020-10|  420055.9|              null|               null|              null|\n",
      "|Appliances|   2020-11| 451277.55|              null|               null|              null|\n",
      "|Appliances|   2020-12|9381459.44|              null|               null|              null|\n",
      "|Appliances|   2021-01|1113173.02|              null|               null|              null|\n",
      "|Appliances|   2021-02| 731731.02|         2989660.3|        -2257929.28| 308.5736723311251|\n",
      "|Appliances|   2021-03|4895668.92|     1635702.00624|      3259966.91376| 66.58879444323208|\n",
      "|Appliances|   2021-04|5038811.58|3820294.8108800002| 1218516.7691199998|24.182622226965666|\n",
      "|Appliances|   2021-05|1450175.69|        4339736.74|-2889561.0500000003|199.25592946603595|\n",
      "+----------+----------+----------+------------------+-------------------+------------------+\n",
      "only showing top 8 rows\n",
      "\n"
     ]
    }
   ],
   "source": [
    "# Display the results with errors\n",
    "revenue_df.select(\"Category\", \"Year_Month\", \"Revenue\", \"Forecast_Revenue\", \"Error\", \"Percentage_Error\").show(8)"
   ]
  },
  {
   "cell_type": "markdown",
   "metadata": {},
   "source": [
    "##### Storing the created data into a table on the Curated zone/ curated database."
   ]
  },
  {
   "cell_type": "code",
   "execution_count": null,
   "metadata": {
    "application/vnd.databricks.v1+cell": {
     "cellMetadata": {
      "byteLimit": 2048000,
      "rowLimit": 10000
     },
     "inputWidgets": {},
     "nuid": "8476e007-32a7-44a6-a65e-2abcd15a92e6",
     "showTitle": false,
     "title": ""
    },
    "vscode": {
     "languageId": "python"
    }
   },
   "outputs": [],
   "source": [
    "revenue_df.write.saveAsTable(\"curated.revenueforecast\")"
   ]
  },
  {
   "cell_type": "markdown",
   "metadata": {
    "application/vnd.databricks.v1+cell": {
     "cellMetadata": {
      "byteLimit": 2048000,
      "rowLimit": 10000
     },
     "inputWidgets": {},
     "nuid": "5947aa4c-f460-423c-add3-8767896778d6",
     "showTitle": false,
     "title": ""
    }
   },
   "source": [
    "## Additional insights"
   ]
  },
  {
   "cell_type": "markdown",
   "metadata": {
    "application/vnd.databricks.v1+cell": {
     "cellMetadata": {
      "byteLimit": 2048000,
      "rowLimit": 10000
     },
     "inputWidgets": {},
     "nuid": "73f47a84-e8cf-4f38-aaaf-cb7257118275",
     "showTitle": false,
     "title": ""
    }
   },
   "source": [
    "### 7. Understanding the pattern among Payment method and Final status of orders"
   ]
  },
  {
   "cell_type": "code",
   "execution_count": null,
   "metadata": {
    "application/vnd.databricks.v1+cell": {
     "cellMetadata": {
      "byteLimit": 2048000,
      "rowLimit": 10000
     },
     "inputWidgets": {},
     "nuid": "1d989f71-eaa1-4559-81d4-f05b302ea6d5",
     "showTitle": false,
     "title": ""
    },
    "vscode": {
     "languageId": "python"
    }
   },
   "outputs": [],
   "source": [
    "# Aggregate counts of orders by status\n",
    "status_counts_df = (orders_df.groupBy(\"Category\", \"Payment_Method\", \"Year_Month\", \"Final_Status\")\n",
    "                    .agg(count(\"Order_Id\").alias(\"Order_Count\"))\n",
    "                    .orderBy(\"Category\", \"Payment_Method\", \"Year_Month\"))"
   ]
  },
  {
   "cell_type": "code",
   "execution_count": null,
   "metadata": {
    "application/vnd.databricks.v1+cell": {
     "cellMetadata": {
      "byteLimit": 2048000,
      "rowLimit": 10000
     },
     "inputWidgets": {},
     "nuid": "5df30293-e086-4de4-a9e2-8b0e9420280b",
     "showTitle": false,
     "title": ""
    },
    "vscode": {
     "languageId": "python"
    }
   },
   "outputs": [
    {
     "name": "stdout",
     "output_type": "stream",
     "text": [
      "+----------+--------------+----------+------------+-----------+\n",
      "|  Category|Payment_Method|Year_Month|Final_Status|Order_Count|\n",
      "+----------+--------------+----------+------------+-----------+\n",
      "|Appliances|       Easypay|   2020-10|   cancelled|         28|\n",
      "|Appliances|       Easypay|   2020-10|    received|         19|\n",
      "|Appliances|       Easypay|   2020-11|    received|         49|\n",
      "|Appliances|       Easypay|   2020-11|   cancelled|         93|\n",
      "|Appliances|       Easypay|   2020-12|    received|       2567|\n",
      "+----------+--------------+----------+------------+-----------+\n",
      "only showing top 5 rows\n",
      "\n"
     ]
    }
   ],
   "source": [
    "# Show the aggregated data\n",
    "status_counts_df.show(5)"
   ]
  },
  {
   "cell_type": "markdown",
   "metadata": {},
   "source": [
    "##### Storing the created data into a table on the Curated zone/ curated database."
   ]
  },
  {
   "cell_type": "code",
   "execution_count": null,
   "metadata": {
    "application/vnd.databricks.v1+cell": {
     "cellMetadata": {
      "byteLimit": 2048000,
      "rowLimit": 10000
     },
     "inputWidgets": {},
     "nuid": "f0b9c5fc-12d1-476e-aeaf-1aaa8ab51d07",
     "showTitle": false,
     "title": ""
    },
    "vscode": {
     "languageId": "python"
    }
   },
   "outputs": [],
   "source": [
    "status_counts_df.write.saveAsTable(\"curated.statuscount\")"
   ]
  },
  {
   "cell_type": "markdown",
   "metadata": {
    "application/vnd.databricks.v1+cell": {
     "cellMetadata": {
      "byteLimit": 2048000,
      "rowLimit": 10000
     },
     "inputWidgets": {},
     "nuid": "dea38196-b751-41a9-8f49-3b6897d3c8e0",
     "showTitle": false,
     "title": ""
    }
   },
   "source": [
    "### 8. Understanding the Orders based by demography and gender"
   ]
  },
  {
   "cell_type": "code",
   "execution_count": null,
   "metadata": {
    "application/vnd.databricks.v1+cell": {
     "cellMetadata": {
      "byteLimit": 2048000,
      "rowLimit": 10000
     },
     "inputWidgets": {},
     "nuid": "dd5d2622-f064-4cbd-9dd4-ad7570cd2487",
     "showTitle": false,
     "title": ""
    },
    "vscode": {
     "languageId": "python"
    }
   },
   "outputs": [],
   "source": [
    "# Join cust_df and orders_df on cust_id\n",
    "combined_df = (cust_df.join(orders_df, on=\"Cust_Id\")\n",
    "               .select(\"Cust_Id\", \"Total\", \"Payment_Method\", \"Region\", \"State\", \"Gender\"))\n",
    "\n",
    "# Aggregate revenue by state, city, and payment gender\n",
    "revenue_df = (combined_df.groupBy(\"Region\", \"State\", \"Gender\")\n",
    "                     .agg(round(sum(\"Total\"),2).alias(\"total_Revenue\"))\n",
    "                     .orderBy(\"Region\", \"State\", \"Gender\"))"
   ]
  },
  {
   "cell_type": "code",
   "execution_count": null,
   "metadata": {
    "application/vnd.databricks.v1+cell": {
     "cellMetadata": {
      "byteLimit": 2048000,
      "rowLimit": 10000
     },
     "inputWidgets": {},
     "nuid": "cb105988-da62-49c3-b797-42fb5193e709",
     "showTitle": false,
     "title": ""
    },
    "vscode": {
     "languageId": "python"
    }
   },
   "outputs": [
    {
     "name": "stdout",
     "output_type": "stream",
     "text": [
      "+-------+-----+------+-------------+\n",
      "| Region|State|Gender|total_Revenue|\n",
      "+-------+-----+------+-------------+\n",
      "|Midwest|   IA|     F|   3278726.41|\n",
      "|Midwest|   IA|     M|   2975767.91|\n",
      "|Midwest|   IL|     F|   4390591.26|\n",
      "|Midwest|   IL|     M|   4716303.63|\n",
      "|Midwest|   IN|     F|   2470668.59|\n",
      "+-------+-----+------+-------------+\n",
      "only showing top 5 rows\n",
      "\n"
     ]
    }
   ],
   "source": [
    "revenue_df.show(5)"
   ]
  },
  {
   "cell_type": "markdown",
   "metadata": {},
   "source": [
    "##### Storing the created data into a table on the Curated zone/ curated database."
   ]
  },
  {
   "cell_type": "code",
   "execution_count": null,
   "metadata": {
    "application/vnd.databricks.v1+cell": {
     "cellMetadata": {
      "byteLimit": 2048000,
      "rowLimit": 10000
     },
     "inputWidgets": {},
     "nuid": "9d071a36-58e6-4a9b-8a01-d808e5c5229f",
     "showTitle": false,
     "title": ""
    },
    "vscode": {
     "languageId": "python"
    }
   },
   "outputs": [],
   "source": [
    "revenue_df.write.saveAsTable(\"curated.revbydemography\")"
   ]
  },
  {
   "cell_type": "markdown",
   "metadata": {},
   "source": [
    "#### Making sure that the tables have been created properly."
   ]
  },
  {
   "cell_type": "code",
   "execution_count": null,
   "metadata": {
    "application/vnd.databricks.v1+cell": {
     "cellMetadata": {
      "byteLimit": 2048000,
      "implicitDf": true,
      "rowLimit": 10000
     },
     "inputWidgets": {},
     "nuid": "e88c3ca6-3efc-462d-8c4e-5a985f85fb43",
     "showTitle": false,
     "title": ""
    },
    "vscode": {
     "languageId": "python"
    }
   },
   "outputs": [
    {
     "data": {
      "text/html": [
       "<style scoped>\n",
       "  .table-result-container {\n",
       "    max-height: 300px;\n",
       "    overflow: auto;\n",
       "  }\n",
       "  table, th, td {\n",
       "    border: 1px solid black;\n",
       "    border-collapse: collapse;\n",
       "  }\n",
       "  th, td {\n",
       "    padding: 5px;\n",
       "  }\n",
       "  th {\n",
       "    text-align: left;\n",
       "  }\n",
       "</style><div class='table-result-container'><table class='table-result'><thead style='background-color: white'><tr><th>database</th><th>tableName</th><th>isTemporary</th></tr></thead><tbody><tr><td>curated</td><td>categorybyorders</td><td>false</td></tr><tr><td>curated</td><td>ordervolandrevenue</td><td>false</td></tr><tr><td>curated</td><td>revbydemography</td><td>false</td></tr><tr><td>curated</td><td>revenuebycategory</td><td>false</td></tr><tr><td>curated</td><td>revenueforecast</td><td>false</td></tr><tr><td>curated</td><td>rfm</td><td>false</td></tr><tr><td>curated</td><td>spendbyage</td><td>false</td></tr><tr><td>curated</td><td>statuscount</td><td>false</td></tr></tbody></table></div>"
      ]
     },
     "metadata": {
      "application/vnd.databricks.v1+output": {
       "addedWidgets": {},
       "aggData": [],
       "aggError": "",
       "aggOverflow": false,
       "aggSchema": [],
       "aggSeriesLimitReached": false,
       "aggType": "",
       "arguments": {},
       "columnCustomDisplayInfos": {},
       "data": [
        [
         "curated",
         "categorybyorders",
         false
        ],
        [
         "curated",
         "ordervolandrevenue",
         false
        ],
        [
         "curated",
         "revbydemography",
         false
        ],
        [
         "curated",
         "revenuebycategory",
         false
        ],
        [
         "curated",
         "revenueforecast",
         false
        ],
        [
         "curated",
         "rfm",
         false
        ],
        [
         "curated",
         "spendbyage",
         false
        ],
        [
         "curated",
         "statuscount",
         false
        ]
       ],
       "datasetInfos": [],
       "dbfsResultPath": null,
       "isJsonSchema": true,
       "metadata": {},
       "overflow": false,
       "plotOptions": {
        "customPlotOptions": {},
        "displayType": "table",
        "pivotAggregation": null,
        "pivotColumns": null,
        "xColumns": null,
        "yColumns": null
       },
       "removedWidgets": [],
       "schema": [
        {
         "metadata": "{}",
         "name": "database",
         "type": "\"string\""
        },
        {
         "metadata": "{}",
         "name": "tableName",
         "type": "\"string\""
        },
        {
         "metadata": "{}",
         "name": "isTemporary",
         "type": "\"boolean\""
        }
       ],
       "type": "table"
      }
     },
     "output_type": "display_data"
    }
   ],
   "source": [
    "%sql\n",
    "USE curated;\n",
    "SHOW TABLES;"
   ]
  }
 ],
 "metadata": {
  "application/vnd.databricks.v1+notebook": {
   "dashboards": [],
   "environmentMetadata": null,
   "language": "python",
   "notebookMetadata": {
    "mostRecentlyExecutedCommandWithImplicitDF": {
     "commandId": 65015045712725,
     "dataframes": [
      "_sqldf"
     ]
    },
    "pythonIndentUnit": 4
   },
   "notebookName": "G_18_Staging_to_Curated",
   "widgets": {}
  },
  "kernelspec": {
   "display_name": "",
   "name": ""
  },
  "language_info": {
   "name": ""
  }
 },
 "nbformat": 4,
 "nbformat_minor": 4
}
