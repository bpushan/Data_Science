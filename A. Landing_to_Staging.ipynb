{
 "cells": [
  {
   "cell_type": "markdown",
   "metadata": {},
   "source": [
    "# Data Ingestion: Landing_to_Staging"
   ]
  },
  {
   "cell_type": "markdown",
   "metadata": {
    "application/vnd.databricks.v1+cell": {
     "cellMetadata": {
      "byteLimit": 2048000,
      "rowLimit": 10000
     },
     "inputWidgets": {},
     "nuid": "5efa2059-7e38-4d7c-8810-efb26c7a06ae",
     "showTitle": false,
     "title": ""
    }
   },
   "source": [
    "## Big Data and Cloud Computing Assignment Group 18\n",
    "#### Datasets: \n",
    "There is a single customer dataset (json file) that needs to be uploaded once.\n",
    "- customer.json => cust_id, gender, age, full_name, email, customer since, place name, county, city, state, zip, region\n",
    "\n",
    "There are Orders files (csv file) for each month starting from October 2020 to September 2021. These files arrive every month and have to be loaded monthly.\n",
    "- orders.csv => index, order_id, order_date, item_id, qty_ordered, price, value, discount_amount, total, category, payment_method, cust_id, final_status\n"
   ]
  },
  {
   "cell_type": "code",
   "execution_count": null,
   "metadata": {
    "application/vnd.databricks.v1+cell": {
     "cellMetadata": {
      "byteLimit": 2048000,
      "rowLimit": 10000
     },
     "inputWidgets": {},
     "nuid": "885621c5-f781-460f-adab-2ab8baaf7108",
     "showTitle": false,
     "title": ""
    },
    "vscode": {
     "languageId": "python"
    }
   },
   "outputs": [],
   "source": [
    "#### Importing packages\n",
    "from pyspark.sql.types import *\n",
    "from pyspark.sql.functions import *"
   ]
  },
  {
   "cell_type": "markdown",
   "metadata": {
    "application/vnd.databricks.v1+cell": {
     "cellMetadata": {
      "byteLimit": 2048000,
      "rowLimit": 10000
     },
     "inputWidgets": {},
     "nuid": "e73478b5-8424-48d4-b1af-27dd1e76014a",
     "showTitle": false,
     "title": ""
    }
   },
   "source": [
    "## Landing Zone\n",
    "The files when generated will be land in the landing zone."
   ]
  },
  {
   "cell_type": "code",
   "execution_count": null,
   "metadata": {
    "application/vnd.databricks.v1+cell": {
     "cellMetadata": {
      "byteLimit": 2048000,
      "rowLimit": 10000
     },
     "inputWidgets": {},
     "nuid": "e3fd47d9-31fb-44e9-afc9-fe4720c110f0",
     "showTitle": false,
     "title": ""
    },
    "vscode": {
     "languageId": "python"
    }
   },
   "outputs": [
    {
     "data": {
      "text/html": [
       "<style scoped>\n",
       "  .table-result-container {\n",
       "    max-height: 300px;\n",
       "    overflow: auto;\n",
       "  }\n",
       "  table, th, td {\n",
       "    border: 1px solid black;\n",
       "    border-collapse: collapse;\n",
       "  }\n",
       "  th, td {\n",
       "    padding: 5px;\n",
       "  }\n",
       "  th {\n",
       "    text-align: left;\n",
       "  }\n",
       "</style><div class='table-result-container'><table class='table-result'><thead style='background-color: white'><tr><th>path</th><th>name</th><th>size</th><th>modificationTime</th></tr></thead><tbody><tr><td>dbfs:/FileStore/tables/BDCC/</td><td>BDCC/</td><td>0</td><td>0</td></tr><tr><td>dbfs:/FileStore/tables/business.json</td><td>business.json</td><td>55412111</td><td>1694586639000</td></tr><tr><td>dbfs:/FileStore/tables/customers.json</td><td>customers.json</td><td>15815082</td><td>1722965143000</td></tr><tr><td>dbfs:/FileStore/tables/movies.txt</td><td>movies.txt</td><td>236344</td><td>1694583795000</td></tr><tr><td>dbfs:/FileStore/tables/orders_01_21.csv</td><td>orders_01_21.csv</td><td>1578303</td><td>1722965281000</td></tr><tr><td>dbfs:/FileStore/tables/orders_02_21.csv</td><td>orders_02_21.csv</td><td>924491</td><td>1722965282000</td></tr><tr><td>dbfs:/FileStore/tables/orders_03_21.csv</td><td>orders_03_21.csv</td><td>2522578</td><td>1722965273000</td></tr><tr><td>dbfs:/FileStore/tables/orders_04_21.csv</td><td>orders_04_21.csv</td><td>3919934</td><td>1722965273000</td></tr><tr><td>dbfs:/FileStore/tables/orders_05_21.csv</td><td>orders_05_21.csv</td><td>1359574</td><td>1722965274000</td></tr><tr><td>dbfs:/FileStore/tables/orders_06_21.csv</td><td>orders_06_21.csv</td><td>2588185</td><td>1722965276000</td></tr><tr><td>dbfs:/FileStore/tables/orders_07_21.csv</td><td>orders_07_21.csv</td><td>1458186</td><td>1722965276000</td></tr><tr><td>dbfs:/FileStore/tables/orders_08_21.csv</td><td>orders_08_21.csv</td><td>1098698</td><td>1722965277000</td></tr><tr><td>dbfs:/FileStore/tables/orders_09_21.csv</td><td>orders_09_21.csv</td><td>1195323</td><td>1722965277000</td></tr><tr><td>dbfs:/FileStore/tables/orders_10_20.csv</td><td>orders_10_20.csv</td><td>843212</td><td>1722965278000</td></tr><tr><td>dbfs:/FileStore/tables/orders_11_20.csv</td><td>orders_11_20.csv</td><td>1607077</td><td>1722965279000</td></tr><tr><td>dbfs:/FileStore/tables/orders_12_20.csv</td><td>orders_12_20.csv</td><td>7943413</td><td>1722965284000</td></tr><tr><td>dbfs:/FileStore/tables/people.json</td><td>people.json</td><td>73</td><td>1694586333000</td></tr><tr><td>dbfs:/FileStore/tables/people.txt</td><td>people.txt</td><td>32</td><td>1694521130000</td></tr><tr><td>dbfs:/FileStore/tables/rossmansales_2013.csv</td><td>rossmansales_2013.csv</td><td>12764931</td><td>1721541864000</td></tr><tr><td>dbfs:/FileStore/tables/rossmansales_2014.csv</td><td>rossmansales_2014.csv</td><td>11724285</td><td>1721541866000</td></tr><tr><td>dbfs:/FileStore/tables/rossmansales_2015.csv</td><td>rossmansales_2015.csv</td><td>7352847</td><td>1721541862000</td></tr><tr><td>dbfs:/FileStore/tables/rossmanstores.csv</td><td>rossmanstores.csv</td><td>45010</td><td>1721541858000</td></tr><tr><td>dbfs:/FileStore/tables/transactions-1.csv</td><td>transactions-1.csv</td><td>368</td><td>1697039319000</td></tr><tr><td>dbfs:/FileStore/tables/transactions-2.csv</td><td>transactions-2.csv</td><td>368</td><td>1697042354000</td></tr><tr><td>dbfs:/FileStore/tables/transactions.csv</td><td>transactions.csv</td><td>368</td><td>1696951621000</td></tr><tr><td>dbfs:/FileStore/tables/transactions.txt</td><td>transactions.txt</td><td>381</td><td>1697039575000</td></tr><tr><td>dbfs:/FileStore/tables/users-1.csv</td><td>users-1.csv</td><td>799</td><td>1697042359000</td></tr><tr><td>dbfs:/FileStore/tables/users.csv</td><td>users.csv</td><td>799</td><td>1696951609000</td></tr><tr><td>dbfs:/FileStore/tables/users.txt</td><td>users.txt</td><td>827</td><td>1697039596000</td></tr></tbody></table></div>"
      ]
     },
     "metadata": {
      "application/vnd.databricks.v1+output": {
       "addedWidgets": {},
       "aggData": [],
       "aggError": "",
       "aggOverflow": false,
       "aggSchema": [],
       "aggSeriesLimitReached": false,
       "aggType": "",
       "arguments": {},
       "columnCustomDisplayInfos": {},
       "data": [
        [
         "dbfs:/FileStore/tables/BDCC/",
         "BDCC/",
         0,
         0
        ],
        [
         "dbfs:/FileStore/tables/business.json",
         "business.json",
         55412111,
         1694586639000
        ],
        [
         "dbfs:/FileStore/tables/customers.json",
         "customers.json",
         15815082,
         1722965143000
        ],
        [
         "dbfs:/FileStore/tables/movies.txt",
         "movies.txt",
         236344,
         1694583795000
        ],
        [
         "dbfs:/FileStore/tables/orders_01_21.csv",
         "orders_01_21.csv",
         1578303,
         1722965281000
        ],
        [
         "dbfs:/FileStore/tables/orders_02_21.csv",
         "orders_02_21.csv",
         924491,
         1722965282000
        ],
        [
         "dbfs:/FileStore/tables/orders_03_21.csv",
         "orders_03_21.csv",
         2522578,
         1722965273000
        ],
        [
         "dbfs:/FileStore/tables/orders_04_21.csv",
         "orders_04_21.csv",
         3919934,
         1722965273000
        ],
        [
         "dbfs:/FileStore/tables/orders_05_21.csv",
         "orders_05_21.csv",
         1359574,
         1722965274000
        ],
        [
         "dbfs:/FileStore/tables/orders_06_21.csv",
         "orders_06_21.csv",
         2588185,
         1722965276000
        ],
        [
         "dbfs:/FileStore/tables/orders_07_21.csv",
         "orders_07_21.csv",
         1458186,
         1722965276000
        ],
        [
         "dbfs:/FileStore/tables/orders_08_21.csv",
         "orders_08_21.csv",
         1098698,
         1722965277000
        ],
        [
         "dbfs:/FileStore/tables/orders_09_21.csv",
         "orders_09_21.csv",
         1195323,
         1722965277000
        ],
        [
         "dbfs:/FileStore/tables/orders_10_20.csv",
         "orders_10_20.csv",
         843212,
         1722965278000
        ],
        [
         "dbfs:/FileStore/tables/orders_11_20.csv",
         "orders_11_20.csv",
         1607077,
         1722965279000
        ],
        [
         "dbfs:/FileStore/tables/orders_12_20.csv",
         "orders_12_20.csv",
         7943413,
         1722965284000
        ],
        [
         "dbfs:/FileStore/tables/people.json",
         "people.json",
         73,
         1694586333000
        ],
        [
         "dbfs:/FileStore/tables/people.txt",
         "people.txt",
         32,
         1694521130000
        ],
        [
         "dbfs:/FileStore/tables/rossmansales_2013.csv",
         "rossmansales_2013.csv",
         12764931,
         1721541864000
        ],
        [
         "dbfs:/FileStore/tables/rossmansales_2014.csv",
         "rossmansales_2014.csv",
         11724285,
         1721541866000
        ],
        [
         "dbfs:/FileStore/tables/rossmansales_2015.csv",
         "rossmansales_2015.csv",
         7352847,
         1721541862000
        ],
        [
         "dbfs:/FileStore/tables/rossmanstores.csv",
         "rossmanstores.csv",
         45010,
         1721541858000
        ],
        [
         "dbfs:/FileStore/tables/transactions-1.csv",
         "transactions-1.csv",
         368,
         1697039319000
        ],
        [
         "dbfs:/FileStore/tables/transactions-2.csv",
         "transactions-2.csv",
         368,
         1697042354000
        ],
        [
         "dbfs:/FileStore/tables/transactions.csv",
         "transactions.csv",
         368,
         1696951621000
        ],
        [
         "dbfs:/FileStore/tables/transactions.txt",
         "transactions.txt",
         381,
         1697039575000
        ],
        [
         "dbfs:/FileStore/tables/users-1.csv",
         "users-1.csv",
         799,
         1697042359000
        ],
        [
         "dbfs:/FileStore/tables/users.csv",
         "users.csv",
         799,
         1696951609000
        ],
        [
         "dbfs:/FileStore/tables/users.txt",
         "users.txt",
         827,
         1697039596000
        ]
       ],
       "datasetInfos": [],
       "dbfsResultPath": null,
       "isJsonSchema": true,
       "metadata": {
        "isDbfsCommandResult": false
       },
       "overflow": false,
       "plotOptions": {
        "customPlotOptions": {},
        "displayType": "table",
        "pivotAggregation": null,
        "pivotColumns": null,
        "xColumns": null,
        "yColumns": null
       },
       "removedWidgets": [],
       "schema": [
        {
         "metadata": "{}",
         "name": "path",
         "type": "\"string\""
        },
        {
         "metadata": "{}",
         "name": "name",
         "type": "\"string\""
        },
        {
         "metadata": "{}",
         "name": "size",
         "type": "\"long\""
        },
        {
         "metadata": "{}",
         "name": "modificationTime",
         "type": "\"long\""
        }
       ],
       "type": "table"
      }
     },
     "output_type": "display_data"
    }
   ],
   "source": [
    "%fs ls dbfs:/FileStore/tables/"
   ]
  },
  {
   "cell_type": "code",
   "execution_count": null,
   "metadata": {
    "application/vnd.databricks.v1+cell": {
     "cellMetadata": {
      "byteLimit": 2048000,
      "rowLimit": 10000
     },
     "inputWidgets": {},
     "nuid": "f9c0c9ce-e10a-4df7-8fc7-b311f726aa07",
     "showTitle": false,
     "title": ""
    },
    "vscode": {
     "languageId": "python"
    }
   },
   "outputs": [],
   "source": [
    "spark.conf.set(\"spark.sql.legacy.timeParserPolicy\",\"LEGACY\")"
   ]
  },
  {
   "cell_type": "markdown",
   "metadata": {
    "application/vnd.databricks.v1+cell": {
     "cellMetadata": {
      "byteLimit": 2048000,
      "rowLimit": 10000
     },
     "inputWidgets": {},
     "nuid": "a6a83607-1361-4c4f-8005-f666b91db146",
     "showTitle": false,
     "title": ""
    }
   },
   "source": [
    "## Preparing the Staging Zone"
   ]
  },
  {
   "cell_type": "markdown",
   "metadata": {
    "application/vnd.databricks.v1+cell": {
     "cellMetadata": {
      "byteLimit": 2048000,
      "rowLimit": 10000
     },
     "inputWidgets": {},
     "nuid": "9334d023-1d41-4f50-b5b5-0b0d4af55065",
     "showTitle": false,
     "title": ""
    }
   },
   "source": [
    "\n",
    "Removing the database if present. This is done avoid error when notebook is run again."
   ]
  },
  {
   "cell_type": "code",
   "execution_count": null,
   "metadata": {
    "application/vnd.databricks.v1+cell": {
     "cellMetadata": {
      "byteLimit": 2048000,
      "implicitDf": true,
      "rowLimit": 10000
     },
     "inputWidgets": {},
     "nuid": "a8430db2-1f6e-4b34-9bf7-480ce4e675d6",
     "showTitle": false,
     "title": ""
    },
    "vscode": {
     "languageId": "python"
    }
   },
   "outputs": [
    {
     "data": {
      "text/html": [
       "<style scoped>\n",
       "  .table-result-container {\n",
       "    max-height: 300px;\n",
       "    overflow: auto;\n",
       "  }\n",
       "  table, th, td {\n",
       "    border: 1px solid black;\n",
       "    border-collapse: collapse;\n",
       "  }\n",
       "  th, td {\n",
       "    padding: 5px;\n",
       "  }\n",
       "  th {\n",
       "    text-align: left;\n",
       "  }\n",
       "</style><div class='table-result-container'><table class='table-result'><thead style='background-color: white'><tr></tr></thead><tbody></tbody></table></div>"
      ]
     },
     "metadata": {
      "application/vnd.databricks.v1+output": {
       "addedWidgets": {},
       "aggData": [],
       "aggError": "",
       "aggOverflow": false,
       "aggSchema": [],
       "aggSeriesLimitReached": false,
       "aggType": "",
       "arguments": {},
       "columnCustomDisplayInfos": {},
       "data": [],
       "datasetInfos": [],
       "dbfsResultPath": null,
       "isJsonSchema": true,
       "metadata": {},
       "overflow": false,
       "plotOptions": {
        "customPlotOptions": {},
        "displayType": "table",
        "pivotAggregation": null,
        "pivotColumns": null,
        "xColumns": null,
        "yColumns": null
       },
       "removedWidgets": [],
       "schema": [],
       "type": "table"
      }
     },
     "output_type": "display_data"
    }
   ],
   "source": [
    "%sql \n",
    "\n",
    "-- This cell will remove everything from the staging database \n",
    "-- run this command or cell only when you want to run this notebook and create the zone and the tables from scratch.\n",
    "\n",
    "DROP DATABASE IF EXISTS staging CASCADE;\n",
    "\n",
    "CREATE DATABASE staging;"
   ]
  },
  {
   "cell_type": "markdown",
   "metadata": {
    "application/vnd.databricks.v1+cell": {
     "cellMetadata": {
      "byteLimit": 2048000,
      "rowLimit": 10000
     },
     "inputWidgets": {},
     "nuid": "6b1d02ab-37be-4889-be8b-539b6e9ab03b",
     "showTitle": false,
     "title": ""
    }
   },
   "source": [
    "Removing the tables if present."
   ]
  },
  {
   "cell_type": "code",
   "execution_count": null,
   "metadata": {
    "application/vnd.databricks.v1+cell": {
     "cellMetadata": {
      "byteLimit": 2048000,
      "implicitDf": true,
      "rowLimit": 10000
     },
     "inputWidgets": {},
     "nuid": "3d6cd288-8796-40a7-921d-a52e721c2156",
     "showTitle": false,
     "title": ""
    },
    "vscode": {
     "languageId": "python"
    }
   },
   "outputs": [
    {
     "data": {
      "text/html": [
       "<style scoped>\n",
       "  .table-result-container {\n",
       "    max-height: 300px;\n",
       "    overflow: auto;\n",
       "  }\n",
       "  table, th, td {\n",
       "    border: 1px solid black;\n",
       "    border-collapse: collapse;\n",
       "  }\n",
       "  th, td {\n",
       "    padding: 5px;\n",
       "  }\n",
       "  th {\n",
       "    text-align: left;\n",
       "  }\n",
       "</style><div class='table-result-container'><table class='table-result'><thead style='background-color: white'><tr></tr></thead><tbody></tbody></table></div>"
      ]
     },
     "metadata": {
      "application/vnd.databricks.v1+output": {
       "addedWidgets": {},
       "aggData": [],
       "aggError": "",
       "aggOverflow": false,
       "aggSchema": [],
       "aggSeriesLimitReached": false,
       "aggType": "",
       "arguments": {},
       "columnCustomDisplayInfos": {},
       "data": [],
       "datasetInfos": [],
       "dbfsResultPath": null,
       "isJsonSchema": true,
       "metadata": {},
       "overflow": false,
       "plotOptions": {
        "customPlotOptions": {},
        "displayType": "table",
        "pivotAggregation": null,
        "pivotColumns": null,
        "xColumns": null,
        "yColumns": null
       },
       "removedWidgets": [],
       "schema": [],
       "type": "table"
      }
     },
     "output_type": "display_data"
    }
   ],
   "source": [
    "%sql\n",
    "\n",
    "-- Uncomment and run this cell, if want to drop the table only (not the database)\n",
    "DROP TABLE IF EXISTS customers;\n",
    "DROP TABLE IF EXISTS orders;"
   ]
  },
  {
   "cell_type": "markdown",
   "metadata": {
    "application/vnd.databricks.v1+cell": {
     "cellMetadata": {
      "byteLimit": 2048000,
      "rowLimit": 10000
     },
     "inputWidgets": {},
     "nuid": "f0977d3b-9551-452e-bfc0-154d6fbbe852",
     "showTitle": false,
     "title": ""
    }
   },
   "source": [
    "### Ingest the Customer Data, one time load.\n",
    "The file has header that do not match the criteria for tables, so also need to rename the header so that we can create the table easily."
   ]
  },
  {
   "cell_type": "code",
   "execution_count": null,
   "metadata": {
    "application/vnd.databricks.v1+cell": {
     "cellMetadata": {
      "byteLimit": 2048000,
      "rowLimit": 10000
     },
     "inputWidgets": {},
     "nuid": "34435eb4-0df1-4f13-84eb-b7776e5e71cf",
     "showTitle": false,
     "title": ""
    },
    "vscode": {
     "languageId": "python"
    }
   },
   "outputs": [],
   "source": [
    "# Define the custom shchema\n",
    "cust_fields = StructType([StructField(\"City\", StringType(), True),\n",
    "                     StructField(\"County\", StringType(), True),\n",
    "                     StructField(\"Customer Since\", StringType(), False),\n",
    "                     StructField(\"E Mail\", StringType(), True), \n",
    "                     StructField(\"Gender\", StringType(), False),\n",
    "                     StructField(\"Place Name\", StringType(), False),\n",
    "                     StructField(\"Region\", StringType(), True),\n",
    "                     StructField(\"State\", StringType(), True),\n",
    "                     StructField(\"Zip\", IntegerType(), False),\n",
    "                     StructField(\"age\", StringType(), True),\n",
    "                     StructField(\"cust_id\", StringType(), False),\n",
    "                     StructField(\"full_name\", StringType(), True)])\n",
    "\n",
    "cust_df = sqlContext.read.json(\"/FileStore/tables/customers.json\",\n",
    "                               schema = StructType(cust_fields))\n",
    "\n",
    "cust_df = (cust_df.withColumnRenamed(\"Customer Since\", \"Customer_Since\")\n",
    "                  .withColumnRenamed(\"E Mail\", \"E_Mail\")\n",
    "                  .withColumnRenamed(\"Place Name\", \"Place_Name\")\n",
    "                  .withColumnRenamed(\"cust_id\", \"Cust_Id\")\n",
    "                  .withColumnRenamed(\"full_name\", \"Full_Name\"))             "
   ]
  },
  {
   "cell_type": "code",
   "execution_count": null,
   "metadata": {
    "application/vnd.databricks.v1+cell": {
     "cellMetadata": {
      "byteLimit": 2048000,
      "rowLimit": 10000
     },
     "inputWidgets": {},
     "nuid": "32f4fd40-b856-4f27-9ae9-04f6ba5af703",
     "showTitle": false,
     "title": ""
    },
    "vscode": {
     "languageId": "python"
    }
   },
   "outputs": [
    {
     "name": "stdout",
     "output_type": "stream",
     "text": [
      "+-----------+-----------+--------------+--------------------+------+-----------+-------+-----+-----+----+-------+-----------------+\n",
      "|       City|     County|Customer_Since|              E_Mail|Gender| Place_Name| Region|State|  Zip| age|Cust_Id|        Full_Name|\n",
      "+-----------+-----------+--------------+--------------------+------+-----------+-------+-----+-----+----+-------+-----------------+\n",
      "|     Vinson|     Harmon|     8/22/2006|jani.titus@gmail.com|     F|     Vinson|  South|   OK|73571|43.0|60124.0|      Titus, Jani|\n",
      "|     Graham|   Bradford|      2/4/1981| lee.eaker@gmail.com|     M|     Graham|  South|   FL|32042|28.0|42485.0|       Eaker, Lee|\n",
      "|Grand Forks|Grand Forks|     6/27/2010|jason.simoneau@gm...|     M|Grand Forks|Midwest|   ND|58201|65.0|53620.0|  Simoneau, Jason|\n",
      "|Laupahoehoe|     Hawaii|      4/3/1992|grover.bayless@ya...|     M|Laupahoehoe|   West|   HI|96764|33.0|56836.0|  Bayless, Grover|\n",
      "|     Glendo|     Platte|     6/21/2015|albertina.bensen@...|     F|     Glendo|   West|   WY|82213|73.0|60125.0|Bensen, Albertina|\n",
      "+-----------+-----------+--------------+--------------------+------+-----------+-------+-----+-----+----+-------+-----------------+\n",
      "only showing top 5 rows\n",
      "\n"
     ]
    }
   ],
   "source": [
    "cust_df.show(5)"
   ]
  },
  {
   "cell_type": "markdown",
   "metadata": {
    "application/vnd.databricks.v1+cell": {
     "cellMetadata": {
      "byteLimit": 2048000,
      "rowLimit": 10000
     },
     "inputWidgets": {},
     "nuid": "4d40f509-56e9-479f-a827-6030a5bbffcc",
     "showTitle": false,
     "title": ""
    }
   },
   "source": [
    "#### Reformatting fields to get features to be used later."
   ]
  },
  {
   "cell_type": "code",
   "execution_count": null,
   "metadata": {
    "application/vnd.databricks.v1+cell": {
     "cellMetadata": {
      "byteLimit": 2048000,
      "rowLimit": 10000
     },
     "inputWidgets": {},
     "nuid": "9ae2fa1d-b5ea-4b43-ad59-8d014ef84c44",
     "showTitle": false,
     "title": ""
    },
    "vscode": {
     "languageId": "python"
    }
   },
   "outputs": [
    {
     "name": "stdout",
     "output_type": "stream",
     "text": [
      "+-----------+-----------+--------------+--------------------+------+-----------+-------+-----+-----+---+-------+-----------------+\n",
      "|       City|     County|Customer_Since|              E_Mail|Gender| Place_Name| Region|State|  ZIP|Age|Cust_Id|        Full_Name|\n",
      "+-----------+-----------+--------------+--------------------+------+-----------+-------+-----+-----+---+-------+-----------------+\n",
      "|     Vinson|     Harmon|    2006-08-22|jani.titus@gmail.com|     F|     Vinson|  South|   OK|73571| 43|  60124|      Titus, Jani|\n",
      "|     Graham|   Bradford|    1981-02-04| lee.eaker@gmail.com|     M|     Graham|  South|   FL|32042| 28|  42485|       Eaker, Lee|\n",
      "|Grand Forks|Grand Forks|    2010-06-27|jason.simoneau@gm...|     M|Grand Forks|Midwest|   ND|58201| 65|  53620|  Simoneau, Jason|\n",
      "|Laupahoehoe|     Hawaii|    1992-04-03|grover.bayless@ya...|     M|Laupahoehoe|   West|   HI|96764| 33|  56836|  Bayless, Grover|\n",
      "|     Glendo|     Platte|    2015-06-21|albertina.bensen@...|     F|     Glendo|   West|   WY|82213| 73|  60125|Bensen, Albertina|\n",
      "+-----------+-----------+--------------+--------------------+------+-----------+-------+-----+-----+---+-------+-----------------+\n",
      "only showing top 5 rows\n",
      "\n"
     ]
    }
   ],
   "source": [
    "cust_df = cust_df.withColumn(\"Customer_Since\", to_date(col(\"Customer_Since\"), \"MM/dd/yyyy\"))\n",
    "cust_df = cust_df.withColumn(\"ZIP\", col(\"Zip\").cast(\"integer\"))\n",
    "cust_df = cust_df.withColumn(\"Age\", col(\"age\").cast(\"integer\"))\n",
    "cust_df = cust_df.withColumn(\"Cust_Id\", col(\"Cust_Id\").cast(\"integer\"))\n",
    "\n",
    "cust_df.show(5)"
   ]
  },
  {
   "cell_type": "code",
   "execution_count": null,
   "metadata": {
    "application/vnd.databricks.v1+cell": {
     "cellMetadata": {
      "byteLimit": 2048000,
      "rowLimit": 10000
     },
     "inputWidgets": {},
     "nuid": "caf615d8-f912-434b-82b5-4ee07c7dc8ab",
     "showTitle": false,
     "title": ""
    },
    "vscode": {
     "languageId": "python"
    }
   },
   "outputs": [
    {
     "name": "stdout",
     "output_type": "stream",
     "text": [
      "root\n",
      " |-- City: string (nullable = true)\n",
      " |-- County: string (nullable = true)\n",
      " |-- Customer_Since: date (nullable = true)\n",
      " |-- E_Mail: string (nullable = true)\n",
      " |-- Gender: string (nullable = true)\n",
      " |-- Place_Name: string (nullable = true)\n",
      " |-- Region: string (nullable = true)\n",
      " |-- State: string (nullable = true)\n",
      " |-- ZIP: integer (nullable = true)\n",
      " |-- Age: integer (nullable = true)\n",
      " |-- Cust_Id: integer (nullable = true)\n",
      " |-- Full_Name: string (nullable = true)\n",
      "\n"
     ]
    }
   ],
   "source": [
    "cust_df.printSchema()"
   ]
  },
  {
   "cell_type": "markdown",
   "metadata": {
    "application/vnd.databricks.v1+cell": {
     "cellMetadata": {
      "byteLimit": 2048000,
      "rowLimit": 10000
     },
     "inputWidgets": {},
     "nuid": "7d4b34eb-76d9-451c-a8ed-0dd5e5bdae6c",
     "showTitle": false,
     "title": ""
    }
   },
   "source": [
    "Before writing to the table in staging, just checking if any table exists."
   ]
  },
  {
   "cell_type": "code",
   "execution_count": null,
   "metadata": {
    "application/vnd.databricks.v1+cell": {
     "cellMetadata": {
      "byteLimit": 2048000,
      "rowLimit": 10000
     },
     "inputWidgets": {},
     "nuid": "29fe372f-4a1c-44ae-ae34-230da49edf68",
     "showTitle": false,
     "title": ""
    },
    "vscode": {
     "languageId": "python"
    }
   },
   "outputs": [
    {
     "data": {
      "text/html": [
       "<style scoped>\n",
       "  .table-result-container {\n",
       "    max-height: 300px;\n",
       "    overflow: auto;\n",
       "  }\n",
       "  table, th, td {\n",
       "    border: 1px solid black;\n",
       "    border-collapse: collapse;\n",
       "  }\n",
       "  th, td {\n",
       "    padding: 5px;\n",
       "  }\n",
       "  th {\n",
       "    text-align: left;\n",
       "  }\n",
       "</style><div class='table-result-container'><table class='table-result'><thead style='background-color: white'><tr><th>path</th><th>name</th><th>size</th><th>modificationTime</th></tr></thead><tbody><tr><td>dbfs:/user/hive/warehouse/staging.db/customers/</td><td>customers/</td><td>0</td><td>0</td></tr><tr><td>dbfs:/user/hive/warehouse/staging.db/orders/</td><td>orders/</td><td>0</td><td>0</td></tr></tbody></table></div>"
      ]
     },
     "metadata": {
      "application/vnd.databricks.v1+output": {
       "addedWidgets": {},
       "aggData": [],
       "aggError": "",
       "aggOverflow": false,
       "aggSchema": [],
       "aggSeriesLimitReached": false,
       "aggType": "",
       "arguments": {},
       "columnCustomDisplayInfos": {},
       "data": [
        [
         "dbfs:/user/hive/warehouse/staging.db/customers/",
         "customers/",
         0,
         0
        ],
        [
         "dbfs:/user/hive/warehouse/staging.db/orders/",
         "orders/",
         0,
         0
        ]
       ],
       "datasetInfos": [],
       "dbfsResultPath": null,
       "isJsonSchema": true,
       "metadata": {
        "isDbfsCommandResult": false
       },
       "overflow": false,
       "plotOptions": {
        "customPlotOptions": {},
        "displayType": "table",
        "pivotAggregation": null,
        "pivotColumns": null,
        "xColumns": null,
        "yColumns": null
       },
       "removedWidgets": [],
       "schema": [
        {
         "metadata": "{}",
         "name": "path",
         "type": "\"string\""
        },
        {
         "metadata": "{}",
         "name": "name",
         "type": "\"string\""
        },
        {
         "metadata": "{}",
         "name": "size",
         "type": "\"long\""
        },
        {
         "metadata": "{}",
         "name": "modificationTime",
         "type": "\"long\""
        }
       ],
       "type": "table"
      }
     },
     "output_type": "display_data"
    }
   ],
   "source": [
    "%fs ls dbfs:/user/hive/warehouse/staging.db/"
   ]
  },
  {
   "cell_type": "markdown",
   "metadata": {
    "application/vnd.databricks.v1+cell": {
     "cellMetadata": {
      "byteLimit": 2048000,
      "rowLimit": 10000
     },
     "inputWidgets": {},
     "nuid": "06a3920f-b249-4291-84a1-d1c55375aa9c",
     "showTitle": false,
     "title": ""
    }
   },
   "source": [
    "Remove any test tables created before ingesting data to the staging zone."
   ]
  },
  {
   "cell_type": "code",
   "execution_count": null,
   "metadata": {
    "application/vnd.databricks.v1+cell": {
     "cellMetadata": {
      "byteLimit": 2048000,
      "rowLimit": 10000
     },
     "inputWidgets": {},
     "nuid": "2ff641be-31af-4278-8b89-3b8782333299",
     "showTitle": false,
     "title": ""
    },
    "vscode": {
     "languageId": "python"
    }
   },
   "outputs": [
    {
     "data": {
      "text/html": [
       "<style scoped>\n",
       "  .ansiout {\n",
       "    display: block;\n",
       "    unicode-bidi: embed;\n",
       "    white-space: pre-wrap;\n",
       "    word-wrap: break-word;\n",
       "    word-break: break-all;\n",
       "    font-family: \"Menlo\", \"Monaco\", \"Consolas\", \"Ubuntu Mono\", \"Source Code Pro\", monospace;\n",
       "    font-size: 13px;\n",
       "    color: #555;\n",
       "    margin-left: 4px;\n",
       "    line-height: 19px;\n",
       "  }\n",
       "</style>\n",
       "<div class=\"ansiout\">res2: Boolean = true\n",
       "</div>"
      ]
     },
     "metadata": {
      "application/vnd.databricks.v1+output": {
       "addedWidgets": {},
       "arguments": {},
       "data": "<div class=\"ansiout\">res2: Boolean = true\n</div>",
       "datasetInfos": [],
       "metadata": {
        "isDbfsCommandResult": false
       },
       "removedWidgets": [],
       "type": "html"
      }
     },
     "output_type": "display_data"
    }
   ],
   "source": [
    "%fs rm -r dbfs:/user/hive/warehouse/staging.db/customers"
   ]
  },
  {
   "cell_type": "markdown",
   "metadata": {
    "application/vnd.databricks.v1+cell": {
     "cellMetadata": {
      "byteLimit": 2048000,
      "rowLimit": 10000
     },
     "inputWidgets": {},
     "nuid": "f892b456-cc29-4152-9c23-7508883dd97f",
     "showTitle": false,
     "title": ""
    }
   },
   "source": [
    "##### Write the Customer data to the table"
   ]
  },
  {
   "cell_type": "code",
   "execution_count": null,
   "metadata": {
    "application/vnd.databricks.v1+cell": {
     "cellMetadata": {
      "byteLimit": 2048000,
      "rowLimit": 10000
     },
     "inputWidgets": {},
     "nuid": "01371fbb-c1e9-48cf-ad38-c004b1cfd52f",
     "showTitle": false,
     "title": ""
    },
    "vscode": {
     "languageId": "python"
    }
   },
   "outputs": [],
   "source": [
    "cust_df.write.saveAsTable(\"staging.customers\")"
   ]
  },
  {
   "cell_type": "code",
   "execution_count": null,
   "metadata": {
    "application/vnd.databricks.v1+cell": {
     "cellMetadata": {
      "byteLimit": 2048000,
      "implicitDf": true,
      "rowLimit": 10000
     },
     "inputWidgets": {},
     "nuid": "8b4effda-b925-4ac5-8d26-5a034ce06f56",
     "showTitle": false,
     "title": ""
    },
    "vscode": {
     "languageId": "python"
    }
   },
   "outputs": [
    {
     "data": {
      "text/html": [
       "<style scoped>\n",
       "  .table-result-container {\n",
       "    max-height: 300px;\n",
       "    overflow: auto;\n",
       "  }\n",
       "  table, th, td {\n",
       "    border: 1px solid black;\n",
       "    border-collapse: collapse;\n",
       "  }\n",
       "  th, td {\n",
       "    padding: 5px;\n",
       "  }\n",
       "  th {\n",
       "    text-align: left;\n",
       "  }\n",
       "</style><div class='table-result-container'><table class='table-result'><thead style='background-color: white'><tr><th>City</th><th>County</th><th>Customer_Since</th><th>E_Mail</th><th>Gender</th><th>Place_Name</th><th>Region</th><th>State</th><th>ZIP</th><th>Age</th><th>Cust_Id</th><th>Full_Name</th></tr></thead><tbody><tr><td>Vinson</td><td>Harmon</td><td>2006-08-22</td><td>jani.titus@gmail.com</td><td>F</td><td>Vinson</td><td>South</td><td>OK</td><td>73571</td><td>43</td><td>60124</td><td>Titus, Jani</td></tr><tr><td>Graham</td><td>Bradford</td><td>1981-02-04</td><td>lee.eaker@gmail.com</td><td>M</td><td>Graham</td><td>South</td><td>FL</td><td>32042</td><td>28</td><td>42485</td><td>Eaker, Lee</td></tr><tr><td>Grand Forks</td><td>Grand Forks</td><td>2010-06-27</td><td>jason.simoneau@gmail.com</td><td>M</td><td>Grand Forks</td><td>Midwest</td><td>ND</td><td>58201</td><td>65</td><td>53620</td><td>Simoneau, Jason</td></tr></tbody></table></div>"
      ]
     },
     "metadata": {
      "application/vnd.databricks.v1+output": {
       "addedWidgets": {},
       "aggData": [],
       "aggError": "",
       "aggOverflow": false,
       "aggSchema": [],
       "aggSeriesLimitReached": false,
       "aggType": "",
       "arguments": {},
       "columnCustomDisplayInfos": {},
       "data": [
        [
         "Vinson",
         "Harmon",
         "2006-08-22",
         "jani.titus@gmail.com",
         "F",
         "Vinson",
         "South",
         "OK",
         73571,
         43,
         60124,
         "Titus, Jani"
        ],
        [
         "Graham",
         "Bradford",
         "1981-02-04",
         "lee.eaker@gmail.com",
         "M",
         "Graham",
         "South",
         "FL",
         32042,
         28,
         42485,
         "Eaker, Lee"
        ],
        [
         "Grand Forks",
         "Grand Forks",
         "2010-06-27",
         "jason.simoneau@gmail.com",
         "M",
         "Grand Forks",
         "Midwest",
         "ND",
         58201,
         65,
         53620,
         "Simoneau, Jason"
        ]
       ],
       "datasetInfos": [],
       "dbfsResultPath": null,
       "isJsonSchema": true,
       "metadata": {},
       "overflow": false,
       "plotOptions": {
        "customPlotOptions": {},
        "displayType": "table",
        "pivotAggregation": null,
        "pivotColumns": null,
        "xColumns": null,
        "yColumns": null
       },
       "removedWidgets": [],
       "schema": [
        {
         "metadata": "{}",
         "name": "City",
         "type": "\"string\""
        },
        {
         "metadata": "{}",
         "name": "County",
         "type": "\"string\""
        },
        {
         "metadata": "{}",
         "name": "Customer_Since",
         "type": "\"date\""
        },
        {
         "metadata": "{}",
         "name": "E_Mail",
         "type": "\"string\""
        },
        {
         "metadata": "{}",
         "name": "Gender",
         "type": "\"string\""
        },
        {
         "metadata": "{}",
         "name": "Place_Name",
         "type": "\"string\""
        },
        {
         "metadata": "{}",
         "name": "Region",
         "type": "\"string\""
        },
        {
         "metadata": "{}",
         "name": "State",
         "type": "\"string\""
        },
        {
         "metadata": "{}",
         "name": "ZIP",
         "type": "\"integer\""
        },
        {
         "metadata": "{}",
         "name": "Age",
         "type": "\"integer\""
        },
        {
         "metadata": "{}",
         "name": "Cust_Id",
         "type": "\"integer\""
        },
        {
         "metadata": "{}",
         "name": "Full_Name",
         "type": "\"string\""
        }
       ],
       "type": "table"
      }
     },
     "output_type": "display_data"
    }
   ],
   "source": [
    "%sql\n",
    "SELECT * FROM staging.customers limit 3;"
   ]
  },
  {
   "cell_type": "markdown",
   "metadata": {
    "application/vnd.databricks.v1+cell": {
     "cellMetadata": {
      "byteLimit": 2048000,
      "rowLimit": 10000
     },
     "inputWidgets": {},
     "nuid": "f88a6640-022d-4401-ae33-0d83e3470ba7",
     "showTitle": false,
     "title": ""
    }
   },
   "source": [
    "### Ingesting the Orders Data, base partition."
   ]
  },
  {
   "cell_type": "code",
   "execution_count": null,
   "metadata": {
    "application/vnd.databricks.v1+cell": {
     "cellMetadata": {
      "byteLimit": 2048000,
      "rowLimit": 10000
     },
     "inputWidgets": {},
     "nuid": "0e86ee97-c7f9-44ba-a55a-495b41c74a1b",
     "showTitle": false,
     "title": ""
    },
    "vscode": {
     "languageId": "python"
    }
   },
   "outputs": [
    {
     "name": "stdout",
     "output_type": "stream",
     "text": [
      "+-----+---------+----------+-------+-----------+-----+------+---------------+------+-----------------+--------------+-------+------------+\n",
      "|Index| Order_Id|Order_Date|Item_Id|Qty_Ordered|Price| Value|Discount_Amount| Total|         Category|Payment_Method|Cust_Id|Final_Status|\n",
      "+-----+---------+----------+-------+-----------+-----+------+---------------+------+-----------------+--------------+-------+------------+\n",
      "|    0|100354678|  01/10/20| 574772|         21| 89.9|1798.0|            0.0|1798.0|    Men's Fashion|           cod|  60124|    received|\n",
      "|    1|100354678|  01/10/20| 574774|         11| 19.0| 190.0|            0.0| 190.0|    Men's Fashion|           cod|  60124|    received|\n",
      "|    2|100354680|  01/10/20| 574777|          9|149.9|1199.2|            0.0|1199.2|    Men's Fashion|           cod|  60124|    received|\n",
      "|    3|100354680|  01/10/20| 574779|          9| 79.9| 639.2|            0.0| 639.2|    Men's Fashion|           cod|  60124|    received|\n",
      "|    7|100354677|  01/10/20| 574769|          2| 49.0|  49.0|            0.0|  49.0|Mobiles & Tablets|       Payaxis|  42485|   cancelled|\n",
      "+-----+---------+----------+-------+-----------+-----+------+---------------+------+-----------------+--------------+-------+------------+\n",
      "only showing top 5 rows\n",
      "\n"
     ]
    }
   ],
   "source": [
    "# Define the custom shchema\n",
    "orders_fields = StructType([StructField(\"Index\", IntegerType(), True),\n",
    "                     StructField(\"Order_Id\", IntegerType(), False),\n",
    "                     StructField(\"Order_Date\", StringType(), False),\n",
    "                     StructField(\"Item_Id\", StringType(), False), \n",
    "                     StructField(\"Qty_Ordered\", IntegerType(), False),\n",
    "                     StructField(\"Price\", StringType(), False),\n",
    "                     StructField(\"Value\", StringType(), True),\n",
    "                     StructField(\"Discount_Amount\", StringType(), True),\n",
    "                     StructField(\"Total\", StringType(), True),\n",
    "                     StructField(\"Category\", StringType(), True),\n",
    "                     StructField(\"Payment_Method\", StringType(), True),\n",
    "                     StructField(\"Cust_Id\", IntegerType(), False),\n",
    "                     StructField(\"Final_Status\", StringType(), True)])\n",
    "\n",
    "orders_df = sqlContext.read.csv(\"/FileStore/tables/orders_10_20.csv\",\n",
    "                                header= True,\n",
    "                                schema = StructType(orders_fields))\n",
    "orders_df.show(5)"
   ]
  },
  {
   "cell_type": "code",
   "execution_count": null,
   "metadata": {
    "application/vnd.databricks.v1+cell": {
     "cellMetadata": {
      "byteLimit": 2048000,
      "rowLimit": 10000
     },
     "inputWidgets": {},
     "nuid": "35211c4c-19df-48b5-b592-5970c092a0f8",
     "showTitle": false,
     "title": ""
    },
    "vscode": {
     "languageId": "python"
    }
   },
   "outputs": [
    {
     "name": "stdout",
     "output_type": "stream",
     "text": [
      "+-----+---------+----------+-------+-----------+-----+------+---------------+------+-----------------+--------------+-------+------------+----------+\n",
      "|Index| Order_Id|Order_Date|Item_Id|Qty_Ordered|Price| Value|Discount_Amount| Total|         Category|Payment_Method|Cust_Id|Final_Status|Year_Month|\n",
      "+-----+---------+----------+-------+-----------+-----+------+---------------+------+-----------------+--------------+-------+------------+----------+\n",
      "|    0|100354678|2020-10-01| 574772|         21| 89.9|1798.0|            0.0|1798.0|    Men's Fashion|           cod|  60124|    received|   2020-10|\n",
      "|    1|100354678|2020-10-01| 574774|         11| 19.0| 190.0|            0.0| 190.0|    Men's Fashion|           cod|  60124|    received|   2020-10|\n",
      "|    2|100354680|2020-10-01| 574777|          9|149.9|1199.2|            0.0|1199.2|    Men's Fashion|           cod|  60124|    received|   2020-10|\n",
      "|    3|100354680|2020-10-01| 574779|          9| 79.9| 639.2|            0.0| 639.2|    Men's Fashion|           cod|  60124|    received|   2020-10|\n",
      "|    7|100354677|2020-10-01| 574769|          2| 49.0|  49.0|            0.0|  49.0|Mobiles & Tablets|       Payaxis|  42485|   cancelled|   2020-10|\n",
      "+-----+---------+----------+-------+-----------+-----+------+---------------+------+-----------------+--------------+-------+------------+----------+\n",
      "only showing top 5 rows\n",
      "\n"
     ]
    }
   ],
   "source": [
    "orders_df = orders_df.withColumn(\"Order_Date\", to_date(col(\"Order_Date\"), \"dd/MM/yy\"))\n",
    "orders_df = orders_df.withColumn(\"Year_Month\", date_format(col(\"Order_Date\"), \"yyyy-MM\"))\n",
    "\n",
    "orders_df.show(5)"
   ]
  },
  {
   "cell_type": "code",
   "execution_count": null,
   "metadata": {
    "application/vnd.databricks.v1+cell": {
     "cellMetadata": {
      "byteLimit": 2048000,
      "rowLimit": 10000
     },
     "inputWidgets": {},
     "nuid": "faf9f5a2-f121-4330-ac3f-bd2959db7160",
     "showTitle": false,
     "title": ""
    },
    "vscode": {
     "languageId": "python"
    }
   },
   "outputs": [
    {
     "name": "stdout",
     "output_type": "stream",
     "text": [
      "root\n",
      " |-- Index: integer (nullable = true)\n",
      " |-- Order_Id: integer (nullable = true)\n",
      " |-- Order_Date: date (nullable = true)\n",
      " |-- Item_Id: string (nullable = true)\n",
      " |-- Qty_Ordered: integer (nullable = true)\n",
      " |-- Price: string (nullable = true)\n",
      " |-- Value: string (nullable = true)\n",
      " |-- Discount_Amount: string (nullable = true)\n",
      " |-- Total: string (nullable = true)\n",
      " |-- Category: string (nullable = true)\n",
      " |-- Payment_Method: string (nullable = true)\n",
      " |-- Cust_Id: integer (nullable = true)\n",
      " |-- Final_Status: string (nullable = true)\n",
      " |-- Year_Month: string (nullable = true)\n",
      "\n"
     ]
    }
   ],
   "source": [
    "orders_df.printSchema()"
   ]
  },
  {
   "cell_type": "code",
   "execution_count": null,
   "metadata": {
    "application/vnd.databricks.v1+cell": {
     "cellMetadata": {
      "byteLimit": 2048000,
      "rowLimit": 10000
     },
     "inputWidgets": {},
     "nuid": "037fce45-f79a-436f-8d82-e6343f01e312",
     "showTitle": false,
     "title": ""
    },
    "vscode": {
     "languageId": "python"
    }
   },
   "outputs": [
    {
     "data": {
      "text/html": [
       "<style scoped>\n",
       "  .table-result-container {\n",
       "    max-height: 300px;\n",
       "    overflow: auto;\n",
       "  }\n",
       "  table, th, td {\n",
       "    border: 1px solid black;\n",
       "    border-collapse: collapse;\n",
       "  }\n",
       "  th, td {\n",
       "    padding: 5px;\n",
       "  }\n",
       "  th {\n",
       "    text-align: left;\n",
       "  }\n",
       "</style><div class='table-result-container'><table class='table-result'><thead style='background-color: white'><tr><th>path</th><th>name</th><th>size</th><th>modificationTime</th></tr></thead><tbody><tr><td>dbfs:/user/hive/warehouse/staging.db/customers/</td><td>customers/</td><td>0</td><td>0</td></tr><tr><td>dbfs:/user/hive/warehouse/staging.db/orders/</td><td>orders/</td><td>0</td><td>0</td></tr></tbody></table></div>"
      ]
     },
     "metadata": {
      "application/vnd.databricks.v1+output": {
       "addedWidgets": {},
       "aggData": [],
       "aggError": "",
       "aggOverflow": false,
       "aggSchema": [],
       "aggSeriesLimitReached": false,
       "aggType": "",
       "arguments": {},
       "columnCustomDisplayInfos": {},
       "data": [
        [
         "dbfs:/user/hive/warehouse/staging.db/customers/",
         "customers/",
         0,
         0
        ],
        [
         "dbfs:/user/hive/warehouse/staging.db/orders/",
         "orders/",
         0,
         0
        ]
       ],
       "datasetInfos": [],
       "dbfsResultPath": null,
       "isJsonSchema": true,
       "metadata": {
        "isDbfsCommandResult": false
       },
       "overflow": false,
       "plotOptions": {
        "customPlotOptions": {},
        "displayType": "table",
        "pivotAggregation": null,
        "pivotColumns": null,
        "xColumns": null,
        "yColumns": null
       },
       "removedWidgets": [],
       "schema": [
        {
         "metadata": "{}",
         "name": "path",
         "type": "\"string\""
        },
        {
         "metadata": "{}",
         "name": "name",
         "type": "\"string\""
        },
        {
         "metadata": "{}",
         "name": "size",
         "type": "\"long\""
        },
        {
         "metadata": "{}",
         "name": "modificationTime",
         "type": "\"long\""
        }
       ],
       "type": "table"
      }
     },
     "output_type": "display_data"
    }
   ],
   "source": [
    "%fs ls dbfs:/user/hive/warehouse/staging.db/"
   ]
  },
  {
   "cell_type": "code",
   "execution_count": null,
   "metadata": {
    "application/vnd.databricks.v1+cell": {
     "cellMetadata": {
      "byteLimit": 2048000,
      "rowLimit": 10000
     },
     "inputWidgets": {},
     "nuid": "6d2923c0-8b32-43c5-a21e-fb56e5575371",
     "showTitle": false,
     "title": ""
    },
    "vscode": {
     "languageId": "python"
    }
   },
   "outputs": [
    {
     "data": {
      "text/html": [
       "<style scoped>\n",
       "  .ansiout {\n",
       "    display: block;\n",
       "    unicode-bidi: embed;\n",
       "    white-space: pre-wrap;\n",
       "    word-wrap: break-word;\n",
       "    word-break: break-all;\n",
       "    font-family: \"Menlo\", \"Monaco\", \"Consolas\", \"Ubuntu Mono\", \"Source Code Pro\", monospace;\n",
       "    font-size: 13px;\n",
       "    color: #555;\n",
       "    margin-left: 4px;\n",
       "    line-height: 19px;\n",
       "  }\n",
       "</style>\n",
       "<div class=\"ansiout\">res4: Boolean = true\n",
       "</div>"
      ]
     },
     "metadata": {
      "application/vnd.databricks.v1+output": {
       "addedWidgets": {},
       "arguments": {},
       "data": "<div class=\"ansiout\">res4: Boolean = true\n</div>",
       "datasetInfos": [],
       "metadata": {
        "isDbfsCommandResult": false
       },
       "removedWidgets": [],
       "type": "html"
      }
     },
     "output_type": "display_data"
    }
   ],
   "source": [
    "%fs rm -r dbfs:/user/hive/warehouse/staging.db/orders"
   ]
  },
  {
   "cell_type": "code",
   "execution_count": null,
   "metadata": {
    "application/vnd.databricks.v1+cell": {
     "cellMetadata": {
      "byteLimit": 2048000,
      "rowLimit": 10000
     },
     "inputWidgets": {},
     "nuid": "6ce78613-da70-4304-b86b-b5bbfd1d4b88",
     "showTitle": false,
     "title": ""
    },
    "vscode": {
     "languageId": "python"
    }
   },
   "outputs": [],
   "source": [
    "orders_df.write.format(\"parquet\").partitionBy(\"Year_Month\").saveAsTable(\"staging.orders\")"
   ]
  },
  {
   "cell_type": "code",
   "execution_count": null,
   "metadata": {
    "application/vnd.databricks.v1+cell": {
     "cellMetadata": {
      "byteLimit": 2048000,
      "implicitDf": true,
      "rowLimit": 10000
     },
     "inputWidgets": {},
     "nuid": "13e1b421-d3d0-44ef-b52b-af6cbbae19e6",
     "showTitle": false,
     "title": ""
    },
    "vscode": {
     "languageId": "python"
    }
   },
   "outputs": [
    {
     "data": {
      "text/html": [
       "<style scoped>\n",
       "  .table-result-container {\n",
       "    max-height: 300px;\n",
       "    overflow: auto;\n",
       "  }\n",
       "  table, th, td {\n",
       "    border: 1px solid black;\n",
       "    border-collapse: collapse;\n",
       "  }\n",
       "  th, td {\n",
       "    padding: 5px;\n",
       "  }\n",
       "  th {\n",
       "    text-align: left;\n",
       "  }\n",
       "</style><div class='table-result-container'><table class='table-result'><thead style='background-color: white'><tr><th>Index</th><th>Order_Id</th><th>Order_Date</th><th>Item_Id</th><th>Qty_Ordered</th><th>Price</th><th>Value</th><th>Discount_Amount</th><th>Total</th><th>Category</th><th>Payment_Method</th><th>Cust_Id</th><th>Final_Status</th><th>Year_Month</th></tr></thead><tbody><tr><td>0</td><td>100354678</td><td>2020-10-01</td><td>574772</td><td>21</td><td>89.9</td><td>1798.0</td><td>0.0</td><td>1798.0</td><td>Men's Fashion</td><td>cod</td><td>60124</td><td>received</td><td>2020-10</td></tr><tr><td>1</td><td>100354678</td><td>2020-10-01</td><td>574774</td><td>11</td><td>19.0</td><td>190.0</td><td>0.0</td><td>190.0</td><td>Men's Fashion</td><td>cod</td><td>60124</td><td>received</td><td>2020-10</td></tr><tr><td>2</td><td>100354680</td><td>2020-10-01</td><td>574777</td><td>9</td><td>149.9</td><td>1199.2</td><td>0.0</td><td>1199.2</td><td>Men's Fashion</td><td>cod</td><td>60124</td><td>received</td><td>2020-10</td></tr></tbody></table></div>"
      ]
     },
     "metadata": {
      "application/vnd.databricks.v1+output": {
       "addedWidgets": {},
       "aggData": [],
       "aggError": "",
       "aggOverflow": false,
       "aggSchema": [],
       "aggSeriesLimitReached": false,
       "aggType": "",
       "arguments": {},
       "columnCustomDisplayInfos": {},
       "data": [
        [
         0,
         100354678,
         "2020-10-01",
         "574772",
         21,
         "89.9",
         "1798.0",
         "0.0",
         "1798.0",
         "Men's Fashion",
         "cod",
         60124,
         "received",
         "2020-10"
        ],
        [
         1,
         100354678,
         "2020-10-01",
         "574774",
         11,
         "19.0",
         "190.0",
         "0.0",
         "190.0",
         "Men's Fashion",
         "cod",
         60124,
         "received",
         "2020-10"
        ],
        [
         2,
         100354680,
         "2020-10-01",
         "574777",
         9,
         "149.9",
         "1199.2",
         "0.0",
         "1199.2",
         "Men's Fashion",
         "cod",
         60124,
         "received",
         "2020-10"
        ]
       ],
       "datasetInfos": [],
       "dbfsResultPath": null,
       "isJsonSchema": true,
       "metadata": {},
       "overflow": false,
       "plotOptions": {
        "customPlotOptions": {},
        "displayType": "table",
        "pivotAggregation": null,
        "pivotColumns": null,
        "xColumns": null,
        "yColumns": null
       },
       "removedWidgets": [],
       "schema": [
        {
         "metadata": "{}",
         "name": "Index",
         "type": "\"integer\""
        },
        {
         "metadata": "{}",
         "name": "Order_Id",
         "type": "\"integer\""
        },
        {
         "metadata": "{}",
         "name": "Order_Date",
         "type": "\"date\""
        },
        {
         "metadata": "{}",
         "name": "Item_Id",
         "type": "\"string\""
        },
        {
         "metadata": "{}",
         "name": "Qty_Ordered",
         "type": "\"integer\""
        },
        {
         "metadata": "{}",
         "name": "Price",
         "type": "\"string\""
        },
        {
         "metadata": "{}",
         "name": "Value",
         "type": "\"string\""
        },
        {
         "metadata": "{}",
         "name": "Discount_Amount",
         "type": "\"string\""
        },
        {
         "metadata": "{}",
         "name": "Total",
         "type": "\"string\""
        },
        {
         "metadata": "{}",
         "name": "Category",
         "type": "\"string\""
        },
        {
         "metadata": "{}",
         "name": "Payment_Method",
         "type": "\"string\""
        },
        {
         "metadata": "{}",
         "name": "Cust_Id",
         "type": "\"integer\""
        },
        {
         "metadata": "{}",
         "name": "Final_Status",
         "type": "\"string\""
        },
        {
         "metadata": "{}",
         "name": "Year_Month",
         "type": "\"string\""
        }
       ],
       "type": "table"
      }
     },
     "output_type": "display_data"
    }
   ],
   "source": [
    "%sql\n",
    "\n",
    "SELECT * FROM staging.orders limit 3;"
   ]
  },
  {
   "cell_type": "markdown",
   "metadata": {
    "application/vnd.databricks.v1+cell": {
     "cellMetadata": {
      "byteLimit": 2048000,
      "rowLimit": 10000
     },
     "inputWidgets": {},
     "nuid": "c15056a4-a4ae-4db0-a895-d9a38afc7519",
     "showTitle": false,
     "title": ""
    }
   },
   "source": [
    "## Ingest New Order Partitions"
   ]
  },
  {
   "cell_type": "code",
   "execution_count": null,
   "metadata": {
    "application/vnd.databricks.v1+cell": {
     "cellMetadata": {
      "byteLimit": 2048000,
      "rowLimit": 10000
     },
     "inputWidgets": {},
     "nuid": "254733e5-552d-4a4d-bd9b-3c4b98dc2063",
     "showTitle": false,
     "title": ""
    },
    "vscode": {
     "languageId": "python"
    }
   },
   "outputs": [],
   "source": [
    "def NewOrderPartition(mth,yr):\n",
    "    filename = \"orders_\" + mth + \"_\" + yr + \".csv\"\n",
    "    path = \"/FileStore/tables/\" + filename\n",
    "    print(\"Loading partition, \", path)\n",
    "    df = sqlContext.read.csv(path, header = True, \n",
    "                             schema = StructType(orders_fields))\n",
    "    df = df.withColumn(\"Order_Date\", to_date(col(\"Order_Date\"), \"dd/MM/yy\"))\n",
    "    df = df.withColumn(\"Year_Month\", date_format(col(\"Order_Date\"), \"yyyy-MM\"))\n",
    "        \n",
    "    df.write.format(\"parquet\").mode('append').partitionBy(\"Year_Month\").saveAsTable(\"staging.orders\")\n",
    "    \n",
    "    return"
   ]
  },
  {
   "cell_type": "code",
   "execution_count": null,
   "metadata": {
    "application/vnd.databricks.v1+cell": {
     "cellMetadata": {
      "byteLimit": 2048000,
      "rowLimit": 10000
     },
     "inputWidgets": {},
     "nuid": "4a3f3a34-4ee4-4e8e-b00b-b7f8df0842f3",
     "showTitle": false,
     "title": ""
    },
    "vscode": {
     "languageId": "python"
    }
   },
   "outputs": [
    {
     "name": "stdout",
     "output_type": "stream",
     "text": [
      "Loading partition,  /FileStore/tables/orders_11_20.csv\n"
     ]
    }
   ],
   "source": [
    "NewOrderPartition('11','20')"
   ]
  },
  {
   "cell_type": "code",
   "execution_count": null,
   "metadata": {
    "application/vnd.databricks.v1+cell": {
     "cellMetadata": {
      "byteLimit": 2048000,
      "rowLimit": 10000
     },
     "inputWidgets": {},
     "nuid": "8adc1f09-bbd0-4f24-9412-0085d91b98f0",
     "showTitle": false,
     "title": ""
    },
    "vscode": {
     "languageId": "python"
    }
   },
   "outputs": [
    {
     "data": {
      "text/html": [
       "<style scoped>\n",
       "  .table-result-container {\n",
       "    max-height: 300px;\n",
       "    overflow: auto;\n",
       "  }\n",
       "  table, th, td {\n",
       "    border: 1px solid black;\n",
       "    border-collapse: collapse;\n",
       "  }\n",
       "  th, td {\n",
       "    padding: 5px;\n",
       "  }\n",
       "  th {\n",
       "    text-align: left;\n",
       "  }\n",
       "</style><div class='table-result-container'><table class='table-result'><thead style='background-color: white'><tr><th>path</th><th>name</th><th>size</th><th>modificationTime</th></tr></thead><tbody><tr><td>dbfs:/user/hive/warehouse/staging.db/orders/Year_Month=2020-10/</td><td>Year_Month=2020-10/</td><td>0</td><td>0</td></tr><tr><td>dbfs:/user/hive/warehouse/staging.db/orders/Year_Month=2020-11/</td><td>Year_Month=2020-11/</td><td>0</td><td>0</td></tr><tr><td>dbfs:/user/hive/warehouse/staging.db/orders/_SUCCESS</td><td>_SUCCESS</td><td>0</td><td>1723745623000</td></tr></tbody></table></div>"
      ]
     },
     "metadata": {
      "application/vnd.databricks.v1+output": {
       "addedWidgets": {},
       "aggData": [],
       "aggError": "",
       "aggOverflow": false,
       "aggSchema": [],
       "aggSeriesLimitReached": false,
       "aggType": "",
       "arguments": {},
       "columnCustomDisplayInfos": {},
       "data": [
        [
         "dbfs:/user/hive/warehouse/staging.db/orders/Year_Month=2020-10/",
         "Year_Month=2020-10/",
         0,
         0
        ],
        [
         "dbfs:/user/hive/warehouse/staging.db/orders/Year_Month=2020-11/",
         "Year_Month=2020-11/",
         0,
         0
        ],
        [
         "dbfs:/user/hive/warehouse/staging.db/orders/_SUCCESS",
         "_SUCCESS",
         0,
         1723745623000
        ]
       ],
       "datasetInfos": [],
       "dbfsResultPath": null,
       "isJsonSchema": true,
       "metadata": {
        "isDbfsCommandResult": false
       },
       "overflow": false,
       "plotOptions": {
        "customPlotOptions": {},
        "displayType": "table",
        "pivotAggregation": null,
        "pivotColumns": null,
        "xColumns": null,
        "yColumns": null
       },
       "removedWidgets": [],
       "schema": [
        {
         "metadata": "{}",
         "name": "path",
         "type": "\"string\""
        },
        {
         "metadata": "{}",
         "name": "name",
         "type": "\"string\""
        },
        {
         "metadata": "{}",
         "name": "size",
         "type": "\"long\""
        },
        {
         "metadata": "{}",
         "name": "modificationTime",
         "type": "\"long\""
        }
       ],
       "type": "table"
      }
     },
     "output_type": "display_data"
    }
   ],
   "source": [
    "%fs ls dbfs:/user/hive/warehouse/staging.db/orders/"
   ]
  },
  {
   "cell_type": "code",
   "execution_count": null,
   "metadata": {
    "application/vnd.databricks.v1+cell": {
     "cellMetadata": {
      "byteLimit": 2048000,
      "implicitDf": true,
      "rowLimit": 10000
     },
     "inputWidgets": {},
     "nuid": "5c506527-e604-4258-92da-f57a4359b88d",
     "showTitle": false,
     "title": ""
    },
    "vscode": {
     "languageId": "python"
    }
   },
   "outputs": [
    {
     "data": {
      "text/html": [
       "<style scoped>\n",
       "  .table-result-container {\n",
       "    max-height: 300px;\n",
       "    overflow: auto;\n",
       "  }\n",
       "  table, th, td {\n",
       "    border: 1px solid black;\n",
       "    border-collapse: collapse;\n",
       "  }\n",
       "  th, td {\n",
       "    padding: 5px;\n",
       "  }\n",
       "  th {\n",
       "    text-align: left;\n",
       "  }\n",
       "</style><div class='table-result-container'><table class='table-result'><thead style='background-color: white'><tr><th>partition</th></tr></thead><tbody><tr><td>Year_Month=2020-10</td></tr><tr><td>Year_Month=2020-11</td></tr></tbody></table></div>"
      ]
     },
     "metadata": {
      "application/vnd.databricks.v1+output": {
       "addedWidgets": {},
       "aggData": [],
       "aggError": "",
       "aggOverflow": false,
       "aggSchema": [],
       "aggSeriesLimitReached": false,
       "aggType": "",
       "arguments": {},
       "columnCustomDisplayInfos": {},
       "data": [
        [
         "Year_Month=2020-10"
        ],
        [
         "Year_Month=2020-11"
        ]
       ],
       "datasetInfos": [],
       "dbfsResultPath": null,
       "isJsonSchema": true,
       "metadata": {},
       "overflow": false,
       "plotOptions": {
        "customPlotOptions": {},
        "displayType": "table",
        "pivotAggregation": null,
        "pivotColumns": null,
        "xColumns": null,
        "yColumns": null
       },
       "removedWidgets": [],
       "schema": [
        {
         "metadata": "{}",
         "name": "partition",
         "type": "\"string\""
        }
       ],
       "type": "table"
      }
     },
     "output_type": "display_data"
    }
   ],
   "source": [
    "%sql\n",
    "SHOW PARTITIONS staging.orders"
   ]
  },
  {
   "cell_type": "code",
   "execution_count": null,
   "metadata": {
    "application/vnd.databricks.v1+cell": {
     "cellMetadata": {
      "byteLimit": 2048000,
      "rowLimit": 10000
     },
     "inputWidgets": {},
     "nuid": "1e3416a4-ee47-4761-801f-d260763a2010",
     "showTitle": false,
     "title": ""
    },
    "vscode": {
     "languageId": "python"
    }
   },
   "outputs": [
    {
     "name": "stdout",
     "output_type": "stream",
     "text": [
      "Loading partition,  /FileStore/tables/orders_12_20.csv\n",
      "Loading partition,  /FileStore/tables/orders_01_21.csv\n",
      "Loading partition,  /FileStore/tables/orders_02_21.csv\n",
      "Loading partition,  /FileStore/tables/orders_03_21.csv\n",
      "Loading partition,  /FileStore/tables/orders_04_21.csv\n"
     ]
    }
   ],
   "source": [
    "NewOrderPartition('12','20')\n",
    "NewOrderPartition('01','21')\n",
    "NewOrderPartition('02','21')\n",
    "NewOrderPartition('03','21')\n",
    "NewOrderPartition('04','21')"
   ]
  },
  {
   "cell_type": "code",
   "execution_count": null,
   "metadata": {
    "application/vnd.databricks.v1+cell": {
     "cellMetadata": {
      "byteLimit": 2048000,
      "implicitDf": true,
      "rowLimit": 10000
     },
     "inputWidgets": {},
     "nuid": "090125be-6862-41fc-92b7-a71ba1c3f4cd",
     "showTitle": false,
     "title": ""
    },
    "vscode": {
     "languageId": "python"
    }
   },
   "outputs": [
    {
     "data": {
      "text/html": [
       "<style scoped>\n",
       "  .table-result-container {\n",
       "    max-height: 300px;\n",
       "    overflow: auto;\n",
       "  }\n",
       "  table, th, td {\n",
       "    border: 1px solid black;\n",
       "    border-collapse: collapse;\n",
       "  }\n",
       "  th, td {\n",
       "    padding: 5px;\n",
       "  }\n",
       "  th {\n",
       "    text-align: left;\n",
       "  }\n",
       "</style><div class='table-result-container'><table class='table-result'><thead style='background-color: white'><tr><th>partition</th></tr></thead><tbody><tr><td>Year_Month=2020-10</td></tr><tr><td>Year_Month=2020-11</td></tr><tr><td>Year_Month=2020-12</td></tr><tr><td>Year_Month=2021-01</td></tr><tr><td>Year_Month=2021-02</td></tr><tr><td>Year_Month=2021-03</td></tr><tr><td>Year_Month=2021-04</td></tr></tbody></table></div>"
      ]
     },
     "metadata": {
      "application/vnd.databricks.v1+output": {
       "addedWidgets": {},
       "aggData": [],
       "aggError": "",
       "aggOverflow": false,
       "aggSchema": [],
       "aggSeriesLimitReached": false,
       "aggType": "",
       "arguments": {},
       "columnCustomDisplayInfos": {},
       "data": [
        [
         "Year_Month=2020-10"
        ],
        [
         "Year_Month=2020-11"
        ],
        [
         "Year_Month=2020-12"
        ],
        [
         "Year_Month=2021-01"
        ],
        [
         "Year_Month=2021-02"
        ],
        [
         "Year_Month=2021-03"
        ],
        [
         "Year_Month=2021-04"
        ]
       ],
       "datasetInfos": [],
       "dbfsResultPath": null,
       "isJsonSchema": true,
       "metadata": {},
       "overflow": false,
       "plotOptions": {
        "customPlotOptions": {},
        "displayType": "table",
        "pivotAggregation": null,
        "pivotColumns": null,
        "xColumns": null,
        "yColumns": null
       },
       "removedWidgets": [],
       "schema": [
        {
         "metadata": "{}",
         "name": "partition",
         "type": "\"string\""
        }
       ],
       "type": "table"
      }
     },
     "output_type": "display_data"
    }
   ],
   "source": [
    "%sql\n",
    "SHOW PARTITIONS staging.orders"
   ]
  },
  {
   "cell_type": "code",
   "execution_count": null,
   "metadata": {
    "application/vnd.databricks.v1+cell": {
     "cellMetadata": {
      "byteLimit": 2048000,
      "rowLimit": 10000
     },
     "inputWidgets": {},
     "nuid": "41a2213a-2cf9-49d9-b858-24f8bc46ce85",
     "showTitle": false,
     "title": ""
    },
    "vscode": {
     "languageId": "python"
    }
   },
   "outputs": [
    {
     "name": "stdout",
     "output_type": "stream",
     "text": [
      "Loading partition,  /FileStore/tables/orders_05_21.csv\n",
      "Loading partition,  /FileStore/tables/orders_06_21.csv\n",
      "Loading partition,  /FileStore/tables/orders_07_21.csv\n",
      "Loading partition,  /FileStore/tables/orders_08_21.csv\n",
      "Loading partition,  /FileStore/tables/orders_09_21.csv\n"
     ]
    }
   ],
   "source": [
    "NewOrderPartition('05','21')\n",
    "NewOrderPartition('06','21')\n",
    "NewOrderPartition('07','21')\n",
    "NewOrderPartition('08','21')\n",
    "NewOrderPartition('09','21')"
   ]
  },
  {
   "cell_type": "code",
   "execution_count": null,
   "metadata": {
    "application/vnd.databricks.v1+cell": {
     "cellMetadata": {
      "byteLimit": 2048000,
      "implicitDf": true,
      "rowLimit": 10000
     },
     "inputWidgets": {},
     "nuid": "4bbeefea-6a55-42b7-8f3c-2b5a3e08f176",
     "showTitle": false,
     "title": ""
    },
    "vscode": {
     "languageId": "python"
    }
   },
   "outputs": [
    {
     "data": {
      "text/html": [
       "<style scoped>\n",
       "  .table-result-container {\n",
       "    max-height: 300px;\n",
       "    overflow: auto;\n",
       "  }\n",
       "  table, th, td {\n",
       "    border: 1px solid black;\n",
       "    border-collapse: collapse;\n",
       "  }\n",
       "  th, td {\n",
       "    padding: 5px;\n",
       "  }\n",
       "  th {\n",
       "    text-align: left;\n",
       "  }\n",
       "</style><div class='table-result-container'><table class='table-result'><thead style='background-color: white'><tr><th>partition</th></tr></thead><tbody><tr><td>Year_Month=2020-10</td></tr><tr><td>Year_Month=2020-11</td></tr><tr><td>Year_Month=2020-12</td></tr><tr><td>Year_Month=2021-01</td></tr><tr><td>Year_Month=2021-02</td></tr><tr><td>Year_Month=2021-03</td></tr><tr><td>Year_Month=2021-04</td></tr><tr><td>Year_Month=2021-05</td></tr><tr><td>Year_Month=2021-06</td></tr><tr><td>Year_Month=2021-07</td></tr><tr><td>Year_Month=2021-08</td></tr><tr><td>Year_Month=2021-09</td></tr></tbody></table></div>"
      ]
     },
     "metadata": {
      "application/vnd.databricks.v1+output": {
       "addedWidgets": {},
       "aggData": [],
       "aggError": "",
       "aggOverflow": false,
       "aggSchema": [],
       "aggSeriesLimitReached": false,
       "aggType": "",
       "arguments": {},
       "columnCustomDisplayInfos": {},
       "data": [
        [
         "Year_Month=2020-10"
        ],
        [
         "Year_Month=2020-11"
        ],
        [
         "Year_Month=2020-12"
        ],
        [
         "Year_Month=2021-01"
        ],
        [
         "Year_Month=2021-02"
        ],
        [
         "Year_Month=2021-03"
        ],
        [
         "Year_Month=2021-04"
        ],
        [
         "Year_Month=2021-05"
        ],
        [
         "Year_Month=2021-06"
        ],
        [
         "Year_Month=2021-07"
        ],
        [
         "Year_Month=2021-08"
        ],
        [
         "Year_Month=2021-09"
        ]
       ],
       "datasetInfos": [],
       "dbfsResultPath": null,
       "isJsonSchema": true,
       "metadata": {},
       "overflow": false,
       "plotOptions": {
        "customPlotOptions": {},
        "displayType": "table",
        "pivotAggregation": null,
        "pivotColumns": null,
        "xColumns": null,
        "yColumns": null
       },
       "removedWidgets": [],
       "schema": [
        {
         "metadata": "{}",
         "name": "partition",
         "type": "\"string\""
        }
       ],
       "type": "table"
      }
     },
     "output_type": "display_data"
    }
   ],
   "source": [
    "%sql\n",
    "SHOW PARTITIONS staging.orders"
   ]
  },
  {
   "cell_type": "markdown",
   "metadata": {
    "application/vnd.databricks.v1+cell": {
     "cellMetadata": {
      "byteLimit": 2048000,
      "rowLimit": 10000
     },
     "inputWidgets": {},
     "nuid": "642d5669-784d-49f1-9683-5a0752c59585",
     "showTitle": false,
     "title": ""
    }
   },
   "source": []
  },
  {
   "cell_type": "markdown",
   "metadata": {
    "application/vnd.databricks.v1+cell": {
     "cellMetadata": {
      "byteLimit": 2048000,
      "rowLimit": 10000
     },
     "collapsed": true,
     "inputWidgets": {},
     "nuid": "02bea6a7-61b8-4fba-b25f-018ebb80b258",
     "showTitle": false,
     "title": ""
    }
   },
   "source": [
    "#### Big data and Cloud compution assignment group 18\n",
    "Dataset:\n",
    "customer.json =>\n",
    "orders.csv => index,\torder_id,\torder_date,\titem_id,\tqty_ordered,\tprice,\tvalue,\tdiscount_amount,\ttotal\tcategory,\tpayment_method,\tcust_id,\tfinal_status\n",
    "\n"
   ]
  }
 ],
 "metadata": {
  "application/vnd.databricks.v1+notebook": {
   "dashboards": [],
   "environmentMetadata": null,
   "language": "python",
   "notebookMetadata": {
    "mostRecentlyExecutedCommandWithImplicitDF": {
     "commandId": 793220525121038,
     "dataframes": [
      "_sqldf"
     ]
    },
    "pythonIndentUnit": 4
   },
   "notebookName": "G_18_Landing_to_Staging",
   "widgets": {}
  },
  "kernelspec": {
   "display_name": "",
   "name": ""
  },
  "language_info": {
   "name": ""
  }
 },
 "nbformat": 4,
 "nbformat_minor": 4
}
