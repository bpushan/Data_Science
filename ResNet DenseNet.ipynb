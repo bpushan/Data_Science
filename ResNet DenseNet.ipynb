{
 "cells": [
  {
   "cell_type": "code",
   "execution_count": 1,
   "id": "0a0bfb59-bec1-4754-8c01-5686545c1417",
   "metadata": {},
   "outputs": [],
   "source": [
    "import os\n",
    "import pandas as pd\n",
    "import numpy as np\n",
    "\n",
    "# plot photos from dataset\n",
    "from matplotlib import pyplot\n",
    "from matplotlib.image import imread"
   ]
  },
  {
   "cell_type": "markdown",
   "id": "bd5651cd-3996-455d-8719-e7fe5e178929",
   "metadata": {},
   "source": [
    "#### Setting up the directory to data"
   ]
  },
  {
   "cell_type": "code",
   "execution_count": null,
   "id": "a2eefbd8-6a67-4616-b8a8-94fbed0118be",
   "metadata": {},
   "outputs": [],
   "source": [
    "base_dir = os.getcwd()\n",
    "print(\"Base directory: \", base_dir)\n",
    "data_dir = os.path.join(base_dir, 'dataset')\n",
    "print(\"Data directory: \", data_dir)"
   ]
  },
  {
   "cell_type": "markdown",
   "id": "2397b97b-9bc2-4c0d-8b00-002fa0b2b34a",
   "metadata": {},
   "source": [
    "#### The different class of data is identified and stored as Categories"
   ]
  },
  {
   "cell_type": "code",
   "execution_count": 3,
   "id": "a8cc5979-8a09-492b-8eed-aea876ffdca6",
   "metadata": {},
   "outputs": [
    {
     "name": "stdout",
     "output_type": "stream",
     "text": [
      "Different categores:  ['accordion', 'bass', 'camera', 'crocodile', 'crocodile_head', 'cup', 'dollar_bill', 'emu', 'gramophone', 'hedgehog', 'nautilus', 'pizza', 'pyramid', 'sea_horse', 'windsor_chair']\n"
     ]
    }
   ],
   "source": [
    "Categories = os.listdir(data_dir)\n",
    "print(\"Different categores: \", Categories)"
   ]
  },
  {
   "cell_type": "markdown",
   "id": "13480170-23ad-4e51-90b6-cb30a63e12d8",
   "metadata": {},
   "source": [
    "#### Read the data for each category and split into Train and Test"
   ]
  },
  {
   "cell_type": "code",
   "execution_count": 4,
   "id": "5084168d-7d43-4138-938d-1ab6748c72e9",
   "metadata": {},
   "outputs": [],
   "source": [
    "from keras.preprocessing import image\n",
    "from keras.applications.imagenet_utils import preprocess_input\n",
    "\n",
    "X_img_train=[]\n",
    "Y_label_train=[]\n",
    "\n",
    "X_img_test=[]\n",
    "Y_label_test=[]\n",
    "\n",
    "for c in Categories:\n",
    "    img_cnt = 0\n",
    "    directory_path = os.path.join(data_dir, c)\n",
    "    files = os.listdir(directory_path)\n",
    "    files.sort()\n",
    "    for file in files:\n",
    "        img_cnt = img_cnt + 1\n",
    "        img_path = os.path.join(directory_path, file)\n",
    "        img = image.load_img(img_path, target_size=(224, 224))\n",
    "        X_img = image.img_to_array(img)\n",
    "        X_img = np.expand_dims(X_img, axis=0)\n",
    "        X_img = preprocess_input(X_img)\n",
    "        if img_cnt <= 40:                       # first 40 image is taken as Train\n",
    "            X_img_train.append(X_img)\n",
    "            Y_label_train.append(c)\n",
    "        else:                                   # after the first 40 image is for Test\n",
    "            X_img_test.append(X_img)\n",
    "            Y_label_test.append(c)"
   ]
  },
  {
   "cell_type": "markdown",
   "id": "e8a1c6a6-1133-4a43-bff7-cf22414dc741",
   "metadata": {},
   "source": [
    "### Getting the data ready"
   ]
  },
  {
   "cell_type": "code",
   "execution_count": 5,
   "id": "610ec974-08eb-42f4-9859-8adead48e5a4",
   "metadata": {},
   "outputs": [
    {
     "name": "stdout",
     "output_type": "stream",
     "text": [
      "X_img_train shape:  (600, 1, 224, 224, 3)\n",
      "X_img_test shape:  (205, 1, 224, 224, 3)\n"
     ]
    }
   ],
   "source": [
    "X_img_train = np.array(X_img_train)\n",
    "print (\"X_img_train shape: \", X_img_train.shape)\n",
    "\n",
    "X_img_test = np.array(X_img_test)\n",
    "print (\"X_img_test shape: \", X_img_test.shape)"
   ]
  },
  {
   "cell_type": "code",
   "execution_count": 6,
   "id": "014ba028-215f-4e89-8faa-17090ab73348",
   "metadata": {},
   "outputs": [
    {
     "name": "stdout",
     "output_type": "stream",
     "text": [
      "X_train shape:  (600, 224, 224, 3)\n",
      "X_test shape:  (205, 224, 224, 3)\n"
     ]
    }
   ],
   "source": [
    "X_train = np.squeeze(X_img_train)  # Remove the singleton dimension\n",
    "print(\"X_train shape: \",X_train.shape)\n",
    "\n",
    "X_test = np.squeeze(X_img_test)    # Remove the singleton dimension\n",
    "print(\"X_test shape: \",X_test.shape)"
   ]
  },
  {
   "cell_type": "code",
   "execution_count": 7,
   "id": "c30c2998-5a44-41d0-80b1-7e5aead7a24e",
   "metadata": {},
   "outputs": [
    {
     "name": "stdout",
     "output_type": "stream",
     "text": [
      "Y_train shape:  (600, 15)\n",
      "Y_test shape:  (205, 15)\n"
     ]
    }
   ],
   "source": [
    "import tensorflow as tf\n",
    "from sklearn.preprocessing import LabelEncoder\n",
    "import keras.utils as utils\n",
    "\n",
    "# convert class labels to categorical (one hot encoding)\n",
    "label_encoder = LabelEncoder()\n",
    "encoded_labels = label_encoder.fit_transform(Y_label_train)\n",
    "Y_train = tf.keras.utils.to_categorical(encoded_labels, 15)\n",
    "print(\"Y_train shape: \", Y_train.shape)\n",
    "\n",
    "encoded_labels = label_encoder.fit_transform(Y_label_test)\n",
    "Y_test = tf.keras.utils.to_categorical(encoded_labels, 15)\n",
    "print(\"Y_test shape: \", Y_test.shape)"
   ]
  },
  {
   "cell_type": "code",
   "execution_count": 8,
   "id": "22e1c9e7-f4c1-49b5-bb60-9f174c61fcc9",
   "metadata": {},
   "outputs": [],
   "source": [
    "import torch\n",
    "\n",
    "# Convert to PyTorch tensors\n",
    "# Change shape to (N, C, H, W)\n",
    "X_train_tensor = torch.tensor(X_train, dtype=torch.float32).permute(0, 3, 1, 2)  \n",
    "X_test_tensor = torch.tensor(X_test, dtype=torch.float32).permute(0, 3, 1, 2)\n",
    "\n",
    "# Convert labels to tensors\n",
    "y_train_tensor = torch.tensor(Y_train, dtype=torch.float32)\n",
    "y_test_tensor = torch.tensor(Y_test, dtype=torch.float32)"
   ]
  },
  {
   "cell_type": "code",
   "execution_count": 10,
   "id": "216b703f-44fd-467f-b015-62646a611ad0",
   "metadata": {},
   "outputs": [],
   "source": [
    "from torch.utils.data import Dataset, DataLoader\n",
    "\n",
    "class CustomDataset(Dataset):\n",
    "    def __init__(self, images, labels):\n",
    "        self.images = images\n",
    "        self.labels = labels\n",
    "\n",
    "    def __len__(self):\n",
    "        return len(self.images)\n",
    "\n",
    "    def __getitem__(self, idx):\n",
    "        image = self.images[idx]\n",
    "        label = self.labels[idx]\n",
    "        return image, label\n",
    "\n",
    "# Create dataset objects\n",
    "train_dataset = CustomDataset(X_train_tensor, y_train_tensor)\n",
    "test_dataset = CustomDataset(X_test_tensor, y_test_tensor)\n",
    "\n",
    "# Create data loaders\n",
    "train_loader = DataLoader(train_dataset, batch_size=32, shuffle=True)\n",
    "test_loader = DataLoader(test_dataset, batch_size=32, shuffle=False)"
   ]
  },
  {
   "cell_type": "markdown",
   "id": "73501ff6-450d-4ec2-ae25-76f829d28150",
   "metadata": {},
   "source": [
    "## Loading the pretrained ResNet-18 model"
   ]
  },
  {
   "cell_type": "code",
   "execution_count": 12,
   "id": "e31d683f-5048-4957-b59d-a4039737f354",
   "metadata": {},
   "outputs": [],
   "source": [
    "import torchvision\n",
    "import torchvision.models as models\n",
    "\n",
    "# Load pretrained ResNet-18 model\n",
    "resnet18_model = models.resnet18(pretrained=True)\n",
    "\n",
    "# Modify the final layer to match the number of classes\n",
    "num_classes = 15\n",
    "resnet18_model.fc = torch.nn.Linear(resnet18_model.fc.in_features, num_classes)"
   ]
  },
  {
   "cell_type": "markdown",
   "id": "cfd353f8-71a4-4827-a1c1-2ae1d3eda5fe",
   "metadata": {},
   "source": [
    "#### Training the ResNet-18 model with the data"
   ]
  },
  {
   "cell_type": "code",
   "execution_count": 14,
   "id": "5ff144f6-cff4-490d-b94c-faf16f24f53b",
   "metadata": {},
   "outputs": [
    {
     "name": "stdout",
     "output_type": "stream",
     "text": [
      "Epoch [1/5], Loss: 0.16558562748526273\n",
      "Epoch [2/5], Loss: 0.03604080978977053\n",
      "Epoch [3/5], Loss: 0.022243670114365063\n",
      "Epoch [4/5], Loss: 0.016197001953658304\n",
      "Epoch [5/5], Loss: 0.014117272987373565\n",
      "Finished Training\n"
     ]
    }
   ],
   "source": [
    "import torch.optim as optim\n",
    "import torch.nn as nn\n",
    "\n",
    "# Define loss function and optimizer\n",
    "criterion = nn.BCEWithLogitsLoss()  # Since the labels are one-hot encoded\n",
    "optimizer = optim.Adam(resnet18_model.parameters(), lr=0.001)\n",
    "\n",
    "# Training loop\n",
    "device = torch.device('cuda' if torch.cuda.is_available() else 'cpu')\n",
    "resnet18_model = resnet18_model.to(device)\n",
    "\n",
    "num_epochs = 5\n",
    "for epoch in range(num_epochs):\n",
    "    resnet18_model.train()\n",
    "    running_loss = 0.0\n",
    "    for inputs, labels in train_loader:\n",
    "        inputs, labels = inputs.to(device), labels.to(device)\n",
    "        \n",
    "        # Zero the parameter gradients\n",
    "        optimizer.zero_grad()\n",
    "        \n",
    "        # Forward + backward + optimize\n",
    "        outputs = resnet18_model(inputs)\n",
    "        loss = criterion(outputs, labels)\n",
    "        loss.backward()\n",
    "        optimizer.step()\n",
    "        \n",
    "        running_loss += loss.item()\n",
    "    \n",
    "    print(f\"Epoch [{epoch+1}/{num_epochs}], Loss: {running_loss/len(train_loader)}\")\n",
    "\n",
    "print('Finished Training')\n"
   ]
  },
  {
   "cell_type": "markdown",
   "id": "e2242e52-21cf-4005-a82f-2dc56476b981",
   "metadata": {},
   "source": [
    "#### Evaluate the model with scores"
   ]
  },
  {
   "cell_type": "code",
   "execution_count": 15,
   "id": "6e239649-9d5f-4899-9274-8c0e034c0296",
   "metadata": {},
   "outputs": [
    {
     "name": "stdout",
     "output_type": "stream",
     "text": [
      "Class 0: Precision: 1.0000, Recall: 0.9333\n",
      "Class 1: Precision: 0.8182, Recall: 0.6429\n",
      "Class 2: Precision: 1.0000, Recall: 0.9000\n",
      "Class 3: Precision: 0.5882, Recall: 1.0000\n",
      "Class 4: Precision: 1.0000, Recall: 0.2727\n",
      "Class 5: Precision: 0.8824, Recall: 0.8824\n",
      "Class 6: Precision: 1.0000, Recall: 1.0000\n",
      "Class 7: Precision: 1.0000, Recall: 0.8462\n",
      "Class 8: Precision: 1.0000, Recall: 0.7273\n",
      "Class 9: Precision: 0.9231, Recall: 0.8571\n",
      "Class 10: Precision: 0.8750, Recall: 0.9333\n",
      "Class 11: Precision: 0.9167, Recall: 0.8462\n",
      "Class 12: Precision: 0.9412, Recall: 0.9412\n",
      "Class 13: Precision: 1.0000, Recall: 0.9412\n",
      "Class 14: Precision: 1.0000, Recall: 0.9375\n"
     ]
    }
   ],
   "source": [
    "from sklearn.metrics import precision_score, recall_score\n",
    "\n",
    "# Evaluation loop\n",
    "resnet18_model.eval()\n",
    "all_preds = []\n",
    "all_labels = []\n",
    "with torch.no_grad():\n",
    "    for inputs, labels in test_loader:\n",
    "        inputs, labels = inputs.to(device), labels.to(device)\n",
    "        outputs = resnet18_model(inputs)\n",
    "        preds = torch.sigmoid(outputs).cpu().numpy()  # Apply sigmoid to get probabilities\n",
    "        all_preds.extend(preds)\n",
    "        all_labels.extend(labels.cpu().numpy())\n",
    "\n",
    "# Convert predictions to binary (0 or 1)\n",
    "threshold = 0.5\n",
    "all_preds = np.array(all_preds) > threshold\n",
    "all_labels = np.array(all_labels)\n",
    "\n",
    "# Calculate precision and recall for each class\n",
    "precision = precision_score(all_labels, all_preds, average=None)\n",
    "recall = recall_score(all_labels, all_preds, average=None)\n",
    "\n",
    "for i in range(num_classes):\n",
    "    print(f\"Class {i}: Precision: {precision[i]:.4f}, Recall: {recall[i]:.4f}\")"
   ]
  },
  {
   "cell_type": "markdown",
   "id": "5f2df581-1741-4f7d-bdcb-14fe25df286d",
   "metadata": {},
   "source": [
    "## Loading pretrained DenseNet-121 model"
   ]
  },
  {
   "cell_type": "code",
   "execution_count": null,
   "id": "10f94e53-44b3-4793-b46a-e6f7ecdadfe6",
   "metadata": {},
   "outputs": [],
   "source": [
    "import torchvision.models as models\n",
    "\n",
    "# Load pretrained DenseNet-121 model\n",
    "densenet121_model = models.densenet121(pretrained=True)\n",
    "\n",
    "# Modify the classifier to match the number of classes\n",
    "num_classes = 15\n",
    "densenet121_model.classifier = torch.nn.Linear(densenet121_model.classifier.in_features, num_classes)"
   ]
  },
  {
   "cell_type": "markdown",
   "id": "48b65440-f1db-4e78-bd4c-11a41ac8cc00",
   "metadata": {},
   "source": [
    "#### Training the model with our data"
   ]
  },
  {
   "cell_type": "code",
   "execution_count": 19,
   "id": "9ccaa56e-1ceb-419e-a1e7-7db77602ed28",
   "metadata": {},
   "outputs": [
    {
     "name": "stdout",
     "output_type": "stream",
     "text": [
      "Epoch [1/3], Loss: 0.0644\n",
      "Epoch [2/3], Loss: 0.0324\n",
      "Epoch [3/3], Loss: 0.0296\n",
      "Finished Training\n"
     ]
    }
   ],
   "source": [
    "import torch.optim as optim\n",
    "import torch.nn as nn\n",
    "\n",
    "criterion = nn.BCEWithLogitsLoss()  # Since labels are one-hot encoded\n",
    "optimizer = optim.Adam(densenet121_model.parameters(), lr=0.001)\n",
    "\n",
    "device = torch.device('cuda' if torch.cuda.is_available() else 'cpu')\n",
    "densenet121_model = densenet121_model.to(device)\n",
    "\n",
    "num_epochs = 3\n",
    "for epoch in range(num_epochs):\n",
    "    densenet121_model.train()\n",
    "    running_loss = 0.0\n",
    "    for inputs, labels in train_loader:\n",
    "        inputs, labels = inputs.to(device), labels.to(device)\n",
    "        \n",
    "        optimizer.zero_grad()\n",
    "        \n",
    "        outputs = densenet121_model(inputs)\n",
    "        loss = criterion(outputs, labels)\n",
    "        loss.backward()\n",
    "        optimizer.step()\n",
    "        \n",
    "        running_loss += loss.item()\n",
    "    \n",
    "    print(f\"Epoch [{epoch+1}/{num_epochs}], Loss: {running_loss/len(train_loader):.4f}\")\n",
    "\n",
    "print('Finished Training')"
   ]
  },
  {
   "cell_type": "markdown",
   "id": "38d1e904-8e98-4555-9adb-4514260d3cb7",
   "metadata": {},
   "source": [
    "#### Evaluate the model with scores"
   ]
  },
  {
   "cell_type": "code",
   "execution_count": 20,
   "id": "d4ea26c9-3a62-4915-b142-559ae6cb4b5b",
   "metadata": {},
   "outputs": [
    {
     "name": "stdout",
     "output_type": "stream",
     "text": [
      "Class 0: Precision: 1.0000, Recall: 0.9333\n",
      "Class 1: Precision: 0.9286, Recall: 0.9286\n",
      "Class 2: Precision: 0.7273, Recall: 0.8000\n",
      "Class 3: Precision: 0.8750, Recall: 0.7000\n",
      "Class 4: Precision: 0.8571, Recall: 0.5455\n",
      "Class 5: Precision: 1.0000, Recall: 0.3529\n",
      "Class 6: Precision: 0.5714, Recall: 1.0000\n",
      "Class 7: Precision: 1.0000, Recall: 0.7692\n",
      "Class 8: Precision: 0.8182, Recall: 0.8182\n",
      "Class 9: Precision: 1.0000, Recall: 0.7857\n",
      "Class 10: Precision: 0.9333, Recall: 0.9333\n",
      "Class 11: Precision: 0.7857, Recall: 0.8462\n",
      "Class 12: Precision: 1.0000, Recall: 0.5294\n",
      "Class 13: Precision: 0.9091, Recall: 0.5882\n",
      "Class 14: Precision: 1.0000, Recall: 0.8125\n"
     ]
    }
   ],
   "source": [
    "from sklearn.metrics import precision_score, recall_score\n",
    "\n",
    "densenet121_model.eval()\n",
    "all_preds = []\n",
    "all_labels = []\n",
    "with torch.no_grad():\n",
    "    for inputs, labels in test_loader:\n",
    "        inputs, labels = inputs.to(device), labels.to(device)\n",
    "        outputs = densenet121_model(inputs)\n",
    "        preds = torch.sigmoid(outputs).cpu().numpy()  # Apply sigmoid to get probabilities\n",
    "        all_preds.extend(preds)\n",
    "        all_labels.extend(labels.cpu().numpy())\n",
    "\n",
    "threshold = 0.5\n",
    "all_preds = np.array(all_preds) > threshold\n",
    "all_labels = np.array(all_labels)\n",
    "\n",
    "precision = precision_score(all_labels, all_preds, average=None)\n",
    "recall = recall_score(all_labels, all_preds, average=None)\n",
    "\n",
    "for i in range(num_classes):\n",
    "    print(f\"Class {i}: Precision: {precision[i]:.4f}, Recall: {recall[i]:.4f}\")\n"
   ]
  },
  {
   "cell_type": "code",
   "execution_count": null,
   "id": "b2b4cc4f-cf81-4265-b24b-3913f5dcf434",
   "metadata": {},
   "outputs": [],
   "source": [
    "import torchvision.models as models\n",
    "\n",
    "# Load pretrained VGG-19 model\n",
    "vgg19_model = models.vgg19(pretrained=True)\n",
    "\n",
    "# Modify the classifier to match the number of classes\n",
    "# classifier[6] is the final Linear layer that outputs 1000 classes for the ImageNet dataset. \n",
    "# We need to modify this layer to output 15 classes instead\n",
    "num_classes = 15\n",
    "vgg19_model.classifier[6] = torch.nn.Linear(vgg19_model.classifier[6].in_features, num_classes)"
   ]
  },
  {
   "cell_type": "code",
   "execution_count": null,
   "id": "5dd6c941-3f8d-4f3c-88f8-3cdff6d1284b",
   "metadata": {},
   "outputs": [
    {
     "name": "stdout",
     "output_type": "stream",
     "text": [
      "Epoch [1/2], Loss: 1.2876\n"
     ]
    }
   ],
   "source": [
    "import torch.optim as optim\n",
    "import torch.nn as nn\n",
    "\n",
    "criterion = nn.BCEWithLogitsLoss()  # Since labels are one-hot encoded\n",
    "optimizer = optim.Adam(vgg19_model.parameters(), lr=0.001)\n",
    "\n",
    "device = torch.device('cuda' if torch.cuda.is_available() else 'cpu')\n",
    "vgg19_model = vgg19_model.to(device)\n",
    "\n",
    "num_epochs = 2\n",
    "for epoch in range(num_epochs):\n",
    "    vgg19_model.train()\n",
    "    running_loss = 0.0\n",
    "    for inputs, labels in train_loader:\n",
    "        inputs, labels = inputs.to(device), labels.to(device)\n",
    "        \n",
    "        optimizer.zero_grad()\n",
    "        \n",
    "        outputs = vgg19_model(inputs)\n",
    "        loss = criterion(outputs, labels)\n",
    "        loss.backward()\n",
    "        optimizer.step()\n",
    "        \n",
    "        running_loss += loss.item()\n",
    "    \n",
    "    print(f\"Epoch [{epoch+1}/{num_epochs}], Loss: {running_loss/len(train_loader):.4f}\")\n",
    "\n",
    "print('Finished Training')"
   ]
  },
  {
   "cell_type": "code",
   "execution_count": null,
   "id": "aadb667d-f5da-4d17-a834-a4a59c8fd9fc",
   "metadata": {},
   "outputs": [],
   "source": [
    "from sklearn.metrics import precision_score, recall_score\n",
    "\n",
    "vgg19_model.eval()\n",
    "all_preds = []\n",
    "all_labels = []\n",
    "with torch.no_grad():\n",
    "    for inputs, labels in test_loader:\n",
    "        inputs, labels = inputs.to(device), labels.to(device)\n",
    "        outputs = vgg19_model(inputs)\n",
    "        preds = torch.sigmoid(outputs).cpu().numpy()  # Apply sigmoid to get probabilities\n",
    "        all_preds.extend(preds)\n",
    "        all_labels.extend(labels.cpu().numpy())\n",
    "\n",
    "threshold = 0.5\n",
    "all_preds = np.array(all_preds) > threshold\n",
    "all_labels = np.array(all_labels)\n",
    "\n",
    "precision = precision_score(all_labels, all_preds, average=None)\n",
    "recall = recall_score(all_labels, all_preds, average=None)\n",
    "\n",
    "for i in range(num_classes):\n",
    "    print(f\"Class {i}: Precision: {precision[i]:.4f}, Recall: {recall[i]:.4f}\")\n"
   ]
  }
 ],
 "metadata": {
  "kernelspec": {
   "display_name": "Python 3 (ipykernel)",
   "language": "python",
   "name": "python3"
  },
  "language_info": {
   "codemirror_mode": {
    "name": "ipython",
    "version": 3
   },
   "file_extension": ".py",
   "mimetype": "text/x-python",
   "name": "python",
   "nbconvert_exporter": "python",
   "pygments_lexer": "ipython3",
   "version": "3.11.7"
  }
 },
 "nbformat": 4,
 "nbformat_minor": 5
}
