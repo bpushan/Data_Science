{
 "cells": [
  {
   "cell_type": "code",
   "execution_count": 1,
   "id": "aa18d14f-1db0-4641-864a-a0b47aed836d",
   "metadata": {},
   "outputs": [],
   "source": [
    "# Code source\n",
    "import numpy as np\n",
    "import pandas as pd\n",
    "\n",
    "# Set seed for reproducibility\n",
    "SEED = 1234"
   ]
  },
  {
   "cell_type": "markdown",
   "id": "59c0a410-997b-4111-ac3e-403bea4101f5",
   "metadata": {},
   "source": [
    "### Reading the Telco Customer Churn csv file"
   ]
  },
  {
   "cell_type": "code",
   "execution_count": 2,
   "id": "4bfc66c9-3456-4757-ab6b-c20b2870f27f",
   "metadata": {},
   "outputs": [
    {
     "name": "stdout",
     "output_type": "stream",
     "text": [
      "Shape:  (7043, 21)\n"
     ]
    }
   ],
   "source": [
    "telco_cust_churn = pd.read_csv('Telco-Customer-Churn.csv')\n",
    "print('Shape: ',telco_cust_churn.shape)"
   ]
  },
  {
   "cell_type": "code",
   "execution_count": 3,
   "id": "777d08fd-19e0-4c99-a5b5-b84fc15de998",
   "metadata": {},
   "outputs": [
    {
     "data": {
      "text/html": [
       "<div>\n",
       "<style scoped>\n",
       "    .dataframe tbody tr th:only-of-type {\n",
       "        vertical-align: middle;\n",
       "    }\n",
       "\n",
       "    .dataframe tbody tr th {\n",
       "        vertical-align: top;\n",
       "    }\n",
       "\n",
       "    .dataframe thead th {\n",
       "        text-align: right;\n",
       "    }\n",
       "</style>\n",
       "<table border=\"1\" class=\"dataframe\">\n",
       "  <thead>\n",
       "    <tr style=\"text-align: right;\">\n",
       "      <th></th>\n",
       "      <th>customerID</th>\n",
       "      <th>gender</th>\n",
       "      <th>SeniorCitizen</th>\n",
       "      <th>Partner</th>\n",
       "      <th>Dependents</th>\n",
       "      <th>tenure</th>\n",
       "      <th>PhoneService</th>\n",
       "      <th>MultipleLines</th>\n",
       "      <th>InternetService</th>\n",
       "      <th>OnlineSecurity</th>\n",
       "      <th>...</th>\n",
       "      <th>DeviceProtection</th>\n",
       "      <th>TechSupport</th>\n",
       "      <th>StreamingTV</th>\n",
       "      <th>StreamingMovies</th>\n",
       "      <th>Contract</th>\n",
       "      <th>PaperlessBilling</th>\n",
       "      <th>PaymentMethod</th>\n",
       "      <th>MonthlyCharges</th>\n",
       "      <th>TotalCharges</th>\n",
       "      <th>Churn</th>\n",
       "    </tr>\n",
       "  </thead>\n",
       "  <tbody>\n",
       "    <tr>\n",
       "      <th>0</th>\n",
       "      <td>7590-VHVEG</td>\n",
       "      <td>Female</td>\n",
       "      <td>0</td>\n",
       "      <td>Yes</td>\n",
       "      <td>No</td>\n",
       "      <td>1</td>\n",
       "      <td>No</td>\n",
       "      <td>No phone service</td>\n",
       "      <td>DSL</td>\n",
       "      <td>No</td>\n",
       "      <td>...</td>\n",
       "      <td>No</td>\n",
       "      <td>No</td>\n",
       "      <td>No</td>\n",
       "      <td>No</td>\n",
       "      <td>Month-to-month</td>\n",
       "      <td>Yes</td>\n",
       "      <td>Electronic check</td>\n",
       "      <td>29.85</td>\n",
       "      <td>29.85</td>\n",
       "      <td>No</td>\n",
       "    </tr>\n",
       "    <tr>\n",
       "      <th>1</th>\n",
       "      <td>5575-GNVDE</td>\n",
       "      <td>Male</td>\n",
       "      <td>0</td>\n",
       "      <td>No</td>\n",
       "      <td>No</td>\n",
       "      <td>34</td>\n",
       "      <td>Yes</td>\n",
       "      <td>No</td>\n",
       "      <td>DSL</td>\n",
       "      <td>Yes</td>\n",
       "      <td>...</td>\n",
       "      <td>Yes</td>\n",
       "      <td>No</td>\n",
       "      <td>No</td>\n",
       "      <td>No</td>\n",
       "      <td>One year</td>\n",
       "      <td>No</td>\n",
       "      <td>Mailed check</td>\n",
       "      <td>56.95</td>\n",
       "      <td>1889.5</td>\n",
       "      <td>No</td>\n",
       "    </tr>\n",
       "  </tbody>\n",
       "</table>\n",
       "<p>2 rows × 21 columns</p>\n",
       "</div>"
      ],
      "text/plain": [
       "   customerID  gender  SeniorCitizen Partner Dependents  tenure PhoneService  \\\n",
       "0  7590-VHVEG  Female              0     Yes         No       1           No   \n",
       "1  5575-GNVDE    Male              0      No         No      34          Yes   \n",
       "\n",
       "      MultipleLines InternetService OnlineSecurity  ... DeviceProtection  \\\n",
       "0  No phone service             DSL             No  ...               No   \n",
       "1                No             DSL            Yes  ...              Yes   \n",
       "\n",
       "  TechSupport StreamingTV StreamingMovies        Contract PaperlessBilling  \\\n",
       "0          No          No              No  Month-to-month              Yes   \n",
       "1          No          No              No        One year               No   \n",
       "\n",
       "      PaymentMethod MonthlyCharges  TotalCharges Churn  \n",
       "0  Electronic check          29.85         29.85    No  \n",
       "1      Mailed check          56.95        1889.5    No  \n",
       "\n",
       "[2 rows x 21 columns]"
      ]
     },
     "execution_count": 3,
     "metadata": {},
     "output_type": "execute_result"
    }
   ],
   "source": [
    "telco_cust_churn.head(2)"
   ]
  },
  {
   "cell_type": "markdown",
   "id": "83ac4773-56db-4cab-8fb2-1f9e5173b6b9",
   "metadata": {},
   "source": [
    "### Exploring the dataset"
   ]
  },
  {
   "cell_type": "code",
   "execution_count": 4,
   "id": "bc49a53e-2d83-47d0-b372-ec85eca636a8",
   "metadata": {},
   "outputs": [
    {
     "name": "stdout",
     "output_type": "stream",
     "text": [
      "<class 'pandas.core.frame.DataFrame'>\n",
      "RangeIndex: 7043 entries, 0 to 7042\n",
      "Data columns (total 21 columns):\n",
      " #   Column            Non-Null Count  Dtype  \n",
      "---  ------            --------------  -----  \n",
      " 0   customerID        7043 non-null   object \n",
      " 1   gender            7043 non-null   object \n",
      " 2   SeniorCitizen     7043 non-null   int64  \n",
      " 3   Partner           7043 non-null   object \n",
      " 4   Dependents        7043 non-null   object \n",
      " 5   tenure            7043 non-null   int64  \n",
      " 6   PhoneService      7043 non-null   object \n",
      " 7   MultipleLines     7043 non-null   object \n",
      " 8   InternetService   7043 non-null   object \n",
      " 9   OnlineSecurity    7043 non-null   object \n",
      " 10  OnlineBackup      7043 non-null   object \n",
      " 11  DeviceProtection  7043 non-null   object \n",
      " 12  TechSupport       7043 non-null   object \n",
      " 13  StreamingTV       7043 non-null   object \n",
      " 14  StreamingMovies   7043 non-null   object \n",
      " 15  Contract          7043 non-null   object \n",
      " 16  PaperlessBilling  7043 non-null   object \n",
      " 17  PaymentMethod     7043 non-null   object \n",
      " 18  MonthlyCharges    7043 non-null   float64\n",
      " 19  TotalCharges      7043 non-null   object \n",
      " 20  Churn             7043 non-null   object \n",
      "dtypes: float64(1), int64(2), object(18)\n",
      "memory usage: 1.1+ MB\n"
     ]
    }
   ],
   "source": [
    "telco_cust_churn.info()  # only 4 numeric fields out of 21 but shows only 3, TotalCharges is shown as object"
   ]
  },
  {
   "cell_type": "code",
   "execution_count": 5,
   "id": "f05296dc-0675-4762-b081-6b049961a5bf",
   "metadata": {},
   "outputs": [
    {
     "data": {
      "text/plain": [
       "customerID          0\n",
       "gender              0\n",
       "SeniorCitizen       0\n",
       "Partner             0\n",
       "Dependents          0\n",
       "tenure              0\n",
       "PhoneService        0\n",
       "MultipleLines       0\n",
       "InternetService     0\n",
       "OnlineSecurity      0\n",
       "OnlineBackup        0\n",
       "DeviceProtection    0\n",
       "TechSupport         0\n",
       "StreamingTV         0\n",
       "StreamingMovies     0\n",
       "Contract            0\n",
       "PaperlessBilling    0\n",
       "PaymentMethod       0\n",
       "MonthlyCharges      0\n",
       "TotalCharges        0\n",
       "Churn               0\n",
       "dtype: int64"
      ]
     },
     "execution_count": 5,
     "metadata": {},
     "output_type": "execute_result"
    }
   ],
   "source": [
    "telco_cust_churn.isnull().sum()  # there are no NULL values"
   ]
  },
  {
   "cell_type": "code",
   "execution_count": 6,
   "id": "39e90fd5-51ae-4174-a2e7-55a09a376b98",
   "metadata": {},
   "outputs": [
    {
     "name": "stdout",
     "output_type": "stream",
     "text": [
      "<class 'pandas.core.frame.DataFrame'>\n",
      "RangeIndex: 7043 entries, 0 to 7042\n",
      "Data columns (total 21 columns):\n",
      " #   Column            Non-Null Count  Dtype  \n",
      "---  ------            --------------  -----  \n",
      " 0   customerID        7043 non-null   object \n",
      " 1   gender            7043 non-null   object \n",
      " 2   SeniorCitizen     7043 non-null   int64  \n",
      " 3   Partner           7043 non-null   object \n",
      " 4   Dependents        7043 non-null   object \n",
      " 5   tenure            7043 non-null   int64  \n",
      " 6   PhoneService      7043 non-null   object \n",
      " 7   MultipleLines     7043 non-null   object \n",
      " 8   InternetService   7043 non-null   object \n",
      " 9   OnlineSecurity    7043 non-null   object \n",
      " 10  OnlineBackup      7043 non-null   object \n",
      " 11  DeviceProtection  7043 non-null   object \n",
      " 12  TechSupport       7043 non-null   object \n",
      " 13  StreamingTV       7043 non-null   object \n",
      " 14  StreamingMovies   7043 non-null   object \n",
      " 15  Contract          7043 non-null   object \n",
      " 16  PaperlessBilling  7043 non-null   object \n",
      " 17  PaymentMethod     7043 non-null   object \n",
      " 18  MonthlyCharges    7043 non-null   float64\n",
      " 19  TotalCharges      7032 non-null   float64\n",
      " 20  Churn             7043 non-null   object \n",
      "dtypes: float64(2), int64(2), object(17)\n",
      "memory usage: 1.1+ MB\n"
     ]
    },
    {
     "data": {
      "text/plain": [
       "customerID           0\n",
       "gender               0\n",
       "SeniorCitizen        0\n",
       "Partner              0\n",
       "Dependents           0\n",
       "tenure               0\n",
       "PhoneService         0\n",
       "MultipleLines        0\n",
       "InternetService      0\n",
       "OnlineSecurity       0\n",
       "OnlineBackup         0\n",
       "DeviceProtection     0\n",
       "TechSupport          0\n",
       "StreamingTV          0\n",
       "StreamingMovies      0\n",
       "Contract             0\n",
       "PaperlessBilling     0\n",
       "PaymentMethod        0\n",
       "MonthlyCharges       0\n",
       "TotalCharges        11\n",
       "Churn                0\n",
       "dtype: int64"
      ]
     },
     "execution_count": 6,
     "metadata": {},
     "output_type": "execute_result"
    }
   ],
   "source": [
    "## the dataset has no Null values but the field TotalCharges is set as object type instead of float64\n",
    "## convert TotalCharges to numeric and convert blanks to NaN\n",
    "telco_cust_churn['TotalCharges'] = pd.to_numeric(telco_cust_churn['TotalCharges'], errors='coerce')\n",
    "\n",
    "telco_cust_churn.info()\n",
    "\n",
    "telco_cust_churn.isnull().sum()"
   ]
  },
  {
   "cell_type": "code",
   "execution_count": 7,
   "id": "4cc7a71a-a4b5-47cb-8868-a540c5ddc87b",
   "metadata": {},
   "outputs": [
    {
     "name": "stdout",
     "output_type": "stream",
     "text": [
      "<class 'pandas.core.frame.DataFrame'>\n",
      "Index: 7032 entries, 0 to 7042\n",
      "Data columns (total 21 columns):\n",
      " #   Column            Non-Null Count  Dtype  \n",
      "---  ------            --------------  -----  \n",
      " 0   customerID        7032 non-null   object \n",
      " 1   gender            7032 non-null   object \n",
      " 2   SeniorCitizen     7032 non-null   int64  \n",
      " 3   Partner           7032 non-null   object \n",
      " 4   Dependents        7032 non-null   object \n",
      " 5   tenure            7032 non-null   int64  \n",
      " 6   PhoneService      7032 non-null   object \n",
      " 7   MultipleLines     7032 non-null   object \n",
      " 8   InternetService   7032 non-null   object \n",
      " 9   OnlineSecurity    7032 non-null   object \n",
      " 10  OnlineBackup      7032 non-null   object \n",
      " 11  DeviceProtection  7032 non-null   object \n",
      " 12  TechSupport       7032 non-null   object \n",
      " 13  StreamingTV       7032 non-null   object \n",
      " 14  StreamingMovies   7032 non-null   object \n",
      " 15  Contract          7032 non-null   object \n",
      " 16  PaperlessBilling  7032 non-null   object \n",
      " 17  PaymentMethod     7032 non-null   object \n",
      " 18  MonthlyCharges    7032 non-null   float64\n",
      " 19  TotalCharges      7032 non-null   float64\n",
      " 20  Churn             7032 non-null   object \n",
      "dtypes: float64(2), int64(2), object(17)\n",
      "memory usage: 1.2+ MB\n"
     ]
    },
    {
     "data": {
      "text/plain": [
       "customerID          0\n",
       "gender              0\n",
       "SeniorCitizen       0\n",
       "Partner             0\n",
       "Dependents          0\n",
       "tenure              0\n",
       "PhoneService        0\n",
       "MultipleLines       0\n",
       "InternetService     0\n",
       "OnlineSecurity      0\n",
       "OnlineBackup        0\n",
       "DeviceProtection    0\n",
       "TechSupport         0\n",
       "StreamingTV         0\n",
       "StreamingMovies     0\n",
       "Contract            0\n",
       "PaperlessBilling    0\n",
       "PaymentMethod       0\n",
       "MonthlyCharges      0\n",
       "TotalCharges        0\n",
       "Churn               0\n",
       "dtype: int64"
      ]
     },
     "execution_count": 7,
     "metadata": {},
     "output_type": "execute_result"
    }
   ],
   "source": [
    "## let's drop the 11 NAN field in TotalCharges\n",
    "telco_cust_churn = telco_cust_churn.dropna(subset=['TotalCharges'])\n",
    "\n",
    "telco_cust_churn.info()\n",
    "\n",
    "telco_cust_churn.isnull().sum()"
   ]
  },
  {
   "cell_type": "code",
   "execution_count": 13,
   "id": "da38fd81-5d6f-4f4b-abdb-9f73afb271a7",
   "metadata": {},
   "outputs": [
    {
     "data": {
      "text/plain": [
       "Churn\n",
       "No     5174\n",
       "Yes    1869\n",
       "Name: count, dtype: int64"
      ]
     },
     "execution_count": 13,
     "metadata": {},
     "output_type": "execute_result"
    }
   ],
   "source": [
    "churn_split = telco_cust_churn['Churn'].value_counts()\n",
    "churn_split ## Getting a count of churn to non-churn customer in the dataset"
   ]
  },
  {
   "cell_type": "code",
   "execution_count": 12,
   "id": "7b96c2a7-9090-4449-aa3c-dd7c06f09275",
   "metadata": {},
   "outputs": [
    {
     "data": {
      "image/png": "[encoded data removed]",
      "text/plain": [
       "<Figure size 300x200 with 1 Axes>"
      ]
     },
     "metadata": {},
     "output_type": "display_data"
    }
   ],
   "source": [
    "totchg_tenure = telco_cust_churn.groupby('tenure')['TotalCharges'].sum()\n",
    "\n",
    "top_10_tenures = totchg_tenure.nlargest(10)\n",
    "import matplotlib.pyplot as plt\n",
    "# Plotting\n",
    "plt.figure(figsize=(3, 2))\n",
    "top_10_tenures.plot(kind='bar', color='skyblue')\n",
    "plt.title('Top 10 Tenures by Total Charge')\n",
    "plt.xlabel('Tenure')\n",
    "plt.ylabel('Total Charge')\n",
    "plt.show()"
   ]
  },
  {
   "cell_type": "code",
   "execution_count": 20,
   "id": "27ecc6e1-5dd4-4e17-ad33-d430727f74ce",
   "metadata": {},
   "outputs": [
    {
     "data": {
      "image/png": "[encoded data removed]",
      "text/plain": [
       "<Figure size 1000x800 with 1 Axes>"
      ]
     },
     "metadata": {},
     "output_type": "display_data"
    }
   ],
   "source": [
    "cust_tenure = telco_cust_churn.groupby('tenure')['customerID'].nunique()\n",
    "# Plotting\n",
    "plt.figure(figsize=(10, 8))\n",
    "cust_tenure.plot(kind='bar', color='skyblue')\n",
    "plt.title('No. of Customers by Tenure')\n",
    "plt.xlabel('Tenure')\n",
    "plt.ylabel('no. of Customers')\n",
    "plt.show()"
   ]
  },
  {
   "cell_type": "code",
   "execution_count": 14,
   "id": "bc1146b4-adfb-4a08-a48c-99eaa2100b62",
   "metadata": {},
   "outputs": [
    {
     "data": {
      "text/plain": [
       "gender\n",
       "Male      3555\n",
       "Female    3488\n",
       "Name: count, dtype: int64"
      ]
     },
     "execution_count": 14,
     "metadata": {},
     "output_type": "execute_result"
    }
   ],
   "source": [
    "gender_split = telco_cust_churn['gender'].value_counts()\n",
    "gender_split ## Getting a count by gender in the dataset"
   ]
  },
  {
   "cell_type": "code",
   "execution_count": 15,
   "id": "104a6355-7efe-48d8-898c-8d24358c692e",
   "metadata": {},
   "outputs": [
    {
     "name": "stdout",
     "output_type": "stream",
     "text": [
      "gender\n",
      "Male      3555\n",
      "Female    3488\n",
      "Name: count, dtype: int64\n",
      "SeniorCitizen\n",
      "0    5901\n",
      "1    1142\n",
      "Name: count, dtype: int64\n",
      "Partner\n",
      "No     3641\n",
      "Yes    3402\n",
      "Name: count, dtype: int64\n",
      "Dependents\n",
      "No     4933\n",
      "Yes    2110\n",
      "Name: count, dtype: int64\n",
      "tenure\n",
      "1     613\n",
      "72    362\n",
      "2     238\n",
      "3     200\n",
      "4     176\n",
      "     ... \n",
      "28     57\n",
      "39     56\n",
      "44     51\n",
      "36     50\n",
      "0      11\n",
      "Name: count, Length: 73, dtype: int64\n",
      "PhoneService\n",
      "Yes    6361\n",
      "No      682\n",
      "Name: count, dtype: int64\n",
      "MultipleLines\n",
      "No                  3390\n",
      "Yes                 2971\n",
      "No phone service     682\n",
      "Name: count, dtype: int64\n",
      "InternetService\n",
      "Fiber optic    3096\n",
      "DSL            2421\n",
      "No             1526\n",
      "Name: count, dtype: int64\n",
      "OnlineSecurity\n",
      "No                     3498\n",
      "Yes                    2019\n",
      "No internet service    1526\n",
      "Name: count, dtype: int64\n",
      "OnlineBackup\n",
      "No                     3088\n",
      "Yes                    2429\n",
      "No internet service    1526\n",
      "Name: count, dtype: int64\n",
      "DeviceProtection\n",
      "No                     3095\n",
      "Yes                    2422\n",
      "No internet service    1526\n",
      "Name: count, dtype: int64\n",
      "TechSupport\n",
      "No                     3473\n",
      "Yes                    2044\n",
      "No internet service    1526\n",
      "Name: count, dtype: int64\n",
      "StreamingTV\n",
      "No                     2810\n",
      "Yes                    2707\n",
      "No internet service    1526\n",
      "Name: count, dtype: int64\n",
      "StreamingMovies\n",
      "No                     2785\n",
      "Yes                    2732\n",
      "No internet service    1526\n",
      "Name: count, dtype: int64\n",
      "Contract\n",
      "Month-to-month    3875\n",
      "Two year          1695\n",
      "One year          1473\n",
      "Name: count, dtype: int64\n",
      "PaperlessBilling\n",
      "Yes    4171\n",
      "No     2872\n",
      "Name: count, dtype: int64\n",
      "PaymentMethod\n",
      "Electronic check             2365\n",
      "Mailed check                 1612\n",
      "Bank transfer (automatic)    1544\n",
      "Credit card (automatic)      1522\n",
      "Name: count, dtype: int64\n",
      "MonthlyCharges\n",
      "20.05     61\n",
      "19.85     45\n",
      "19.95     44\n",
      "19.90     44\n",
      "20.00     43\n",
      "          ..\n",
      "23.65      1\n",
      "114.70     1\n",
      "43.65      1\n",
      "87.80      1\n",
      "78.70      1\n",
      "Name: count, Length: 1585, dtype: int64\n",
      "TotalCharges\n",
      "20.20      11\n",
      "19.75       9\n",
      "20.05       8\n",
      "19.90       8\n",
      "19.65       8\n",
      "           ..\n",
      "6849.40     1\n",
      "692.35      1\n",
      "130.15      1\n",
      "3211.90     1\n",
      "6844.50     1\n",
      "Name: count, Length: 6530, dtype: int64\n",
      "Churn\n",
      "No     5174\n",
      "Yes    1869\n",
      "Name: count, dtype: int64\n"
     ]
    }
   ],
   "source": [
    "cols = telco_cust_churn.columns\n",
    "#telco_cust_churn.groupby['customerID',].nunique()\n",
    "col  = cols[1:]\n",
    "\n",
    "for c in col:\n",
    "    print(telco_cust_churn[c].value_counts())\n"
   ]
  },
  {
   "cell_type": "markdown",
   "id": "7ef0a5f0-f01c-4ef7-ac84-e611b8c035e8",
   "metadata": {},
   "source": [
    "### Label Encoding the categorical and Standard Scaling the numeric fields"
   ]
  },
  {
   "cell_type": "code",
   "execution_count": 21,
   "id": "3d30e822-1e5b-4eec-b874-c717a83d5622",
   "metadata": {},
   "outputs": [
    {
     "name": "stdout",
     "output_type": "stream",
     "text": [
      "['SeniorCitizen', 'tenure', 'MonthlyCharges', 'TotalCharges']\n",
      "-------\n",
      "['customerID', 'gender', 'Partner', 'Dependents', 'PhoneService', 'MultipleLines', 'InternetService', 'OnlineSecurity', 'OnlineBackup', 'DeviceProtection', 'TechSupport', 'StreamingTV', 'StreamingMovies', 'Contract', 'PaperlessBilling', 'PaymentMethod', 'Churn']\n"
     ]
    }
   ],
   "source": [
    "# Get column names based on dtype\n",
    "numeric_columns = telco_cust_churn.select_dtypes(include=['int64', 'float64']).columns.tolist()\n",
    "print(numeric_columns)\n",
    "print('-------')\n",
    "categorical_columns = telco_cust_churn.select_dtypes(include=['object']).columns.tolist()\n",
    "print(categorical_columns)"
   ]
  },
  {
   "cell_type": "code",
   "execution_count": 22,
   "id": "9dadabee-bb26-49a4-94c3-4318a0bca294",
   "metadata": {},
   "outputs": [],
   "source": [
    "from sklearn.preprocessing import LabelEncoder, StandardScaler\n",
    "\n",
    "# Encode categorical features\n",
    "label_encoder = LabelEncoder()\n",
    "for col in telco_cust_churn:\n",
    "    telco_cust_churn[col] = label_encoder.fit_transform(telco_cust_churn[col])\n",
    "\n",
    "# Standard scaling numeric columns\n",
    "scaler = StandardScaler()\n",
    "telco_cust_churn[numeric_columns] = scaler.fit_transform(telco_cust_churn[numeric_columns])"
   ]
  },
  {
   "cell_type": "code",
   "execution_count": 23,
   "id": "5fa4cf21-4296-45fe-a022-2a2c77f82a71",
   "metadata": {},
   "outputs": [
    {
     "data": {
      "text/html": [
       "<div>\n",
       "<style scoped>\n",
       "    .dataframe tbody tr th:only-of-type {\n",
       "        vertical-align: middle;\n",
       "    }\n",
       "\n",
       "    .dataframe tbody tr th {\n",
       "        vertical-align: top;\n",
       "    }\n",
       "\n",
       "    .dataframe thead th {\n",
       "        text-align: right;\n",
       "    }\n",
       "</style>\n",
       "<table border=\"1\" class=\"dataframe\">\n",
       "  <thead>\n",
       "    <tr style=\"text-align: right;\">\n",
       "      <th></th>\n",
       "      <th>customerID</th>\n",
       "      <th>gender</th>\n",
       "      <th>SeniorCitizen</th>\n",
       "      <th>Partner</th>\n",
       "      <th>Dependents</th>\n",
       "      <th>tenure</th>\n",
       "      <th>PhoneService</th>\n",
       "      <th>MultipleLines</th>\n",
       "      <th>InternetService</th>\n",
       "      <th>OnlineSecurity</th>\n",
       "      <th>...</th>\n",
       "      <th>DeviceProtection</th>\n",
       "      <th>TechSupport</th>\n",
       "      <th>StreamingTV</th>\n",
       "      <th>StreamingMovies</th>\n",
       "      <th>Contract</th>\n",
       "      <th>PaperlessBilling</th>\n",
       "      <th>PaymentMethod</th>\n",
       "      <th>MonthlyCharges</th>\n",
       "      <th>TotalCharges</th>\n",
       "      <th>Churn</th>\n",
       "    </tr>\n",
       "  </thead>\n",
       "  <tbody>\n",
       "    <tr>\n",
       "      <th>0</th>\n",
       "      <td>5375</td>\n",
       "      <td>0</td>\n",
       "      <td>-0.439916</td>\n",
       "      <td>1</td>\n",
       "      <td>0</td>\n",
       "      <td>-1.277445</td>\n",
       "      <td>0</td>\n",
       "      <td>1</td>\n",
       "      <td>0</td>\n",
       "      <td>0</td>\n",
       "      <td>...</td>\n",
       "      <td>0</td>\n",
       "      <td>0</td>\n",
       "      <td>0</td>\n",
       "      <td>0</td>\n",
       "      <td>0</td>\n",
       "      <td>1</td>\n",
       "      <td>2</td>\n",
       "      <td>-1.131766</td>\n",
       "      <td>-1.558384</td>\n",
       "      <td>0</td>\n",
       "    </tr>\n",
       "    <tr>\n",
       "      <th>1</th>\n",
       "      <td>3962</td>\n",
       "      <td>1</td>\n",
       "      <td>-0.439916</td>\n",
       "      <td>0</td>\n",
       "      <td>0</td>\n",
       "      <td>0.066327</td>\n",
       "      <td>1</td>\n",
       "      <td>0</td>\n",
       "      <td>0</td>\n",
       "      <td>2</td>\n",
       "      <td>...</td>\n",
       "      <td>2</td>\n",
       "      <td>0</td>\n",
       "      <td>0</td>\n",
       "      <td>0</td>\n",
       "      <td>1</td>\n",
       "      <td>0</td>\n",
       "      <td>3</td>\n",
       "      <td>-0.387740</td>\n",
       "      <td>0.266039</td>\n",
       "      <td>0</td>\n",
       "    </tr>\n",
       "  </tbody>\n",
       "</table>\n",
       "<p>2 rows × 21 columns</p>\n",
       "</div>"
      ],
      "text/plain": [
       "   customerID  gender  SeniorCitizen  Partner  Dependents    tenure  \\\n",
       "0        5375       0      -0.439916        1           0 -1.277445   \n",
       "1        3962       1      -0.439916        0           0  0.066327   \n",
       "\n",
       "   PhoneService  MultipleLines  InternetService  OnlineSecurity  ...  \\\n",
       "0             0              1                0               0  ...   \n",
       "1             1              0                0               2  ...   \n",
       "\n",
       "   DeviceProtection  TechSupport  StreamingTV  StreamingMovies  Contract  \\\n",
       "0                 0            0            0                0         0   \n",
       "1                 2            0            0                0         1   \n",
       "\n",
       "   PaperlessBilling  PaymentMethod  MonthlyCharges  TotalCharges  Churn  \n",
       "0                 1              2       -1.131766     -1.558384      0  \n",
       "1                 0              3       -0.387740      0.266039      0  \n",
       "\n",
       "[2 rows x 21 columns]"
      ]
     },
     "execution_count": 23,
     "metadata": {},
     "output_type": "execute_result"
    }
   ],
   "source": [
    "telco_cust_churn.head(2)"
   ]
  },
  {
   "cell_type": "markdown",
   "id": "38e971b7-702c-458d-a612-d3844cffd325",
   "metadata": {},
   "source": [
    "### Splitting the dataframe into X-Y and test-train set"
   ]
  },
  {
   "cell_type": "code",
   "execution_count": 24,
   "id": "2f921b08-6195-4a05-bdec-c852f198dd22",
   "metadata": {},
   "outputs": [
    {
     "name": "stdout",
     "output_type": "stream",
     "text": [
      "   customerID  gender  SeniorCitizen  Partner  Dependents    tenure  \\\n",
      "0        5375       0      -0.439916        1           0 -1.277445   \n",
      "1        3962       1      -0.439916        0           0  0.066327   \n",
      "\n",
      "   PhoneService  MultipleLines  InternetService  OnlineSecurity  OnlineBackup  \\\n",
      "0             0              1                0               0             2   \n",
      "1             1              0                0               2             0   \n",
      "\n",
      "   DeviceProtection  TechSupport  StreamingTV  StreamingMovies  Contract  \\\n",
      "0                 0            0            0                0         0   \n",
      "1                 2            0            0                0         1   \n",
      "\n",
      "   PaperlessBilling  PaymentMethod  MonthlyCharges  TotalCharges  \n",
      "0                 1              2       -1.131766     -1.558384  \n",
      "1                 0              3       -0.387740      0.266039  \n",
      "------\n",
      "0    0\n",
      "1    0\n",
      "Name: Churn, dtype: int32\n"
     ]
    }
   ],
   "source": [
    "X = telco_cust_churn.iloc[ : , :20]\n",
    "print(X.head(2))\n",
    "print(\"------\")\n",
    "y = telco_cust_churn['Churn']\n",
    "print(y.head(2))"
   ]
  },
  {
   "cell_type": "code",
   "execution_count": 25,
   "id": "b7827f95-9e40-4068-b102-c2c2d4877772",
   "metadata": {},
   "outputs": [
    {
     "name": "stdout",
     "output_type": "stream",
     "text": [
      "X_train: (5634, 20), y_train: (5634,)\n",
      "X_test: (1409, 20), y_test: (1409,)\n"
     ]
    }
   ],
   "source": [
    "import collections\n",
    "from sklearn.model_selection import train_test_split\n",
    "\n",
    "TRAIN_SIZE = 0.8\n",
    "TEST_SIZE  = 0.2\n",
    "\n",
    "def train_val_test_split(X, y, train_size):\n",
    "    \"\"\"Split dataset into data splits.\"\"\"\n",
    "    X_train, X_test, y_train, y_test = train_test_split(X, y, train_size=TRAIN_SIZE, stratify=y)\n",
    "    return X_train, X_test, y_train, y_test\n",
    "\n",
    "# Create data splits\n",
    "X_train, X_test, y_train, y_test = train_val_test_split(\n",
    "    X=X, y=y, train_size=TRAIN_SIZE)\n",
    "\n",
    "print (f\"X_train: {X_train.shape}, y_train: {y_train.shape}\")\n",
    "print (f\"X_test: {X_test.shape}, y_test: {y_test.shape}\")\n"
   ]
  },
  {
   "cell_type": "code",
   "execution_count": 26,
   "id": "4859c32c-6435-40e3-83b3-3a68af6d803c",
   "metadata": {},
   "outputs": [
    {
     "name": "stdout",
     "output_type": "stream",
     "text": [
      "counts: [4139 1495]\n",
      "weights: {0: 0.00024160425223483932, 1: 0.0006688963210702341}\n"
     ]
    }
   ],
   "source": [
    "# Class weights\n",
    "counts = np.bincount(y_train)\n",
    "class_weights = {i: 1.0/count for i, count in enumerate(counts)}\n",
    "print (f\"counts: {counts}\\nweights: {class_weights}\")"
   ]
  },
  {
   "cell_type": "code",
   "execution_count": 17,
   "id": "72fe8045-be87-408b-8b89-308421f566dc",
   "metadata": {},
   "outputs": [
    {
     "name": "stdout",
     "output_type": "stream",
     "text": [
      "Requirement already satisfied: torch in c:\\users\\admin\\anaconda3\\lib\\site-packages (2.2.2)\n",
      "Requirement already satisfied: filelock in c:\\users\\admin\\anaconda3\\lib\\site-packages (from torch) (3.13.1)\n",
      "Requirement already satisfied: typing-extensions>=4.8.0 in c:\\users\\admin\\anaconda3\\lib\\site-packages (from torch) (4.9.0)\n",
      "Requirement already satisfied: sympy in c:\\users\\admin\\anaconda3\\lib\\site-packages (from torch) (1.12)\n",
      "Requirement already satisfied: networkx in c:\\users\\admin\\anaconda3\\lib\\site-packages (from torch) (3.1)\n",
      "Requirement already satisfied: jinja2 in c:\\users\\admin\\anaconda3\\lib\\site-packages (from torch) (3.1.3)\n",
      "Requirement already satisfied: fsspec in c:\\users\\admin\\anaconda3\\lib\\site-packages (from torch) (2023.10.0)\n",
      "Requirement already satisfied: MarkupSafe>=2.0 in c:\\users\\admin\\anaconda3\\lib\\site-packages (from jinja2->torch) (2.1.3)\n",
      "Requirement already satisfied: mpmath>=0.19 in c:\\users\\admin\\anaconda3\\lib\\site-packages (from sympy->torch) (1.3.0)\n",
      "Note: you may need to restart the kernel to use updated packages.\n"
     ]
    }
   ],
   "source": [
    "!pip install torch"
   ]
  },
  {
   "cell_type": "markdown",
   "id": "11cd4ea1-de68-44f8-bc9c-343ff611ff7d",
   "metadata": {},
   "source": [
    "### Defining a simple Non-Linear Neural Network"
   ]
  },
  {
   "cell_type": "code",
   "execution_count": 81,
   "id": "315646cd-a2db-4a41-ad02-475739e255b7",
   "metadata": {},
   "outputs": [
    {
     "name": "stdout",
     "output_type": "stream",
     "text": [
      "<bound method Module.named_parameters of SimpleModel(\n",
      "  (layer1): Linear(in_features=20, out_features=60, bias=True)\n",
      "  (layer_out): Linear(in_features=60, out_features=1, bias=True)\n",
      "  (relu): ReLU()\n",
      "  (sigmoid): Sigmoid()\n",
      "  (dropout): Dropout(p=0.1, inplace=False)\n",
      "  (batchnorm1): BatchNorm1d(60, eps=1e-05, momentum=0.1, affine=True, track_running_stats=True)\n",
      ")>\n"
     ]
    }
   ],
   "source": [
    "import torch\n",
    "\n",
    "# Set seed for reproducibility\n",
    "torch.manual_seed(SEED)\n",
    "\n",
    "from torch import nn\n",
    "import torch.nn.functional as F\n",
    "\n",
    "INPUT_DIM = X_train.shape[1] # X is 20-dimensional\n",
    "HIDDEN_DIM = 60   # keeping layer 1 with 60\n",
    "\n",
    "NUM_CLASSES = 1    # 1 class (binary for churn or no-churn)\n",
    "\n",
    "class SimpleModel(nn.Module):\n",
    "    def __init__(self, input_dim, hidden_dim, num_classes):\n",
    "        super(SimpleModel, self).__init__()\n",
    "        self.layer1 = nn.Linear(input_dim, hidden_dim)\n",
    "        self.layer_out = nn.Linear(hidden_dim, num_classes)\n",
    "        \n",
    "        self.relu = nn.ReLU() \n",
    "        self.sigmoid = nn.Sigmoid()\n",
    "        self.dropout = nn.Dropout(p=0.1)\n",
    "        self.batchnorm1 = nn.BatchNorm1d(hidden_dim)\n",
    "\n",
    "    def forward(self, x_in):\n",
    "        z = F.relu(self.layer1(x_in)) # rectified linear unit (ReLU) activation\n",
    "        z = self.batchnorm1(z)\n",
    "        z = self.dropout(z)\n",
    "        z = self.sigmoid(self.layer_out(z))\n",
    "        \n",
    "        return z\n",
    "    \n",
    "    \n",
    "# Initialize model\n",
    "simple_model = SimpleModel(input_dim=INPUT_DIM, hidden_dim=HIDDEN_DIM, num_classes=NUM_CLASSES)\n",
    "print (simple_model.named_parameters)\n"
   ]
  },
  {
   "cell_type": "markdown",
   "id": "b5b54ffe-a272-495d-943d-1dfe563780f3",
   "metadata": {},
   "source": [
    "### Setup before Training"
   ]
  },
  {
   "cell_type": "code",
   "execution_count": 93,
   "id": "ed294c6c-7169-4e7b-8547-97e427779292",
   "metadata": {},
   "outputs": [],
   "source": [
    "from torch.optim import Adam\n",
    "from torch.utils.data import TensorDataset, DataLoader\n",
    "\n",
    "LEARNING_RATE = 0.001\n",
    "BATCH_SIZE = 32\n",
    "\n",
    "\n",
    "# Define Loss\n",
    "class_weights_tensor = torch.Tensor(list(class_weights.values()))\n",
    "\n",
    "loss_func = nn.BCELoss()  ## using Binary cross Entropy Loss function as the output is 0/1 (binary)\n",
    "##weight=class_weights_tensor\n",
    "\n",
    "# Optimizer\n",
    "optimizer = Adam(simple_model.parameters(), lr=LEARNING_RATE)\n",
    "\n",
    "# Convert DF to Tensor\n",
    "X_train_tensor = torch.Tensor(X_train.values).float()\n",
    "y_train_tensor = torch.Tensor(y_train.values).float()\n",
    "\n",
    "# Convert DF to Tensor\n",
    "X_test_tensor = torch.Tensor(X_test.values).float()\n",
    "y_test_tensor = torch.Tensor(y_test.values).float()\n",
    "\n",
    "#Both x_train and y_train can be combined in a single TensorDataset, which will be easier to iterate over and slice\n",
    "y_train_tensor = y_train_tensor.unsqueeze(1)\n",
    "train_ds = TensorDataset(X_train_tensor, y_train_tensor)\n",
    "\n",
    "#Pytorch’s DataLoader is responsible for managing batches. \n",
    "#You can create a DataLoader from any Dataset. DataLoader makes it easier to iterate over batches\n",
    "train_dl = DataLoader(train_ds, batch_size=BATCH_SIZE)\n",
    "\n",
    "#For the test dataset\n",
    "y_test_tensor = y_test_tensor.unsqueeze(1)\n",
    "test_ds = TensorDataset(X_test_tensor, y_test_tensor)\n",
    "test_loader = DataLoader(test_ds, batch_size=BATCH_SIZE)"
   ]
  },
  {
   "cell_type": "markdown",
   "id": "ee3ccaeb-47af-46a1-84cc-996fd650e347",
   "metadata": {},
   "source": [
    "### Training"
   ]
  },
  {
   "cell_type": "code",
   "execution_count": 114,
   "id": "20f5cf5a-8fd4-4eb5-b5cf-db02a7a53f29",
   "metadata": {},
   "outputs": [
    {
     "data": {
      "image/png": "[encoded data removed]",
      "text/plain": [
       "<Figure size 640x480 with 1 Axes>"
      ]
     },
     "metadata": {},
     "output_type": "display_data"
    }
   ],
   "source": [
    "# Training\n",
    "NUM_EPOCHS = 10\n",
    "\n",
    "simple_model.train()\n",
    "\n",
    "train_loss = []\n",
    "\n",
    "for epoch in range(NUM_EPOCHS):\n",
    "    #Within each epoch run the subsets of data = batch sizes.\n",
    "    for xb, yb in train_dl:\n",
    "        y_pred = simple_model(xb)     # Forward Propagation\n",
    "        loss = loss_func(y_pred, yb)  # Loss Computation\n",
    "        optimizer.zero_grad()         # Clearing all previous gradients, setting to zero \n",
    "        loss.backward()               # Back Propagation\n",
    "        optimizer.step()              # Updating the parameters \n",
    "    #print(\"Loss in iteration :\"+str(epoch)+\" is: \"+str(loss.item()))\n",
    "    train_loss.append(loss.item())\n",
    "\n",
    "plt.plot(train_loss)\n",
    "plt.show()"
   ]
  },
  {
   "cell_type": "markdown",
   "id": "082b0bab-254b-4947-b8fa-1a2a8588ed74",
   "metadata": {},
   "source": [
    "### Defning Non-Linear Neural Network\n",
    "#### tuning with layers and nnodes"
   ]
  },
  {
   "cell_type": "code",
   "execution_count": 106,
   "id": "635bd0cb-78f8-4d9b-bace-8685c7383058",
   "metadata": {},
   "outputs": [
    {
     "name": "stdout",
     "output_type": "stream",
     "text": [
      "<bound method Module.named_parameters of tunedModel(\n",
      "  (layer1): Linear(in_features=20, out_features=120, bias=True)\n",
      "  (layer2): Linear(in_features=120, out_features=60, bias=True)\n",
      "  (layer3): Linear(in_features=60, out_features=30, bias=True)\n",
      "  (layer_out): Linear(in_features=30, out_features=1, bias=True)\n",
      "  (relu): ReLU()\n",
      "  (sigmoid): Sigmoid()\n",
      "  (dropout): Dropout(p=0.1, inplace=False)\n",
      "  (batchnorm1): BatchNorm1d(120, eps=1e-05, momentum=0.1, affine=True, track_running_stats=True)\n",
      "  (batchnorm2): BatchNorm1d(60, eps=1e-05, momentum=0.1, affine=True, track_running_stats=True)\n",
      "  (batchnorm3): BatchNorm1d(30, eps=1e-05, momentum=0.1, affine=True, track_running_stats=True)\n",
      ")>\n"
     ]
    }
   ],
   "source": [
    "import torch\n",
    "\n",
    "# Set seed for reproducibility\n",
    "torch.manual_seed(SEED)\n",
    "\n",
    "from torch import nn\n",
    "import torch.nn.functional as F\n",
    "\n",
    "INPUT_DIM = X_train.shape[1] # X is 20-dimensional\n",
    "HIDDEN_DIM = [120, 60, 30]   # keeping multiple layer\n",
    "\n",
    "NUM_CLASSES = 1    # 1 class (binary for churn or no-churn)\n",
    "\n",
    "class tunedModel(nn.Module):\n",
    "    def __init__(self, input_dim, hidden_dim, num_classes):\n",
    "        super(tunedModel, self).__init__()\n",
    "        self.layer1 = nn.Linear(input_dim, hidden_dim[0])\n",
    "        self.layer2 = nn.Linear(hidden_dim[0], hidden_dim[1])\n",
    "        self.layer3 = nn.Linear(hidden_dim[1], hidden_dim[2])\n",
    "        self.layer_out = nn.Linear(hidden_dim[2], num_classes)\n",
    "        \n",
    "        self.relu = nn.ReLU() \n",
    "        self.sigmoid = nn.Sigmoid()\n",
    "        self.dropout = nn.Dropout(p=0.1)\n",
    "        self.batchnorm1 = nn.BatchNorm1d(hidden_dim[0])\n",
    "        self.batchnorm2 = nn.BatchNorm1d(hidden_dim[1])\n",
    "        self.batchnorm3 = nn.BatchNorm1d(hidden_dim[2])\n",
    "\n",
    "    def forward(self, x_in):\n",
    "        z = F.relu(self.layer1(x_in)) # rectified linear unit (ReLU) activation\n",
    "        z = self.batchnorm1(z)\n",
    "        z = F.relu(self.layer2(z))\n",
    "        z = self.batchnorm2(z)\n",
    "        z = F.relu(self.layer3(z))\n",
    "        z = self.batchnorm3(z)\n",
    "        z = self.dropout(z)\n",
    "        z = self.sigmoid(self.layer_out(z))\n",
    "        \n",
    "        return z\n",
    "    \n",
    "# Initialize model\n",
    "tuned_model = tunedModel(input_dim=INPUT_DIM, hidden_dim=HIDDEN_DIM, num_classes=NUM_CLASSES)\n",
    "print (tuned_model.named_parameters)"
   ]
  },
  {
   "cell_type": "code",
   "execution_count": 116,
   "id": "5ca3589c-9e1e-4b34-83f5-f6e9f8825db9",
   "metadata": {},
   "outputs": [
    {
     "data": {
      "image/png": "[encoded data removed]",
      "text/plain": [
       "<Figure size 640x480 with 1 Axes>"
      ]
     },
     "metadata": {},
     "output_type": "display_data"
    }
   ],
   "source": [
    "# Training\n",
    "NUM_EPOCHS = 15\n",
    "LEARNING_RATE = 0.001\n",
    "\n",
    "tuned_model.train()\n",
    "\n",
    "tuned_train_loss = []\n",
    "\n",
    "for epoch in range(NUM_EPOCHS):\n",
    "    #Within each epoch run the subsets of data = batch sizes.\n",
    "    for xb, yb in train_dl:\n",
    "        y_pred = tuned_model(xb)     # Forward Propagation\n",
    "        loss = loss_func(y_pred, yb)  # Loss Computation\n",
    "        optimizer.zero_grad()         # Clearing all previous gradients, setting to zero \n",
    "        loss.backward()               # Back Propagation\n",
    "        optimizer.step()              # Updating the parameters \n",
    "    #print(\"Loss in iteration :\"+str(epoch)+\" is: \"+str(loss.item()))\n",
    "    tuned_train_loss.append(loss.item())\n",
    "\n",
    "plt.plot(tuned_train_loss)\n",
    "plt.show()"
   ]
  },
  {
   "cell_type": "markdown",
   "id": "b5d39371-6c0b-42bb-9361-eb6e1cea0cc5",
   "metadata": {},
   "source": [
    "### Running the tuned model on Test data"
   ]
  },
  {
   "cell_type": "code",
   "execution_count": 122,
   "id": "6b44a714-4aa1-42d9-802e-4f680ec8b6de",
   "metadata": {},
   "outputs": [],
   "source": [
    "import itertools\n",
    "\n",
    "y_pred_list = []\n",
    "tuned_model.eval()\n",
    "\n",
    "with torch.no_grad():\n",
    "    for xb_test,yb_test  in test_loader:\n",
    "        y_test_pred = tuned_model(xb_test)\n",
    "        y_pred_tag = torch.round(y_test_pred)\n",
    "        y_pred_list.append(y_pred_tag.detach().numpy())\n",
    "\n",
    "#Takes arrays and makes them list of list for each batch        \n",
    "y_pred_list = [a.squeeze().tolist() for a in y_pred_list]\n",
    "#y_pred_list\n",
    "#flattens the lists in sequence\n",
    "\n",
    "y_pred_list = [a.tolist() if isinstance(a, torch.Tensor) else [a] for a in y_pred_list]\n",
    "ytest_pred = list(itertools.chain.from_iterable(y_pred_list))"
   ]
  },
  {
   "cell_type": "markdown",
   "id": "e85164be-4a2e-482f-ad15-cde1fbd40396",
   "metadata": {},
   "source": [
    "### Metrics \n",
    "\n",
    "Prcision, Recall, F1 S1 Score"
   ]
  }
 ],
 "metadata": {
  "kernelspec": {
   "display_name": "Python 3 (ipykernel)",
   "language": "python",
   "name": "python3"
  },
  "language_info": {
   "codemirror_mode": {
    "name": "ipython",
    "version": 3
   },
   "file_extension": ".py",
   "mimetype": "text/x-python",
   "name": "python",
   "nbconvert_exporter": "python",
   "pygments_lexer": "ipython3",
   "version": "3.11.7"
  }
 },
 "nbformat": 4,
 "nbformat_minor": 5
}
